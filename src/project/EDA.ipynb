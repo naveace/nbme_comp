{
 "cells": [
  {
   "cell_type": "code",
   "execution_count": 1,
   "metadata": {},
   "outputs": [],
   "source": [
    "%load_ext autoreload\n",
    "%autoreload 2\n",
    "import pandas as pd\n",
    "import numpy as np\n",
    "from sklearn.metrics import accuracy_score, classification_report, roc_auc_score\n",
    "from sklearn.model_selection import train_test_split\n",
    "from sklearn.base import BaseEstimator, ClassifierMixin, TransformerMixin\n",
    "from typing import Union"
   ]
  },
  {
   "cell_type": "markdown",
   "metadata": {},
   "source": [
    "# Data Exploration"
   ]
  },
  {
   "cell_type": "markdown",
   "metadata": {},
   "source": [
    "## Question: What do our different data schema look like?"
   ]
  },
  {
   "cell_type": "code",
   "execution_count": 2,
   "metadata": {},
   "outputs": [
    {
     "name": "stdout",
     "output_type": "stream",
     "text": [
      "<class 'pandas.core.frame.DataFrame'>\n",
      "RangeIndex: 143 entries, 0 to 142\n",
      "Data columns (total 3 columns):\n",
      " #   Column        Non-Null Count  Dtype \n",
      "---  ------        --------------  ----- \n",
      " 0   feature_num   143 non-null    int64 \n",
      " 1   case_num      143 non-null    int64 \n",
      " 2   feature_text  143 non-null    object\n",
      "dtypes: int64(2), object(1)\n",
      "memory usage: 3.5+ KB\n",
      "None\n",
      "   feature_num  case_num                                       feature_text\n",
      "0            0         0  Family-history-of-MI-OR-Family-history-of-myoc...\n",
      "1            1         0                 Family-history-of-thyroid-disorder\n",
      "2            2         0                                     Chest-pressure\n",
      "3            3         0                              Intermittent-symptoms\n",
      "4            4         0                                        Lightheaded\n"
     ]
    }
   ],
   "source": [
    "features:pd.DataFrame = pd.read_csv('data/features.csv')\n",
    "print(features.info())\n",
    "print(features.head())"
   ]
  },
  {
   "cell_type": "code",
   "execution_count": 3,
   "metadata": {},
   "outputs": [
    {
     "name": "stdout",
     "output_type": "stream",
     "text": [
      "<class 'pandas.core.frame.DataFrame'>\n",
      "RangeIndex: 42146 entries, 0 to 42145\n",
      "Data columns (total 3 columns):\n",
      " #   Column      Non-Null Count  Dtype \n",
      "---  ------      --------------  ----- \n",
      " 0   pn_num      42146 non-null  int64 \n",
      " 1   case_num    42146 non-null  int64 \n",
      " 2   pn_history  42146 non-null  object\n",
      "dtypes: int64(2), object(1)\n",
      "memory usage: 987.9+ KB\n",
      "None\n",
      "   pn_num  case_num                                         pn_history\n",
      "0       0         0  17-year-old male, has come to the student heal...\n",
      "1       1         0  17 yo male with recurrent palpitations for the...\n",
      "2       2         0  Dillon Cleveland is a 17 y.o. male patient wit...\n",
      "3       3         0  a 17 yo m c/o palpitation started 3 mos ago; \\...\n",
      "4       4         0  17yo male with no pmh here for evaluation of p...\n"
     ]
    }
   ],
   "source": [
    "patient_notes:pd.DataFrame = pd.read_csv('data/patient_notes.csv');\n",
    "print(patient_notes.info())\n",
    "print(patient_notes.head())"
   ]
  },
  {
   "cell_type": "code",
   "execution_count": 4,
   "metadata": {},
   "outputs": [
    {
     "name": "stdout",
     "output_type": "stream",
     "text": [
      "<class 'pandas.core.frame.DataFrame'>\n",
      "RangeIndex: 14300 entries, 0 to 14299\n",
      "Data columns (total 6 columns):\n",
      " #   Column       Non-Null Count  Dtype \n",
      "---  ------       --------------  ----- \n",
      " 0   id           14300 non-null  object\n",
      " 1   case_num     14300 non-null  int64 \n",
      " 2   pn_num       14300 non-null  int64 \n",
      " 3   feature_num  14300 non-null  int64 \n",
      " 4   annotation   14300 non-null  object\n",
      " 5   location     14300 non-null  object\n",
      "dtypes: int64(3), object(3)\n",
      "memory usage: 670.4+ KB\n",
      "None\n",
      "          id  case_num  pn_num  feature_num  \\\n",
      "0  00016_000         0      16            0   \n",
      "1  00016_001         0      16            1   \n",
      "2  00016_002         0      16            2   \n",
      "3  00016_003         0      16            3   \n",
      "4  00016_004         0      16            4   \n",
      "\n",
      "                                 annotation              location  \n",
      "0          ['dad with recent heart attcak']           ['696 724']  \n",
      "1             ['mom with \"thyroid disease']           ['668 693']  \n",
      "2                        ['chest pressure']           ['203 217']  \n",
      "3      ['intermittent episodes', 'episode']  ['70 91', '176 183']  \n",
      "4  ['felt as if he were going to pass out']           ['222 258']  \n"
     ]
    }
   ],
   "source": [
    "train:pd.DataFrame = pd.read_csv('data/train.csv');\n",
    "print(train.info())\n",
    "print(train.head())"
   ]
  },
  {
   "cell_type": "markdown",
   "metadata": {},
   "source": [
    "So it looks like we have three different fundamental indices: case_num (the case to which something belongs), pn_num (the patient note to which something belongs), and feature_num (the feature to which something belongs).\n",
    "\n",
    "In our training data, each row has a pn_num, a case_num, and a feature_num along wtih the text(s) indicating the feature and the location span(s) for that feature. Thus it is saying for every patient note and every feature present in that note, where was that feature found (note that some patient notes may not have features). The case_num seems redundant with the pn_num because patient_notes also has the case_num. \n",
    "\n",
    "Also, we only have 14,300 train entries whereas we have 42k patient notes, so many patient notes are going un-annotated. The next question I would have is how many patient notes actually have annotation, and what is the distribution of feature counts associated with patient notes (to figure out whether we have a bunch of rows in our train set for just a few notes). It also could be useful to see how many distinct patient notes we have representing each feature and how many annotations we have per case number\n"
   ]
  },
  {
   "cell_type": "markdown",
   "metadata": {},
   "source": [
    "## Question: How many patient notes actually have annoation?"
   ]
  },
  {
   "cell_type": "code",
   "execution_count": 5,
   "metadata": {},
   "outputs": [
    {
     "data": {
      "text/plain": [
       "1000"
      ]
     },
     "execution_count": 5,
     "metadata": {},
     "output_type": "execute_result"
    }
   ],
   "source": [
    "train.pn_num.nunique()"
   ]
  },
  {
   "cell_type": "markdown",
   "metadata": {},
   "source": [
    "There are 1000 notes with annotation, confirming what was in [Kaggle](https://www.kaggle.com/c/nbme-score-clinical-patient-notes/data?select=train.csv)."
   ]
  },
  {
   "cell_type": "code",
   "execution_count": 6,
   "metadata": {},
   "outputs": [
    {
     "data": {
      "text/plain": [
       "10"
      ]
     },
     "execution_count": 6,
     "metadata": {},
     "output_type": "execute_result"
    }
   ],
   "source": [
    "train.case_num.nunique()"
   ]
  },
  {
   "cell_type": "code",
   "execution_count": 7,
   "metadata": {},
   "outputs": [
    {
     "data": {
      "text/plain": [
       "case_num\n",
       "0    100\n",
       "1    100\n",
       "2    100\n",
       "3    100\n",
       "4    100\n",
       "5    100\n",
       "6    100\n",
       "7    100\n",
       "8    100\n",
       "9    100\n",
       "Name: pn_num, dtype: int64"
      ]
     },
     "execution_count": 7,
     "metadata": {},
     "output_type": "execute_result"
    }
   ],
   "source": [
    "train.groupby('case_num').pn_num.nunique()"
   ]
  },
  {
   "cell_type": "markdown",
   "metadata": {},
   "source": [
    "Each of the 10 cases has 100 patient notes annotated with them. "
   ]
  },
  {
   "cell_type": "code",
   "execution_count": 8,
   "metadata": {},
   "outputs": [
    {
     "data": {
      "text/plain": [
       "count    143.0\n",
       "mean     100.0\n",
       "std        0.0\n",
       "min      100.0\n",
       "25%      100.0\n",
       "50%      100.0\n",
       "75%      100.0\n",
       "max      100.0\n",
       "Name: pn_num, dtype: float64"
      ]
     },
     "execution_count": 8,
     "metadata": {},
     "output_type": "execute_result"
    }
   ],
   "source": [
    "train.groupby('feature_num').pn_num.nunique().describe()"
   ]
  },
  {
   "cell_type": "markdown",
   "metadata": {},
   "source": [
    "Every feature given (143 of them) has 100 total notes that have it. Very nice balance!"
   ]
  },
  {
   "cell_type": "markdown",
   "metadata": {},
   "source": [
    "The next step I see is to merge these into one dataframe for easier analysis."
   ]
  },
  {
   "cell_type": "markdown",
   "metadata": {},
   "source": [
    "## Action: Merge all notes indicated in train set into a single dataframe"
   ]
  },
  {
   "cell_type": "code",
   "execution_count": 9,
   "metadata": {},
   "outputs": [
    {
     "data": {
      "text/html": [
       "<div>\n",
       "<style scoped>\n",
       "    .dataframe tbody tr th:only-of-type {\n",
       "        vertical-align: middle;\n",
       "    }\n",
       "\n",
       "    .dataframe tbody tr th {\n",
       "        vertical-align: top;\n",
       "    }\n",
       "\n",
       "    .dataframe thead th {\n",
       "        text-align: right;\n",
       "    }\n",
       "</style>\n",
       "<table border=\"1\" class=\"dataframe\">\n",
       "  <thead>\n",
       "    <tr style=\"text-align: right;\">\n",
       "      <th></th>\n",
       "      <th>id</th>\n",
       "      <th>case_num_x</th>\n",
       "      <th>pn_num</th>\n",
       "      <th>feature_num</th>\n",
       "      <th>annotation</th>\n",
       "      <th>location</th>\n",
       "      <th>case_num_y</th>\n",
       "      <th>pn_history</th>\n",
       "      <th>case_num</th>\n",
       "      <th>feature_text</th>\n",
       "    </tr>\n",
       "  </thead>\n",
       "  <tbody>\n",
       "    <tr>\n",
       "      <th>0</th>\n",
       "      <td>00016_000</td>\n",
       "      <td>0</td>\n",
       "      <td>16</td>\n",
       "      <td>0</td>\n",
       "      <td>['dad with recent heart attcak']</td>\n",
       "      <td>['696 724']</td>\n",
       "      <td>0</td>\n",
       "      <td>HPI: 17yo M presents with palpitations. Patien...</td>\n",
       "      <td>0</td>\n",
       "      <td>Family-history-of-MI-OR-Family-history-of-myoc...</td>\n",
       "    </tr>\n",
       "    <tr>\n",
       "      <th>1</th>\n",
       "      <td>00016_001</td>\n",
       "      <td>0</td>\n",
       "      <td>16</td>\n",
       "      <td>1</td>\n",
       "      <td>['mom with \"thyroid disease']</td>\n",
       "      <td>['668 693']</td>\n",
       "      <td>0</td>\n",
       "      <td>HPI: 17yo M presents with palpitations. Patien...</td>\n",
       "      <td>0</td>\n",
       "      <td>Family-history-of-thyroid-disorder</td>\n",
       "    </tr>\n",
       "    <tr>\n",
       "      <th>2</th>\n",
       "      <td>00016_002</td>\n",
       "      <td>0</td>\n",
       "      <td>16</td>\n",
       "      <td>2</td>\n",
       "      <td>['chest pressure']</td>\n",
       "      <td>['203 217']</td>\n",
       "      <td>0</td>\n",
       "      <td>HPI: 17yo M presents with palpitations. Patien...</td>\n",
       "      <td>0</td>\n",
       "      <td>Chest-pressure</td>\n",
       "    </tr>\n",
       "    <tr>\n",
       "      <th>3</th>\n",
       "      <td>00016_003</td>\n",
       "      <td>0</td>\n",
       "      <td>16</td>\n",
       "      <td>3</td>\n",
       "      <td>['intermittent episodes', 'episode']</td>\n",
       "      <td>['70 91', '176 183']</td>\n",
       "      <td>0</td>\n",
       "      <td>HPI: 17yo M presents with palpitations. Patien...</td>\n",
       "      <td>0</td>\n",
       "      <td>Intermittent-symptoms</td>\n",
       "    </tr>\n",
       "    <tr>\n",
       "      <th>4</th>\n",
       "      <td>00016_004</td>\n",
       "      <td>0</td>\n",
       "      <td>16</td>\n",
       "      <td>4</td>\n",
       "      <td>['felt as if he were going to pass out']</td>\n",
       "      <td>['222 258']</td>\n",
       "      <td>0</td>\n",
       "      <td>HPI: 17yo M presents with palpitations. Patien...</td>\n",
       "      <td>0</td>\n",
       "      <td>Lightheaded</td>\n",
       "    </tr>\n",
       "    <tr>\n",
       "      <th>5</th>\n",
       "      <td>00016_005</td>\n",
       "      <td>0</td>\n",
       "      <td>16</td>\n",
       "      <td>5</td>\n",
       "      <td>[]</td>\n",
       "      <td>[]</td>\n",
       "      <td>0</td>\n",
       "      <td>HPI: 17yo M presents with palpitations. Patien...</td>\n",
       "      <td>0</td>\n",
       "      <td>No-hair-changes-OR-no-nail-changes-OR-no-tempe...</td>\n",
       "    </tr>\n",
       "    <tr>\n",
       "      <th>6</th>\n",
       "      <td>00016_006</td>\n",
       "      <td>0</td>\n",
       "      <td>16</td>\n",
       "      <td>6</td>\n",
       "      <td>['adderall', 'adderrall', 'adderrall']</td>\n",
       "      <td>['321 329', '404 413', '652 661']</td>\n",
       "      <td>0</td>\n",
       "      <td>HPI: 17yo M presents with palpitations. Patien...</td>\n",
       "      <td>0</td>\n",
       "      <td>Adderall-use</td>\n",
       "    </tr>\n",
       "    <tr>\n",
       "      <th>7</th>\n",
       "      <td>00016_007</td>\n",
       "      <td>0</td>\n",
       "      <td>16</td>\n",
       "      <td>7</td>\n",
       "      <td>[]</td>\n",
       "      <td>[]</td>\n",
       "      <td>0</td>\n",
       "      <td>HPI: 17yo M presents with palpitations. Patien...</td>\n",
       "      <td>0</td>\n",
       "      <td>Shortness-of-breath</td>\n",
       "    </tr>\n",
       "    <tr>\n",
       "      <th>8</th>\n",
       "      <td>00016_008</td>\n",
       "      <td>0</td>\n",
       "      <td>16</td>\n",
       "      <td>8</td>\n",
       "      <td>[]</td>\n",
       "      <td>[]</td>\n",
       "      <td>0</td>\n",
       "      <td>HPI: 17yo M presents with palpitations. Patien...</td>\n",
       "      <td>0</td>\n",
       "      <td>Caffeine-use</td>\n",
       "    </tr>\n",
       "    <tr>\n",
       "      <th>9</th>\n",
       "      <td>00016_009</td>\n",
       "      <td>0</td>\n",
       "      <td>16</td>\n",
       "      <td>9</td>\n",
       "      <td>['palpitations', 'heart beating/pounding']</td>\n",
       "      <td>['26 38', '96 118']</td>\n",
       "      <td>0</td>\n",
       "      <td>HPI: 17yo M presents with palpitations. Patien...</td>\n",
       "      <td>0</td>\n",
       "      <td>heart-pounding-OR-heart-racing</td>\n",
       "    </tr>\n",
       "    <tr>\n",
       "      <th>10</th>\n",
       "      <td>00016_010</td>\n",
       "      <td>0</td>\n",
       "      <td>16</td>\n",
       "      <td>10</td>\n",
       "      <td>['3-4 months of']</td>\n",
       "      <td>['56 69']</td>\n",
       "      <td>0</td>\n",
       "      <td>HPI: 17yo M presents with palpitations. Patien...</td>\n",
       "      <td>0</td>\n",
       "      <td>Few-months-duration</td>\n",
       "    </tr>\n",
       "    <tr>\n",
       "      <th>11</th>\n",
       "      <td>00016_011</td>\n",
       "      <td>0</td>\n",
       "      <td>16</td>\n",
       "      <td>11</td>\n",
       "      <td>['17yo']</td>\n",
       "      <td>['5 9']</td>\n",
       "      <td>0</td>\n",
       "      <td>HPI: 17yo M presents with palpitations. Patien...</td>\n",
       "      <td>0</td>\n",
       "      <td>17-year</td>\n",
       "    </tr>\n",
       "    <tr>\n",
       "      <th>12</th>\n",
       "      <td>00016_012</td>\n",
       "      <td>0</td>\n",
       "      <td>16</td>\n",
       "      <td>12</td>\n",
       "      <td>['M']</td>\n",
       "      <td>['10 11']</td>\n",
       "      <td>0</td>\n",
       "      <td>HPI: 17yo M presents with palpitations. Patien...</td>\n",
       "      <td>0</td>\n",
       "      <td>Male</td>\n",
       "    </tr>\n",
       "    <tr>\n",
       "      <th>13</th>\n",
       "      <td>00041_000</td>\n",
       "      <td>0</td>\n",
       "      <td>41</td>\n",
       "      <td>0</td>\n",
       "      <td>[]</td>\n",
       "      <td>[]</td>\n",
       "      <td>0</td>\n",
       "      <td>17 Y/O M CAME TO THE CLINIC C/O HEART POUNDING...</td>\n",
       "      <td>0</td>\n",
       "      <td>Family-history-of-MI-OR-Family-history-of-myoc...</td>\n",
       "    </tr>\n",
       "    <tr>\n",
       "      <th>14</th>\n",
       "      <td>00041_001</td>\n",
       "      <td>0</td>\n",
       "      <td>41</td>\n",
       "      <td>1</td>\n",
       "      <td>['MOM HAS THYROID PROBLEMS']</td>\n",
       "      <td>['532 556']</td>\n",
       "      <td>0</td>\n",
       "      <td>17 Y/O M CAME TO THE CLINIC C/O HEART POUNDING...</td>\n",
       "      <td>0</td>\n",
       "      <td>Family-history-of-thyroid-disorder</td>\n",
       "    </tr>\n",
       "    <tr>\n",
       "      <th>15</th>\n",
       "      <td>00041_002</td>\n",
       "      <td>0</td>\n",
       "      <td>41</td>\n",
       "      <td>2</td>\n",
       "      <td>['PRESSURE ON HER CHEST']</td>\n",
       "      <td>['263 284']</td>\n",
       "      <td>0</td>\n",
       "      <td>17 Y/O M CAME TO THE CLINIC C/O HEART POUNDING...</td>\n",
       "      <td>0</td>\n",
       "      <td>Chest-pressure</td>\n",
       "    </tr>\n",
       "    <tr>\n",
       "      <th>16</th>\n",
       "      <td>00041_003</td>\n",
       "      <td>0</td>\n",
       "      <td>41</td>\n",
       "      <td>3</td>\n",
       "      <td>['COMES AND GOES', 'HAPPENED 5-6 TIMES']</td>\n",
       "      <td>['131 145', '150 168']</td>\n",
       "      <td>0</td>\n",
       "      <td>17 Y/O M CAME TO THE CLINIC C/O HEART POUNDING...</td>\n",
       "      <td>0</td>\n",
       "      <td>Intermittent-symptoms</td>\n",
       "    </tr>\n",
       "    <tr>\n",
       "      <th>17</th>\n",
       "      <td>00041_004</td>\n",
       "      <td>0</td>\n",
       "      <td>41</td>\n",
       "      <td>4</td>\n",
       "      <td>[]</td>\n",
       "      <td>[]</td>\n",
       "      <td>0</td>\n",
       "      <td>17 Y/O M CAME TO THE CLINIC C/O HEART POUNDING...</td>\n",
       "      <td>0</td>\n",
       "      <td>Lightheaded</td>\n",
       "    </tr>\n",
       "    <tr>\n",
       "      <th>18</th>\n",
       "      <td>00041_005</td>\n",
       "      <td>0</td>\n",
       "      <td>41</td>\n",
       "      <td>5</td>\n",
       "      <td>[]</td>\n",
       "      <td>[]</td>\n",
       "      <td>0</td>\n",
       "      <td>17 Y/O M CAME TO THE CLINIC C/O HEART POUNDING...</td>\n",
       "      <td>0</td>\n",
       "      <td>No-hair-changes-OR-no-nail-changes-OR-no-tempe...</td>\n",
       "    </tr>\n",
       "    <tr>\n",
       "      <th>19</th>\n",
       "      <td>00041_006</td>\n",
       "      <td>0</td>\n",
       "      <td>41</td>\n",
       "      <td>6</td>\n",
       "      <td>[]</td>\n",
       "      <td>[]</td>\n",
       "      <td>0</td>\n",
       "      <td>17 Y/O M CAME TO THE CLINIC C/O HEART POUNDING...</td>\n",
       "      <td>0</td>\n",
       "      <td>Adderall-use</td>\n",
       "    </tr>\n",
       "  </tbody>\n",
       "</table>\n",
       "</div>"
      ],
      "text/plain": [
       "           id  case_num_x  pn_num  feature_num  \\\n",
       "0   00016_000           0      16            0   \n",
       "1   00016_001           0      16            1   \n",
       "2   00016_002           0      16            2   \n",
       "3   00016_003           0      16            3   \n",
       "4   00016_004           0      16            4   \n",
       "5   00016_005           0      16            5   \n",
       "6   00016_006           0      16            6   \n",
       "7   00016_007           0      16            7   \n",
       "8   00016_008           0      16            8   \n",
       "9   00016_009           0      16            9   \n",
       "10  00016_010           0      16           10   \n",
       "11  00016_011           0      16           11   \n",
       "12  00016_012           0      16           12   \n",
       "13  00041_000           0      41            0   \n",
       "14  00041_001           0      41            1   \n",
       "15  00041_002           0      41            2   \n",
       "16  00041_003           0      41            3   \n",
       "17  00041_004           0      41            4   \n",
       "18  00041_005           0      41            5   \n",
       "19  00041_006           0      41            6   \n",
       "\n",
       "                                    annotation  \\\n",
       "0             ['dad with recent heart attcak']   \n",
       "1                ['mom with \"thyroid disease']   \n",
       "2                           ['chest pressure']   \n",
       "3         ['intermittent episodes', 'episode']   \n",
       "4     ['felt as if he were going to pass out']   \n",
       "5                                           []   \n",
       "6       ['adderall', 'adderrall', 'adderrall']   \n",
       "7                                           []   \n",
       "8                                           []   \n",
       "9   ['palpitations', 'heart beating/pounding']   \n",
       "10                           ['3-4 months of']   \n",
       "11                                    ['17yo']   \n",
       "12                                       ['M']   \n",
       "13                                          []   \n",
       "14                ['MOM HAS THYROID PROBLEMS']   \n",
       "15                   ['PRESSURE ON HER CHEST']   \n",
       "16    ['COMES AND GOES', 'HAPPENED 5-6 TIMES']   \n",
       "17                                          []   \n",
       "18                                          []   \n",
       "19                                          []   \n",
       "\n",
       "                             location  case_num_y  \\\n",
       "0                         ['696 724']           0   \n",
       "1                         ['668 693']           0   \n",
       "2                         ['203 217']           0   \n",
       "3                ['70 91', '176 183']           0   \n",
       "4                         ['222 258']           0   \n",
       "5                                  []           0   \n",
       "6   ['321 329', '404 413', '652 661']           0   \n",
       "7                                  []           0   \n",
       "8                                  []           0   \n",
       "9                 ['26 38', '96 118']           0   \n",
       "10                          ['56 69']           0   \n",
       "11                            ['5 9']           0   \n",
       "12                          ['10 11']           0   \n",
       "13                                 []           0   \n",
       "14                        ['532 556']           0   \n",
       "15                        ['263 284']           0   \n",
       "16             ['131 145', '150 168']           0   \n",
       "17                                 []           0   \n",
       "18                                 []           0   \n",
       "19                                 []           0   \n",
       "\n",
       "                                           pn_history  case_num  \\\n",
       "0   HPI: 17yo M presents with palpitations. Patien...         0   \n",
       "1   HPI: 17yo M presents with palpitations. Patien...         0   \n",
       "2   HPI: 17yo M presents with palpitations. Patien...         0   \n",
       "3   HPI: 17yo M presents with palpitations. Patien...         0   \n",
       "4   HPI: 17yo M presents with palpitations. Patien...         0   \n",
       "5   HPI: 17yo M presents with palpitations. Patien...         0   \n",
       "6   HPI: 17yo M presents with palpitations. Patien...         0   \n",
       "7   HPI: 17yo M presents with palpitations. Patien...         0   \n",
       "8   HPI: 17yo M presents with palpitations. Patien...         0   \n",
       "9   HPI: 17yo M presents with palpitations. Patien...         0   \n",
       "10  HPI: 17yo M presents with palpitations. Patien...         0   \n",
       "11  HPI: 17yo M presents with palpitations. Patien...         0   \n",
       "12  HPI: 17yo M presents with palpitations. Patien...         0   \n",
       "13  17 Y/O M CAME TO THE CLINIC C/O HEART POUNDING...         0   \n",
       "14  17 Y/O M CAME TO THE CLINIC C/O HEART POUNDING...         0   \n",
       "15  17 Y/O M CAME TO THE CLINIC C/O HEART POUNDING...         0   \n",
       "16  17 Y/O M CAME TO THE CLINIC C/O HEART POUNDING...         0   \n",
       "17  17 Y/O M CAME TO THE CLINIC C/O HEART POUNDING...         0   \n",
       "18  17 Y/O M CAME TO THE CLINIC C/O HEART POUNDING...         0   \n",
       "19  17 Y/O M CAME TO THE CLINIC C/O HEART POUNDING...         0   \n",
       "\n",
       "                                         feature_text  \n",
       "0   Family-history-of-MI-OR-Family-history-of-myoc...  \n",
       "1                  Family-history-of-thyroid-disorder  \n",
       "2                                      Chest-pressure  \n",
       "3                               Intermittent-symptoms  \n",
       "4                                         Lightheaded  \n",
       "5   No-hair-changes-OR-no-nail-changes-OR-no-tempe...  \n",
       "6                                        Adderall-use  \n",
       "7                                 Shortness-of-breath  \n",
       "8                                        Caffeine-use  \n",
       "9                      heart-pounding-OR-heart-racing  \n",
       "10                                Few-months-duration  \n",
       "11                                            17-year  \n",
       "12                                               Male  \n",
       "13  Family-history-of-MI-OR-Family-history-of-myoc...  \n",
       "14                 Family-history-of-thyroid-disorder  \n",
       "15                                     Chest-pressure  \n",
       "16                              Intermittent-symptoms  \n",
       "17                                        Lightheaded  \n",
       "18  No-hair-changes-OR-no-nail-changes-OR-no-tempe...  \n",
       "19                                       Adderall-use  "
      ]
     },
     "execution_count": 9,
     "metadata": {},
     "output_type": "execute_result"
    }
   ],
   "source": [
    "merged_df = train.merge(patient_notes, on='pn_num', how='left').merge(features, on='feature_num', how='left')\n",
    "merged_df.head(20)"
   ]
  },
  {
   "cell_type": "markdown",
   "metadata": {},
   "source": [
    "Let's view just this first patient note to get a sense of what we have"
   ]
  },
  {
   "cell_type": "markdown",
   "metadata": {},
   "source": [
    "## Question: How do annotations look in the notes?"
   ]
  },
  {
   "cell_type": "code",
   "execution_count": 10,
   "metadata": {},
   "outputs": [
    {
     "data": {
      "text/html": [
       "<div>\n",
       "<style scoped>\n",
       "    .dataframe tbody tr th:only-of-type {\n",
       "        vertical-align: middle;\n",
       "    }\n",
       "\n",
       "    .dataframe tbody tr th {\n",
       "        vertical-align: top;\n",
       "    }\n",
       "\n",
       "    .dataframe thead th {\n",
       "        text-align: right;\n",
       "    }\n",
       "</style>\n",
       "<table border=\"1\" class=\"dataframe\">\n",
       "  <thead>\n",
       "    <tr style=\"text-align: right;\">\n",
       "      <th></th>\n",
       "      <th>feature_text</th>\n",
       "      <th>annotation</th>\n",
       "      <th>location</th>\n",
       "    </tr>\n",
       "  </thead>\n",
       "  <tbody>\n",
       "    <tr>\n",
       "      <th>0</th>\n",
       "      <td>Family-history-of-MI-OR-Family-history-of-myocardial-infarction</td>\n",
       "      <td>['dad with recent heart attcak']</td>\n",
       "      <td>['696 724']</td>\n",
       "    </tr>\n",
       "    <tr>\n",
       "      <th>1</th>\n",
       "      <td>Family-history-of-thyroid-disorder</td>\n",
       "      <td>['mom with \"thyroid disease']</td>\n",
       "      <td>['668 693']</td>\n",
       "    </tr>\n",
       "    <tr>\n",
       "      <th>2</th>\n",
       "      <td>Chest-pressure</td>\n",
       "      <td>['chest pressure']</td>\n",
       "      <td>['203 217']</td>\n",
       "    </tr>\n",
       "    <tr>\n",
       "      <th>3</th>\n",
       "      <td>Intermittent-symptoms</td>\n",
       "      <td>['intermittent episodes', 'episode']</td>\n",
       "      <td>['70 91', '176 183']</td>\n",
       "    </tr>\n",
       "    <tr>\n",
       "      <th>4</th>\n",
       "      <td>Lightheaded</td>\n",
       "      <td>['felt as if he were going to pass out']</td>\n",
       "      <td>['222 258']</td>\n",
       "    </tr>\n",
       "    <tr>\n",
       "      <th>5</th>\n",
       "      <td>No-hair-changes-OR-no-nail-changes-OR-no-temperature-intolerance</td>\n",
       "      <td>[]</td>\n",
       "      <td>[]</td>\n",
       "    </tr>\n",
       "    <tr>\n",
       "      <th>6</th>\n",
       "      <td>Adderall-use</td>\n",
       "      <td>['adderall', 'adderrall', 'adderrall']</td>\n",
       "      <td>['321 329', '404 413', '652 661']</td>\n",
       "    </tr>\n",
       "    <tr>\n",
       "      <th>7</th>\n",
       "      <td>Shortness-of-breath</td>\n",
       "      <td>[]</td>\n",
       "      <td>[]</td>\n",
       "    </tr>\n",
       "    <tr>\n",
       "      <th>8</th>\n",
       "      <td>Caffeine-use</td>\n",
       "      <td>[]</td>\n",
       "      <td>[]</td>\n",
       "    </tr>\n",
       "    <tr>\n",
       "      <th>9</th>\n",
       "      <td>heart-pounding-OR-heart-racing</td>\n",
       "      <td>['palpitations', 'heart beating/pounding']</td>\n",
       "      <td>['26 38', '96 118']</td>\n",
       "    </tr>\n",
       "    <tr>\n",
       "      <th>10</th>\n",
       "      <td>Few-months-duration</td>\n",
       "      <td>['3-4 months of']</td>\n",
       "      <td>['56 69']</td>\n",
       "    </tr>\n",
       "    <tr>\n",
       "      <th>11</th>\n",
       "      <td>17-year</td>\n",
       "      <td>['17yo']</td>\n",
       "      <td>['5 9']</td>\n",
       "    </tr>\n",
       "    <tr>\n",
       "      <th>12</th>\n",
       "      <td>Male</td>\n",
       "      <td>['M']</td>\n",
       "      <td>['10 11']</td>\n",
       "    </tr>\n",
       "  </tbody>\n",
       "</table>\n",
       "</div>"
      ],
      "text/plain": [
       "                                                        feature_text  \\\n",
       "0    Family-history-of-MI-OR-Family-history-of-myocardial-infarction   \n",
       "1                                 Family-history-of-thyroid-disorder   \n",
       "2                                                     Chest-pressure   \n",
       "3                                              Intermittent-symptoms   \n",
       "4                                                        Lightheaded   \n",
       "5   No-hair-changes-OR-no-nail-changes-OR-no-temperature-intolerance   \n",
       "6                                                       Adderall-use   \n",
       "7                                                Shortness-of-breath   \n",
       "8                                                       Caffeine-use   \n",
       "9                                     heart-pounding-OR-heart-racing   \n",
       "10                                               Few-months-duration   \n",
       "11                                                           17-year   \n",
       "12                                                              Male   \n",
       "\n",
       "                                    annotation  \\\n",
       "0             ['dad with recent heart attcak']   \n",
       "1                ['mom with \"thyroid disease']   \n",
       "2                           ['chest pressure']   \n",
       "3         ['intermittent episodes', 'episode']   \n",
       "4     ['felt as if he were going to pass out']   \n",
       "5                                           []   \n",
       "6       ['adderall', 'adderrall', 'adderrall']   \n",
       "7                                           []   \n",
       "8                                           []   \n",
       "9   ['palpitations', 'heart beating/pounding']   \n",
       "10                           ['3-4 months of']   \n",
       "11                                    ['17yo']   \n",
       "12                                       ['M']   \n",
       "\n",
       "                             location  \n",
       "0                         ['696 724']  \n",
       "1                         ['668 693']  \n",
       "2                         ['203 217']  \n",
       "3                ['70 91', '176 183']  \n",
       "4                         ['222 258']  \n",
       "5                                  []  \n",
       "6   ['321 329', '404 413', '652 661']  \n",
       "7                                  []  \n",
       "8                                  []  \n",
       "9                 ['26 38', '96 118']  \n",
       "10                          ['56 69']  \n",
       "11                            ['5 9']  \n",
       "12                          ['10 11']  "
      ]
     },
     "execution_count": 10,
     "metadata": {},
     "output_type": "execute_result"
    }
   ],
   "source": [
    "pd.set_option('display.max_colwidth', None)\n",
    "first_note = merged_df.query('pn_num == 16')\n",
    "first_note[['feature_text', 'annotation', 'location']]"
   ]
  },
  {
   "cell_type": "code",
   "execution_count": 11,
   "metadata": {},
   "outputs": [
    {
     "name": "stdout",
     "output_type": "stream",
     "text": [
      "HPI: 17yo M presents with palpitations. Patient reports 3-4 months of intermittent episodes of \"heart beating/pounding out of my chest.\" 2 days ago during a soccer game had an episode, but this time had chest pressure and felt as if he were going to pass out (did not lose conciousness). Of note patient endorses abusing adderall, primarily to study (1-3 times per week). Before recent soccer game, took adderrall night before and morning of game. Denies shortness of breath, diaphoresis, fevers, chills, headache, fatigue, changes in sleep, changes in vision/hearing, abdominal paun, changes in bowel or urinary habits. \n",
      "PMHx: none\n",
      "Rx: uses friends adderrall\n",
      "FHx: mom with \"thyroid disease,\" dad with recent heart attcak\n",
      "All: none\n",
      "Immunizations: up to date\n",
      "SHx: Freshmen in college. Endorses 3-4 drinks 3 nights / week (on weekends), denies tabacco, endorses trying marijuana. Sexually active with girlfriend x 1 year, uses condoms\n"
     ]
    }
   ],
   "source": [
    "print(first_note.loc[0, 'pn_history'])"
   ]
  },
  {
   "cell_type": "markdown",
   "metadata": {},
   "source": [
    "A few notes here\n",
    "1. As suspected, the features with no annotation are not present in the note; this is useful\n",
    "2. There are many ways to express features (e.g. lightheaded = 'felt as if he were going to pass out')\n",
    "3. Some small words, e.g. 'M' are very important for indicating a feature. Either these should be identified manually (this is prone to error since we only have so many annotations) or we need to keep input as raw text. It may be that deep learning models do not have any issue with mispelling. "
   ]
  },
  {
   "cell_type": "markdown",
   "metadata": {},
   "source": [
    "Let's view a second note to get a second perspective:"
   ]
  },
  {
   "cell_type": "code",
   "execution_count": 12,
   "metadata": {},
   "outputs": [
    {
     "data": {
      "text/html": [
       "<div>\n",
       "<style scoped>\n",
       "    .dataframe tbody tr th:only-of-type {\n",
       "        vertical-align: middle;\n",
       "    }\n",
       "\n",
       "    .dataframe tbody tr th {\n",
       "        vertical-align: top;\n",
       "    }\n",
       "\n",
       "    .dataframe thead th {\n",
       "        text-align: right;\n",
       "    }\n",
       "</style>\n",
       "<table border=\"1\" class=\"dataframe\">\n",
       "  <thead>\n",
       "    <tr style=\"text-align: right;\">\n",
       "      <th></th>\n",
       "      <th>feature_text</th>\n",
       "      <th>annotation</th>\n",
       "      <th>location</th>\n",
       "    </tr>\n",
       "  </thead>\n",
       "  <tbody>\n",
       "    <tr>\n",
       "      <th>13</th>\n",
       "      <td>Family-history-of-MI-OR-Family-history-of-myocardial-infarction</td>\n",
       "      <td>[]</td>\n",
       "      <td>[]</td>\n",
       "    </tr>\n",
       "    <tr>\n",
       "      <th>14</th>\n",
       "      <td>Family-history-of-thyroid-disorder</td>\n",
       "      <td>['MOM HAS THYROID PROBLEMS']</td>\n",
       "      <td>['532 556']</td>\n",
       "    </tr>\n",
       "    <tr>\n",
       "      <th>15</th>\n",
       "      <td>Chest-pressure</td>\n",
       "      <td>['PRESSURE ON HER CHEST']</td>\n",
       "      <td>['263 284']</td>\n",
       "    </tr>\n",
       "    <tr>\n",
       "      <th>16</th>\n",
       "      <td>Intermittent-symptoms</td>\n",
       "      <td>['COMES AND GOES', 'HAPPENED 5-6 TIMES']</td>\n",
       "      <td>['131 145', '150 168']</td>\n",
       "    </tr>\n",
       "    <tr>\n",
       "      <th>17</th>\n",
       "      <td>Lightheaded</td>\n",
       "      <td>[]</td>\n",
       "      <td>[]</td>\n",
       "    </tr>\n",
       "    <tr>\n",
       "      <th>18</th>\n",
       "      <td>No-hair-changes-OR-no-nail-changes-OR-no-temperature-intolerance</td>\n",
       "      <td>[]</td>\n",
       "      <td>[]</td>\n",
       "    </tr>\n",
       "    <tr>\n",
       "      <th>19</th>\n",
       "      <td>Adderall-use</td>\n",
       "      <td>[]</td>\n",
       "      <td>[]</td>\n",
       "    </tr>\n",
       "    <tr>\n",
       "      <th>20</th>\n",
       "      <td>Shortness-of-breath</td>\n",
       "      <td>['SOB']</td>\n",
       "      <td>['258 261']</td>\n",
       "    </tr>\n",
       "    <tr>\n",
       "      <th>21</th>\n",
       "      <td>Caffeine-use</td>\n",
       "      <td>[]</td>\n",
       "      <td>[]</td>\n",
       "    </tr>\n",
       "    <tr>\n",
       "      <th>22</th>\n",
       "      <td>heart-pounding-OR-heart-racing</td>\n",
       "      <td>['HEART POUNDING']</td>\n",
       "      <td>['32 46']</td>\n",
       "    </tr>\n",
       "    <tr>\n",
       "      <th>23</th>\n",
       "      <td>Few-months-duration</td>\n",
       "      <td>['STARTED 2-3 MO AGO']</td>\n",
       "      <td>['48 66']</td>\n",
       "    </tr>\n",
       "    <tr>\n",
       "      <th>24</th>\n",
       "      <td>17-year</td>\n",
       "      <td>['17 Y/O']</td>\n",
       "      <td>['0 6']</td>\n",
       "    </tr>\n",
       "    <tr>\n",
       "      <th>25</th>\n",
       "      <td>Male</td>\n",
       "      <td>['M']</td>\n",
       "      <td>['7 8']</td>\n",
       "    </tr>\n",
       "  </tbody>\n",
       "</table>\n",
       "</div>"
      ],
      "text/plain": [
       "                                                        feature_text  \\\n",
       "13   Family-history-of-MI-OR-Family-history-of-myocardial-infarction   \n",
       "14                                Family-history-of-thyroid-disorder   \n",
       "15                                                    Chest-pressure   \n",
       "16                                             Intermittent-symptoms   \n",
       "17                                                       Lightheaded   \n",
       "18  No-hair-changes-OR-no-nail-changes-OR-no-temperature-intolerance   \n",
       "19                                                      Adderall-use   \n",
       "20                                               Shortness-of-breath   \n",
       "21                                                      Caffeine-use   \n",
       "22                                    heart-pounding-OR-heart-racing   \n",
       "23                                               Few-months-duration   \n",
       "24                                                           17-year   \n",
       "25                                                              Male   \n",
       "\n",
       "                                  annotation                location  \n",
       "13                                        []                      []  \n",
       "14              ['MOM HAS THYROID PROBLEMS']             ['532 556']  \n",
       "15                 ['PRESSURE ON HER CHEST']             ['263 284']  \n",
       "16  ['COMES AND GOES', 'HAPPENED 5-6 TIMES']  ['131 145', '150 168']  \n",
       "17                                        []                      []  \n",
       "18                                        []                      []  \n",
       "19                                        []                      []  \n",
       "20                                   ['SOB']             ['258 261']  \n",
       "21                                        []                      []  \n",
       "22                        ['HEART POUNDING']               ['32 46']  \n",
       "23                    ['STARTED 2-3 MO AGO']               ['48 66']  \n",
       "24                                ['17 Y/O']                 ['0 6']  \n",
       "25                                     ['M']                 ['7 8']  "
      ]
     },
     "execution_count": 12,
     "metadata": {},
     "output_type": "execute_result"
    }
   ],
   "source": [
    "pd.set_option('display.max_colwidth', None)\n",
    "second_note = merged_df.query('pn_num == 41')\n",
    "second_note[['feature_text', 'annotation', 'location']]"
   ]
  },
  {
   "cell_type": "code",
   "execution_count": 13,
   "metadata": {},
   "outputs": [
    {
     "name": "stdout",
     "output_type": "stream",
     "text": [
      "17 Y/O M CAME TO THE CLINIC C/O HEART POUNDING. STARTED 2-3 MO AGO. IT STARTED SUDDENLY. DOES NOT RECALL ANY TRIGGERING EVENTS. IT COMES AND GOES, IT HAPPENED 5-6 TIMES SINCE IT STARTED. IT LASTS 3-4 MIN, AFTER THAN  JUST GOES AWAY. HE HAS ALSO EXPERIENCING SOB, PRESSURE ON HER CHEST WHEN HE HAS THIS ATTACK. HE IS A COLLEGE STUDENT, EXPERIENCING SOME STRESS RECENTLY. \n",
      "DENIES COUGH, CHEST PAIN.\n",
      "ROS NEG EXCEPT AS ABOVE.\n",
      "PMH NONE. MEDS ATEROL, FOR HIS STUDIES, SHARING W HIS ROOMMATE. NKDA.\n",
      "PSH/ HOSP/ TRAVEL/ TRAUMA NONE.\n",
      "FH MOM HAS THYROID PROBLEMS.\n",
      "SH SEX ACTIVE W GIRLFRIEND, NO STDS, USING CONDOMS. SMOKE NONE. ETOH ONLY WEEKENDS. DRUG ONLY ONCE, 1 MO AGO.\n"
     ]
    }
   ],
   "source": [
    "print(second_note.iloc[0]['pn_history'])"
   ]
  },
  {
   "cell_type": "markdown",
   "metadata": {},
   "source": [
    "Again many ways things can be expressed, will need some help understanding HOSP/TRAVEL and ETOH ONLY ON WEEKENDS. Also note the confusing use of PRESSURE ON HER CHEST with this being a male patient!"
   ]
  },
  {
   "cell_type": "markdown",
   "metadata": {},
   "source": [
    "Now that we have a better idea of the data it is probably best to begin to make a toy task to get some initial results. I will go wtih trying to predict the existence or non-existence of a feature for a patient note. Note that both mentioned features that should be there and are not, as well as features that are not mentioned, are all not there. However the ones that should be there and are not are in some sense more likely to be misclassified as they are more related. "
   ]
  },
  {
   "cell_type": "markdown",
   "metadata": {},
   "source": [
    "## Action: Create a dataframe with the notes and whether a feature is present or not"
   ]
  },
  {
   "cell_type": "code",
   "execution_count": 14,
   "metadata": {},
   "outputs": [],
   "source": [
    "all_features = set(features.feature_text.unique())\n",
    "patient_num = 41\n",
    "def get_note_and_features(patient_num: int, merged_df: pd.DataFrame, all_features: set):\n",
    "    this_note_data:pd.DataFrame = merged_df.query(f'pn_num == {patient_num}')\n",
    "    features_present = set()\n",
    "    for (feature_name, feature_num, annotation) in this_note_data[['feature_text', 'feature_num', 'annotation']].itertuples(index=False):\n",
    "        feature_is_present = len(eval(annotation)) > 0\n",
    "        if feature_is_present:\n",
    "            features_present.add(feature_name)\n",
    "    features_not_present = all_features.difference(features_present)\n",
    "    return pd.Series([this_note_data['pn_history'].iloc[0], *np.ones(len(features_present)), *np.zeros(len(features_not_present))], index=['pn_history'] + list(features_present) + list(features_not_present))\n",
    "\n",
    "present_df = pd.DataFrame([get_note_and_features(patient_num, merged_df, all_features) for patient_num in merged_df.pn_num.unique()])"
   ]
  },
  {
   "cell_type": "code",
   "execution_count": 15,
   "metadata": {},
   "outputs": [
    {
     "name": "stdout",
     "output_type": "stream",
     "text": [
      "<class 'pandas.core.frame.DataFrame'>\n",
      "RangeIndex: 1000 entries, 0 to 999\n",
      "Data columns (total 132 columns):\n",
      " #    Column                                                                Dtype  \n",
      "---   ------                                                                -----  \n",
      " 0    pn_history                                                            object \n",
      " 1    Family-history-of-MI-OR-Family-history-of-myocardial-infarction       float64\n",
      " 2    Lightheaded                                                           float64\n",
      " 3    Adderall-use                                                          float64\n",
      " 4    Chest-pressure                                                        float64\n",
      " 5    17-year                                                               float64\n",
      " 6    Family-history-of-thyroid-disorder                                    float64\n",
      " 7    Few-months-duration                                                   float64\n",
      " 8    Male                                                                  float64\n",
      " 9    heart-pounding-OR-heart-racing                                        float64\n",
      " 10   Intermittent-symptoms                                                 float64\n",
      " 11   Fatigue                                                               float64\n",
      " 12   67-year                                                               float64\n",
      " 13   Diminished-energy-OR-feeling-drained                                  float64\n",
      " 14   44-year                                                               float64\n",
      " 15   35-year                                                               float64\n",
      " 16   Associated-throat-tightness                                           float64\n",
      " 17   tossing-and-turning                                                   float64\n",
      " 18   Hot-flashes                                                           float64\n",
      " 19   Stress                                                                float64\n",
      " 20   Sleep-disturbance-OR-Early-awakenings                                 float64\n",
      " 21   No-hair-changes-OR-no-nail-changes-OR-no-temperature-intolerance      float64\n",
      " 22   Difficulty-with-sleep                                                 float64\n",
      " 23   viral-symptoms-OR-rhinorrhea-OR-scratchy-throat                       float64\n",
      " 24   Prior-episodes-of-diarrhea                                            float64\n",
      " 25   No-chest-pain                                                         float64\n",
      " 26   Unprotected-Sex                                                       float64\n",
      " 27   IUD                                                                   float64\n",
      " 28   Sexually-active                                                       float64\n",
      " 29   1-day-duration-OR-2-days-duration                                     float64\n",
      " 30   Onset-3-years-ago                                                     float64\n",
      " 31   Fatigue-OR-Difficulty-concentrating                                   float64\n",
      " 32   Last-Pap-smear-I-year-ago                                             float64\n",
      " 33   symptoms-for-6-months                                                 float64\n",
      " 34   Weight-stable                                                         float64\n",
      " 35   Episodes-of-heart-racing                                              float64\n",
      " 36   Shortness-of-breath                                                   float64\n",
      " 37   NSAID-use-OR-Nonsteroidal-anti-inflammatory-drug-use                  float64\n",
      " 38   getting-worse-OR-progressive-OR-symptoms-now-daily                    float64\n",
      " 39   Sleeping-medication-ineffective                                       float64\n",
      " 40   Weight-loss                                                           float64\n",
      " 41   Irregular-menses                                                      float64\n",
      " 42   Sharp-OR-stabbing-OR-7-to-8-out-of-10-on-pain-scale                   float64\n",
      " 43   loss-of-interest                                                      float64\n",
      " 44   8-to-10-hours-of-acute-pain                                           float64\n",
      " 45   Vaginal-dryness                                                       float64\n",
      " 46   Family-history-of-migraines                                           float64\n",
      " 47   Associated-feeling-of-impending-doom                                  float64\n",
      " 48   No-caffeine-use                                                       float64\n",
      " 49   Recent-nausea-vomiting-OR-Recent-flulike-symptoms                     float64\n",
      " 50   duration-2-months                                                     float64\n",
      " 51   No-depressed-mood                                                     float64\n",
      " 52   Post-prandial-bloating-OR-fullness-with-meals                         float64\n",
      " 53   LMP-2-months-ago-or-Last-menstrual-period-2-months-ago                float64\n",
      " 54   No-vaginal-discharge                                                  float64\n",
      " 55   No-illicit-drug-use                                                   float64\n",
      " 56   No-suicidal-ideations                                                 float64\n",
      " 57   Myalgias                                                              float64\n",
      " 58   Photophobia                                                           float64\n",
      " 59   Heavy-caffeine-use                                                    float64\n",
      " 60   No-relief-with-asthma-inhaler                                         float64\n",
      " 61   Neck-pain                                                             float64\n",
      " 62   Son-died-3-weeks-ago                                                  float64\n",
      " 63   Increased-frequency-recently                                          float64\n",
      " 64   Nausea                                                                float64\n",
      " 65   Unsuccessful-napping                                                  float64\n",
      " 66   No-shortness-of-breath                                                float64\n",
      " 67   Awakens-at-night                                                      float64\n",
      " 68   Normal-LMP-2-weeks-ago-OR-Normal-last-menstrual-period-2-weeks-ago    float64\n",
      " 69   Recent-heavy-lifting-at-work-OR-recent-rock-climbing                  float64\n",
      " 70   45-year                                                               float64\n",
      " 71   Visual-hallucination-once                                             float64\n",
      " 72   Increased-stress                                                      float64\n",
      " 73   Increased-appetite                                                    float64\n",
      " 74   Darker-bowel-movements                                                float64\n",
      " 75   Shares-an-apartment                                                   float64\n",
      " 76   anxious-OR-nervous                                                    float64\n",
      " 77   Associated-nausea                                                     float64\n",
      " 78   Worse-with-deep-breath-OR-pleuritic                                   float64\n",
      " 79   heavy-periods-OR-irregular-periods                                    float64\n",
      " 80   Feels-hot-OR-Feels-clammy                                             float64\n",
      " 81   Subjective-fevers                                                     float64\n",
      " 82   Meningococcal-vaccine-status-unknown                                  float64\n",
      " 83   No-bloody-bowel-movements                                             float64\n",
      " 84   No-known-illness-contacts                                             float64\n",
      " 85   Lack-of-other-thyroid-symptoms                                        float64\n",
      " 86   No-urinary-symptoms                                                   float64\n",
      " 87   Chest-pain                                                            float64\n",
      " 88   Episodes-last-15-to-30-minutes                                        float64\n",
      " 89   Infertility-HX-OR-Infertility-history                                 float64\n",
      " 90   Subjective-fever                                                      float64\n",
      " 91   FHx-of-depression-OR-Family-history-of-depression                     float64\n",
      " 92   Insomnia                                                              float64\n",
      " 93   No-premenstrual-symptoms                                              float64\n",
      " 94   No-blood-in-stool                                                     float64\n",
      " 95   Intermittent                                                          float64\n",
      " 96   No-relief-with-Motrin-OR-no-relief-with-tylenol                       float64\n",
      " 97   Duration-x-1-day                                                      float64\n",
      " 98   Decreased-appetite                                                    float64\n",
      " 99   Diminished-appetite                                                   float64\n",
      " 100  Caffeine-use                                                          float64\n",
      " 101  Exercise-induced-asthma                                               float64\n",
      " 102  Epigastric-discomfort                                                 float64\n",
      " 103  Early-wakening                                                        float64\n",
      " 104  26-year                                                               float64\n",
      " 105  Vomiting                                                              float64\n",
      " 106  20-year                                                               float64\n",
      " 107  Onset-5-years-ago                                                     float64\n",
      " 108  duration-3-weeks                                                      float64\n",
      " 109  Right-sided-LQ-abdominal-pain-OR-Right-lower-quadrant-abdominal-pain  float64\n",
      " 110  Hallucinations-after-taking-Ambien                                    float64\n",
      " 111  Last-menstrual-period-2-months-ago                                    float64\n",
      " 112  Not-sexually-active                                                   float64\n",
      " 113  Weight-Gain                                                           float64\n",
      " 114  Recurrent-bouts-over-past-6-months                                    float64\n",
      " 115  FHx-of-PUD-OR-Family-history-of-peptic-ulcer-disease                  float64\n",
      " 116  Auditory-hallucination-once                                           float64\n",
      " 117  Minimal-to-no-change-with-Tums                                        float64\n",
      " 118  Female                                                                float64\n",
      " 119  Stress-due-to-caring-for-elderly-parents                              float64\n",
      " 120  burning-OR-gnawing-OR-burning-and-gnawing                             float64\n",
      " 121  Global-headache-OR-diffuse-headache                                   float64\n",
      " 122  2-to-3-beers-a-week                                                   float64\n",
      " 123  Irregular-flow-OR-Irregular-frequency-OR-Irregular-intervals          float64\n",
      " 124  Recent-upper-respiratory-symptoms                                     float64\n",
      " 125  No-rash                                                               float64\n",
      " 126  Difficulty-falling-asleep                                             float64\n",
      " 127  Associated-SOB-OR-Associated-shortness-of-breath                      float64\n",
      " 128  Recent-visit-to-emergency-department-with-negative-workup             float64\n",
      " 129  Episode-of-hand-numbness-OR-Episode-of-finger-numbness                float64\n",
      " 130  Heavy-sweating                                                        float64\n",
      " 131  Prior-normal-periods                                                  float64\n",
      "dtypes: float64(131), object(1)\n",
      "memory usage: 1.0+ MB\n",
      "None\n",
      "       Family-history-of-MI-OR-Family-history-of-myocardial-infarction  \\\n",
      "count                                                      1000.000000   \n",
      "mean                                                          0.088000   \n",
      "std                                                           0.283437   \n",
      "min                                                           0.000000   \n",
      "25%                                                           0.000000   \n",
      "50%                                                           0.000000   \n",
      "75%                                                           0.000000   \n",
      "max                                                           1.000000   \n",
      "\n",
      "       Lightheaded  Adderall-use  Chest-pressure      17-year  \\\n",
      "count  1000.000000   1000.000000     1000.000000  1000.000000   \n",
      "mean      0.050000      0.091000        0.069000     0.195000   \n",
      "std       0.218054      0.287753        0.253581     0.396399   \n",
      "min       0.000000      0.000000        0.000000     0.000000   \n",
      "25%       0.000000      0.000000        0.000000     0.000000   \n",
      "50%       0.000000      0.000000        0.000000     0.000000   \n",
      "75%       0.000000      0.000000        0.000000     0.000000   \n",
      "max       1.000000      1.000000        1.000000     1.000000   \n",
      "\n",
      "       Family-history-of-thyroid-disorder  Few-months-duration         Male  \\\n",
      "count                         1000.000000          1000.000000  1000.000000   \n",
      "mean                             0.090000             0.093000     0.286000   \n",
      "std                              0.286325             0.290578     0.452115   \n",
      "min                              0.000000             0.000000     0.000000   \n",
      "25%                              0.000000             0.000000     0.000000   \n",
      "50%                              0.000000             0.000000     0.000000   \n",
      "75%                              0.000000             0.000000     1.000000   \n",
      "max                              1.000000             1.000000     1.000000   \n",
      "\n",
      "       heart-pounding-OR-heart-racing  Intermittent-symptoms  ...  \\\n",
      "count                     1000.000000            1000.000000  ...   \n",
      "mean                         0.099000               0.088000  ...   \n",
      "std                          0.298811               0.283437  ...   \n",
      "min                          0.000000               0.000000  ...   \n",
      "25%                          0.000000               0.000000  ...   \n",
      "50%                          0.000000               0.000000  ...   \n",
      "75%                          0.000000               0.000000  ...   \n",
      "max                          1.000000               1.000000  ...   \n",
      "\n",
      "       2-to-3-beers-a-week  \\\n",
      "count          1000.000000   \n",
      "mean              0.077000   \n",
      "std               0.266725   \n",
      "min               0.000000   \n",
      "25%               0.000000   \n",
      "50%               0.000000   \n",
      "75%               0.000000   \n",
      "max               1.000000   \n",
      "\n",
      "       Irregular-flow-OR-Irregular-frequency-OR-Irregular-intervals  \\\n",
      "count                                                   1000.000000   \n",
      "mean                                                       0.086000   \n",
      "std                                                        0.280504   \n",
      "min                                                        0.000000   \n",
      "25%                                                        0.000000   \n",
      "50%                                                        0.000000   \n",
      "75%                                                        0.000000   \n",
      "max                                                        1.000000   \n",
      "\n",
      "       Recent-upper-respiratory-symptoms      No-rash  \\\n",
      "count                        1000.000000  1000.000000   \n",
      "mean                            0.090000     0.011000   \n",
      "std                             0.286325     0.104355   \n",
      "min                             0.000000     0.000000   \n",
      "25%                             0.000000     0.000000   \n",
      "50%                             0.000000     0.000000   \n",
      "75%                             0.000000     0.000000   \n",
      "max                             1.000000     1.000000   \n",
      "\n",
      "       Difficulty-falling-asleep  \\\n",
      "count                1000.000000   \n",
      "mean                    0.079000   \n",
      "std                     0.269874   \n",
      "min                     0.000000   \n",
      "25%                     0.000000   \n",
      "50%                     0.000000   \n",
      "75%                     0.000000   \n",
      "max                     1.000000   \n",
      "\n",
      "       Associated-SOB-OR-Associated-shortness-of-breath  \\\n",
      "count                                        1000.00000   \n",
      "mean                                            0.08300   \n",
      "std                                             0.27602   \n",
      "min                                             0.00000   \n",
      "25%                                             0.00000   \n",
      "50%                                             0.00000   \n",
      "75%                                             0.00000   \n",
      "max                                             1.00000   \n",
      "\n",
      "       Recent-visit-to-emergency-department-with-negative-workup  \\\n",
      "count                                                1000.000000   \n",
      "mean                                                    0.048000   \n",
      "std                                                     0.213873   \n",
      "min                                                     0.000000   \n",
      "25%                                                     0.000000   \n",
      "50%                                                     0.000000   \n",
      "75%                                                     0.000000   \n",
      "max                                                     1.000000   \n",
      "\n",
      "       Episode-of-hand-numbness-OR-Episode-of-finger-numbness  Heavy-sweating  \\\n",
      "count                                             1000.000000     1000.000000   \n",
      "mean                                                 0.063000        0.077000   \n",
      "std                                                  0.243085        0.266725   \n",
      "min                                                  0.000000        0.000000   \n",
      "25%                                                  0.000000        0.000000   \n",
      "50%                                                  0.000000        0.000000   \n",
      "75%                                                  0.000000        0.000000   \n",
      "max                                                  1.000000        1.000000   \n",
      "\n",
      "       Prior-normal-periods  \n",
      "count           1000.000000  \n",
      "mean               0.065000  \n",
      "std                0.246649  \n",
      "min                0.000000  \n",
      "25%                0.000000  \n",
      "50%                0.000000  \n",
      "75%                0.000000  \n",
      "max                1.000000  \n",
      "\n",
      "[8 rows x 131 columns]\n"
     ]
    }
   ],
   "source": [
    "print(present_df.info(verbose=True))\n",
    "print(present_df.describe())"
   ]
  },
  {
   "cell_type": "code",
   "execution_count": 16,
   "metadata": {},
   "outputs": [
    {
     "data": {
      "text/plain": [
       "<AxesSubplot:>"
      ]
     },
     "execution_count": 16,
     "metadata": {},
     "output_type": "execute_result"
    },
    {
     "data": {
      "image/png": "[encoded data removed]",
      "text/plain": [
       "<Figure size 360x2160 with 1 Axes>"
      ]
     },
     "metadata": {
      "needs_background": "light"
     },
     "output_type": "display_data"
    }
   ],
   "source": [
    "present_df.select_dtypes(exclude=['object']).mean().sort_values().plot(kind='barh', figsize=(5, 30))"
   ]
  },
  {
   "cell_type": "markdown",
   "metadata": {},
   "source": [
    "Clearly some features barely show up, while female and male by far dominate. A much easier task, then, is going to be to just try to predict whether the note is describing a female or male individual. Note that this is non-trivial as some notes are ambiguous (e.g. the second described \"pressure on HER chest\")"
   ]
  },
  {
   "cell_type": "code",
   "execution_count": 17,
   "metadata": {},
   "outputs": [
    {
     "data": {
      "text/html": [
       "<div>\n",
       "<style scoped>\n",
       "    .dataframe tbody tr th:only-of-type {\n",
       "        vertical-align: middle;\n",
       "    }\n",
       "\n",
       "    .dataframe tbody tr th {\n",
       "        vertical-align: top;\n",
       "    }\n",
       "\n",
       "    .dataframe thead th {\n",
       "        text-align: right;\n",
       "    }\n",
       "</style>\n",
       "<table border=\"1\" class=\"dataframe\">\n",
       "  <thead>\n",
       "    <tr style=\"text-align: right;\">\n",
       "      <th></th>\n",
       "      <th>pn_history</th>\n",
       "      <th>Family-history-of-MI-OR-Family-history-of-myocardial-infarction</th>\n",
       "      <th>Lightheaded</th>\n",
       "      <th>Adderall-use</th>\n",
       "      <th>Chest-pressure</th>\n",
       "      <th>17-year</th>\n",
       "      <th>Family-history-of-thyroid-disorder</th>\n",
       "      <th>Few-months-duration</th>\n",
       "      <th>Male</th>\n",
       "      <th>heart-pounding-OR-heart-racing</th>\n",
       "      <th>...</th>\n",
       "      <th>2-to-3-beers-a-week</th>\n",
       "      <th>Irregular-flow-OR-Irregular-frequency-OR-Irregular-intervals</th>\n",
       "      <th>Recent-upper-respiratory-symptoms</th>\n",
       "      <th>No-rash</th>\n",
       "      <th>Difficulty-falling-asleep</th>\n",
       "      <th>Associated-SOB-OR-Associated-shortness-of-breath</th>\n",
       "      <th>Recent-visit-to-emergency-department-with-negative-workup</th>\n",
       "      <th>Episode-of-hand-numbness-OR-Episode-of-finger-numbness</th>\n",
       "      <th>Heavy-sweating</th>\n",
       "      <th>Prior-normal-periods</th>\n",
       "    </tr>\n",
       "  </thead>\n",
       "  <tbody>\n",
       "  </tbody>\n",
       "</table>\n",
       "<p>0 rows × 132 columns</p>\n",
       "</div>"
      ],
      "text/plain": [
       "Empty DataFrame\n",
       "Columns: [pn_history, Family-history-of-MI-OR-Family-history-of-myocardial-infarction, Lightheaded, Adderall-use, Chest-pressure, 17-year, Family-history-of-thyroid-disorder, Few-months-duration, Male, heart-pounding-OR-heart-racing, Intermittent-symptoms, Fatigue, 67-year, Diminished-energy-OR-feeling-drained, 44-year, 35-year, Associated-throat-tightness, tossing-and-turning, Hot-flashes, Stress, Sleep-disturbance-OR-Early-awakenings, No-hair-changes-OR-no-nail-changes-OR-no-temperature-intolerance, Difficulty-with-sleep, viral-symptoms-OR-rhinorrhea-OR-scratchy-throat, Prior-episodes-of-diarrhea, No-chest-pain, Unprotected-Sex, IUD, Sexually-active, 1-day-duration-OR-2-days-duration, Onset-3-years-ago, Fatigue-OR-Difficulty-concentrating, Last-Pap-smear-I-year-ago, symptoms-for-6-months, Weight-stable, Episodes-of-heart-racing, Shortness-of-breath, NSAID-use-OR-Nonsteroidal-anti-inflammatory-drug-use, getting-worse-OR-progressive-OR-symptoms-now-daily, Sleeping-medication-ineffective, Weight-loss, Irregular-menses, Sharp-OR-stabbing-OR-7-to-8-out-of-10-on-pain-scale, loss-of-interest, 8-to-10-hours-of-acute-pain, Vaginal-dryness, Family-history-of-migraines, Associated-feeling-of-impending-doom, No-caffeine-use, Recent-nausea-vomiting-OR-Recent-flulike-symptoms, duration-2-months, No-depressed-mood, Post-prandial-bloating-OR-fullness-with-meals, LMP-2-months-ago-or-Last-menstrual-period-2-months-ago, No-vaginal-discharge, No-illicit-drug-use, No-suicidal-ideations, Myalgias, Photophobia, Heavy-caffeine-use, No-relief-with-asthma-inhaler, Neck-pain, Son-died-3-weeks-ago, Increased-frequency-recently, Nausea, Unsuccessful-napping, No-shortness-of-breath, Awakens-at-night, Normal-LMP-2-weeks-ago-OR-Normal-last-menstrual-period-2-weeks-ago, Recent-heavy-lifting-at-work-OR-recent-rock-climbing, 45-year, Visual-hallucination-once, Increased-stress, Increased-appetite, Darker-bowel-movements, Shares-an-apartment, anxious-OR-nervous, Associated-nausea, Worse-with-deep-breath-OR-pleuritic, heavy-periods-OR-irregular-periods, Feels-hot-OR-Feels-clammy, Subjective-fevers, Meningococcal-vaccine-status-unknown, No-bloody-bowel-movements, No-known-illness-contacts, Lack-of-other-thyroid-symptoms, No-urinary-symptoms, Chest-pain, Episodes-last-15-to-30-minutes, Infertility-HX-OR-Infertility-history, Subjective-fever, FHx-of-depression-OR-Family-history-of-depression, Insomnia, No-premenstrual-symptoms, No-blood-in-stool, Intermittent, No-relief-with-Motrin-OR-no-relief-with-tylenol, Duration-x-1-day, Decreased-appetite, Diminished-appetite, ...]\n",
       "Index: []\n",
       "\n",
       "[0 rows x 132 columns]"
      ]
     },
     "execution_count": 17,
     "metadata": {},
     "output_type": "execute_result"
    }
   ],
   "source": [
    "present_df.query('(Female == 1) & (Male == 1)')"
   ]
  },
  {
   "cell_type": "markdown",
   "metadata": {},
   "source": [
    "Fortunately there are no notes that have both! "
   ]
  },
  {
   "cell_type": "code",
   "execution_count": 18,
   "metadata": {},
   "outputs": [
    {
     "data": {
      "text/plain": [
       "34"
      ]
     },
     "execution_count": 18,
     "metadata": {},
     "output_type": "execute_result"
    }
   ],
   "source": [
    "len(present_df.query('(Female == 0) & (Male == 0)'))"
   ]
  },
  {
   "cell_type": "markdown",
   "metadata": {},
   "source": [
    "There are, however, some notes that have neither"
   ]
  },
  {
   "cell_type": "markdown",
   "metadata": {},
   "source": [
    "# A model to predict the presence of sex features"
   ]
  },
  {
   "cell_type": "code",
   "execution_count": 19,
   "metadata": {},
   "outputs": [
    {
     "name": "stdout",
     "output_type": "stream",
     "text": [
      "We have 966 datapoints\n",
      "We have 724 train points and 242 test points\n"
     ]
    }
   ],
   "source": [
    "data = present_df.query('(Female != 0) | (Male != 0)')[['pn_history', 'Male']]  # We can just predict whether the patient is male to get if they are female\n",
    "print(f'We have {len(data)} datapoints')\n",
    "train, test = train_test_split(data)\n",
    "print(f'We have {len(train)} train points and {len(test)} test points')"
   ]
  },
  {
   "cell_type": "markdown",
   "metadata": {},
   "source": [
    "We should begin by comparing to a simple baseline which just looks at the note for things like 'Man', \" M \" , \" F \", etc.. any machine learning strategy should be able to beat these."
   ]
  },
  {
   "cell_type": "markdown",
   "metadata": {},
   "source": [
    "## A simple baseline"
   ]
  },
  {
   "cell_type": "code",
   "execution_count": 20,
   "metadata": {},
   "outputs": [],
   "source": [
    "class SimpleClassifier(ClassifierMixin, BaseEstimator):\n",
    "    MALE_INDICATORS = {'MAN', 'M', 'MALE', 'GUY', 'DUDE', 'BOY', 'GENTLEMAN', 'GENT', 'HIS', 'HIM', 'HE'}\n",
    "    FEMALE_INDICATORS = {'WOMAN', 'W', 'SHE', 'LADY', 'FEMALE', 'HER', 'HERS'}\n",
    "\n",
    "    def predict(self, X: Union[pd.DataFrame, pd.Series, list]) -> np.array:\n",
    "        assert len(X.shape) == 1 or X.shape[1] == 1, 'can only fit on text'\n",
    "        out = []\n",
    "        for t in X:\n",
    "            cleaned = list(map(lambda s: s.upper(), t.split()))\n",
    "            male = any(mi in cleaned for mi in self.MALE_INDICATORS)\n",
    "            female = any(fi in cleaned for fi in self.FEMALE_INDICATORS)\n",
    "            if male and not female:\n",
    "                out.append(1)\n",
    "            elif not male and female:\n",
    "                out.append(0)\n",
    "            else:\n",
    "                out.append(0.5)\n",
    "        return np.array(out)"
   ]
  },
  {
   "cell_type": "code",
   "execution_count": 21,
   "metadata": {},
   "outputs": [
    {
     "data": {
      "text/plain": [
       "0.9791302883379572"
      ]
     },
     "execution_count": 21,
     "metadata": {},
     "output_type": "execute_result"
    }
   ],
   "source": [
    "roc_auc_score(train['Male'], SimpleClassifier().predict(train['pn_history']))"
   ]
  },
  {
   "cell_type": "code",
   "execution_count": 22,
   "metadata": {},
   "outputs": [
    {
     "name": "stdout",
     "output_type": "stream",
     "text": [
      "              precision    recall  f1-score   support\n",
      "\n",
      "         0.0       1.00      0.98      0.99       384\n",
      "         1.0       0.97      1.00      0.98       204\n",
      "\n",
      "    accuracy                           0.99       588\n",
      "   macro avg       0.98      0.99      0.99       588\n",
      "weighted avg       0.99      0.99      0.99       588\n",
      "\n"
     ]
    }
   ],
   "source": [
    "prediction_indices = np.argwhere(SimpleClassifier().predict(train['pn_history']) != 0.5).flatten()\n",
    "print(classification_report(train['Male'].to_numpy()[prediction_indices], SimpleClassifier().predict(train['pn_history'])[prediction_indices]))"
   ]
  },
  {
   "cell_type": "markdown",
   "metadata": {},
   "source": [
    "That is shockingly good, but note that the support is appreciably lower than the size of the training set. "
   ]
  },
  {
   "cell_type": "markdown",
   "metadata": {},
   "source": [
    "## A deep learning based approach"
   ]
  },
  {
   "cell_type": "markdown",
   "metadata": {},
   "source": [
    "Given the complexities of the text input I see no better approach that just going to deep learning from the getgo as a feature extraction mechanism. However we can try a few different ways to convert features into predictions, I imagine XGboost is going to work the best."
   ]
  },
  {
   "cell_type": "code",
   "execution_count": 23,
   "metadata": {},
   "outputs": [
    {
     "name": "stderr",
     "output_type": "stream",
     "text": [
      "Downloading: 100%|██████████| 532M/532M [00:14<00:00, 37.5MB/s] \n"
     ]
    }
   ],
   "source": [
    "from transformers import BartTokenizer, BartModel\n",
    "tokenizer = BartTokenizer.from_pretrained('facebook/bart-base')\n",
    "model = BartModel.from_pretrained('facebook/bart-base')\n",
    "\n",
    "inputs = tokenizer(\"Hello, my dog is cute\", return_tensors=\"pt\")\n",
    "outputs = model(**inputs)\n",
    "\n",
    "last_hidden_states = outputs.last_hidden_state"
   ]
  },
  {
   "cell_type": "code",
   "execution_count": 25,
   "metadata": {},
   "outputs": [
    {
     "data": {
      "text/plain": [
       "torch.Size([1, 8, 768])"
      ]
     },
     "execution_count": 25,
     "metadata": {},
     "output_type": "execute_result"
    }
   ],
   "source": [
    "last_hidden_states.shape"
   ]
  },
  {
   "cell_type": "code",
   "execution_count": 26,
   "metadata": {},
   "outputs": [
    {
     "name": "stdout",
     "output_type": "stream",
     "text": [
      "\u001b[0;31mInit signature:\u001b[0m\n",
      "\u001b[0mBartTokenizer\u001b[0m\u001b[0;34m(\u001b[0m\u001b[0;34m\u001b[0m\n",
      "\u001b[0;34m\u001b[0m    \u001b[0mvocab_file\u001b[0m\u001b[0;34m,\u001b[0m\u001b[0;34m\u001b[0m\n",
      "\u001b[0;34m\u001b[0m    \u001b[0mmerges_file\u001b[0m\u001b[0;34m,\u001b[0m\u001b[0;34m\u001b[0m\n",
      "\u001b[0;34m\u001b[0m    \u001b[0merrors\u001b[0m\u001b[0;34m=\u001b[0m\u001b[0;34m'replace'\u001b[0m\u001b[0;34m,\u001b[0m\u001b[0;34m\u001b[0m\n",
      "\u001b[0;34m\u001b[0m    \u001b[0mbos_token\u001b[0m\u001b[0;34m=\u001b[0m\u001b[0;34m'<s>'\u001b[0m\u001b[0;34m,\u001b[0m\u001b[0;34m\u001b[0m\n",
      "\u001b[0;34m\u001b[0m    \u001b[0meos_token\u001b[0m\u001b[0;34m=\u001b[0m\u001b[0;34m'</s>'\u001b[0m\u001b[0;34m,\u001b[0m\u001b[0;34m\u001b[0m\n",
      "\u001b[0;34m\u001b[0m    \u001b[0msep_token\u001b[0m\u001b[0;34m=\u001b[0m\u001b[0;34m'</s>'\u001b[0m\u001b[0;34m,\u001b[0m\u001b[0;34m\u001b[0m\n",
      "\u001b[0;34m\u001b[0m    \u001b[0mcls_token\u001b[0m\u001b[0;34m=\u001b[0m\u001b[0;34m'<s>'\u001b[0m\u001b[0;34m,\u001b[0m\u001b[0;34m\u001b[0m\n",
      "\u001b[0;34m\u001b[0m    \u001b[0munk_token\u001b[0m\u001b[0;34m=\u001b[0m\u001b[0;34m'<unk>'\u001b[0m\u001b[0;34m,\u001b[0m\u001b[0;34m\u001b[0m\n",
      "\u001b[0;34m\u001b[0m    \u001b[0mpad_token\u001b[0m\u001b[0;34m=\u001b[0m\u001b[0;34m'<pad>'\u001b[0m\u001b[0;34m,\u001b[0m\u001b[0;34m\u001b[0m\n",
      "\u001b[0;34m\u001b[0m    \u001b[0mmask_token\u001b[0m\u001b[0;34m=\u001b[0m\u001b[0;34m'<mask>'\u001b[0m\u001b[0;34m,\u001b[0m\u001b[0;34m\u001b[0m\n",
      "\u001b[0;34m\u001b[0m    \u001b[0madd_prefix_space\u001b[0m\u001b[0;34m=\u001b[0m\u001b[0;32mFalse\u001b[0m\u001b[0;34m,\u001b[0m\u001b[0;34m\u001b[0m\n",
      "\u001b[0;34m\u001b[0m    \u001b[0;34m**\u001b[0m\u001b[0mkwargs\u001b[0m\u001b[0;34m,\u001b[0m\u001b[0;34m\u001b[0m\n",
      "\u001b[0;34m\u001b[0m\u001b[0;34m)\u001b[0m\u001b[0;34m\u001b[0m\u001b[0;34m\u001b[0m\u001b[0m\n",
      "\u001b[0;31mDocstring:\u001b[0m     \n",
      "Constructs a BART tokenizer, which is smilar to the ROBERTa tokenizer, using byte-level Byte-Pair-Encoding.\n",
      "\n",
      "This tokenizer has been trained to treat spaces like parts of the tokens (a bit like sentencepiece) so a word will\n",
      "be encoded differently whether it is at the beginning of the sentence (without space) or not:\n",
      "\n",
      "```\n",
      ">>> from transformers import BartTokenizer\n",
      ">>> tokenizer = BartTokenizer.from_pretrained(\"facebook/bart-base\")\n",
      ">>> tokenizer(\"Hello world\")['input_ids']\n",
      "[0, 31414, 232, 2]\n",
      ">>> tokenizer(\" Hello world\")['input_ids']\n",
      "[0, 20920, 232, 2]\n",
      "```\n",
      "\n",
      "You can get around that behavior by passing `add_prefix_space=True` when instantiating this tokenizer or when you\n",
      "call it on some text, but since the model was not pretrained this way, it might yield a decrease in performance.\n",
      "\n",
      "<Tip>\n",
      "\n",
      "When used with `is_split_into_words=True`, this tokenizer will add a space before each word (even the first one).\n",
      "\n",
      "</Tip>\n",
      "\n",
      "This tokenizer inherits from [`PreTrainedTokenizer`] which contains most of the main methods. Users should refer to\n",
      "this superclass for more information regarding those methods.\n",
      "\n",
      "Args:\n",
      "    vocab_file (`str`):\n",
      "        Path to the vocabulary file.\n",
      "    merges_file (`str`):\n",
      "        Path to the merges file.\n",
      "    errors (`str`, *optional*, defaults to `\"replace\"`):\n",
      "        Paradigm to follow when decoding bytes to UTF-8. See\n",
      "        [bytes.decode](https://docs.python.org/3/library/stdtypes.html#bytes.decode) for more information.\n",
      "    bos_token (`str`, *optional*, defaults to `\"<s>\"`):\n",
      "        The beginning of sequence token that was used during pretraining. Can be used a sequence classifier token.\n",
      "\n",
      "        <Tip>\n",
      "\n",
      "        When building a sequence using special tokens, this is not the token that is used for the beginning of\n",
      "        sequence. The token used is the `cls_token`.\n",
      "\n",
      "        </Tip>\n",
      "\n",
      "    eos_token (`str`, *optional*, defaults to `\"</s>\"`):\n",
      "        The end of sequence token.\n",
      "\n",
      "        <Tip>\n",
      "\n",
      "        When building a sequence using special tokens, this is not the token that is used for the end of sequence.\n",
      "        The token used is the `sep_token`.\n",
      "\n",
      "        </Tip>\n",
      "\n",
      "    sep_token (`str`, *optional*, defaults to `\"</s>\"`):\n",
      "        The separator token, which is used when building a sequence from multiple sequences, e.g. two sequences for\n",
      "        sequence classification or for a text and a question for question answering. It is also used as the last\n",
      "        token of a sequence built with special tokens.\n",
      "    cls_token (`str`, *optional*, defaults to `\"<s>\"`):\n",
      "        The classifier token which is used when doing sequence classification (classification of the whole sequence\n",
      "        instead of per-token classification). It is the first token of the sequence when built with special tokens.\n",
      "    unk_token (`str`, *optional*, defaults to `\"<unk>\"`):\n",
      "        The unknown token. A token that is not in the vocabulary cannot be converted to an ID and is set to be this\n",
      "        token instead.\n",
      "    pad_token (`str`, *optional*, defaults to `\"<pad>\"`):\n",
      "        The token used for padding, for example when batching sequences of different lengths.\n",
      "    mask_token (`str`, *optional*, defaults to `\"<mask>\"`):\n",
      "        The token used for masking values. This is the token used when training this model with masked language\n",
      "        modeling. This is the token which the model will try to predict.\n",
      "    add_prefix_space (`bool`, *optional*, defaults to `False`):\n",
      "        Whether or not to add an initial space to the input. This allows to treat the leading word just as any\n",
      "        other word. (BART tokenizer detect beginning of words by the preceding space).\n",
      "\u001b[0;31mFile:\u001b[0m           ~/opt/anaconda3/envs/PersonalCoding/lib/python3.10/site-packages/transformers/models/bart/tokenization_bart.py\n",
      "\u001b[0;31mType:\u001b[0m           type\n",
      "\u001b[0;31mSubclasses:\u001b[0m     \n"
     ]
    }
   ],
   "source": [
    "?BartTokenizer"
   ]
  },
  {
   "cell_type": "code",
   "execution_count": null,
   "metadata": {},
   "outputs": [],
   "source": []
  }
 ],
 "metadata": {
  "interpreter": {
   "hash": "59811a21b6bdb79b6f1a3b21d01b6e64bb63c5c292a63d3c5cec461d0e515581"
  },
  "kernelspec": {
   "display_name": "Python 3.10.0 ('PersonalCoding')",
   "language": "python",
   "name": "python3"
  },
  "language_info": {
   "codemirror_mode": {
    "name": "ipython",
    "version": 3
   },
   "file_extension": ".py",
   "mimetype": "text/x-python",
   "name": "python",
   "nbconvert_exporter": "python",
   "pygments_lexer": "ipython3",
   "version": "3.10.0"
  },
  "orig_nbformat": 4
 },
 "nbformat": 4,
 "nbformat_minor": 2
}
