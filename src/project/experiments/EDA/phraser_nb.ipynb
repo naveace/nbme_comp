{
 "cells": [
  {
   "cell_type": "code",
   "execution_count": 1,
   "metadata": {
    "collapsed": true
   },
   "outputs": [
    {
     "name": "stderr",
     "output_type": "stream",
     "text": [
      "[nltk_data] Downloading package punkt to\n",
      "[nltk_data]     /Users/yuvalmamana/nltk_data...\n",
      "[nltk_data]   Package punkt is already up-to-date!\n"
     ]
    }
   ],
   "source": [
    "import re\n",
    "import nltk\n",
    "import numpy as np\n",
    "import pandas as pd\n",
    "nltk.download('punkt')\n",
    "from nltk.tokenize import sent_tokenize\n",
    "from sklearn.metrics.pairwise import cosine_similarity\n",
    "from sentence_transformers import SentenceTransformer\n",
    "import sys\n",
    "sys.path.insert(0, '../../data')\n",
    "import data_loaders"
   ]
  },
  {
   "cell_type": "code",
   "execution_count": 2,
   "outputs": [],
   "source": [
    "def phrase(text: str) -> list:\n",
    "    \"\"\"\n",
    "    Divide patient notes into phrases by splitting by commas and periods and using nltk sent_tokenize.\n",
    "    Gets a piece of text and returns a list of phrases\n",
    "    \"\"\"\n",
    "    phrases = text.split(', ')\n",
    "    phrases = [i.split('. ') for i in phrases]\n",
    "    phrases = [sent_tokenize(val) for sublist in phrases for val in sublist]\n",
    "    phrases = [val for sublist in phrases for val in sublist]\n",
    "\n",
    "    return phrases"
   ],
   "metadata": {
    "collapsed": false,
    "pycharm": {
     "name": "#%%\n"
    }
   }
  },
  {
   "cell_type": "code",
   "execution_count": 3,
   "outputs": [],
   "source": [
    "def process_feature_text(text: str) -> str:\n",
    "    \"\"\"\n",
    "    Cleans feature text\n",
    "    \"\"\"\n",
    "    text = re.sub('I-year', '1-year', text)\n",
    "    text = re.sub('-OR-', \" or \", text)\n",
    "    text = re.sub('-', ' ', text)\n",
    "\n",
    "    return text"
   ],
   "metadata": {
    "collapsed": false,
    "pycharm": {
     "name": "#%%\n"
    }
   }
  },
  {
   "cell_type": "code",
   "execution_count": 4,
   "outputs": [],
   "source": [
    "def get_features(case=None):\n",
    "    features = data_loaders.get_features()\n",
    "    features['feature_text'] = features['feature_text'].apply(process_feature_text)\n",
    "    if case is not None:\n",
    "        features = features[features['case_num'] == case].reset_index(drop=True)\n",
    "    return features"
   ],
   "metadata": {
    "collapsed": false,
    "pycharm": {
     "name": "#%%\n"
    }
   }
  },
  {
   "cell_type": "code",
   "execution_count": 5,
   "outputs": [],
   "source": [
    "def train_bert(sentences: list, show_pbar=False):\n",
    "    model = SentenceTransformer('all-mpnet-base-v2')\n",
    "    embeddings = model.encode(sentences, show_progress_bar=show_pbar)\n",
    "\n",
    "    return embeddings, model"
   ],
   "metadata": {
    "collapsed": false,
    "pycharm": {
     "name": "#%%\n"
    }
   }
  },
  {
   "cell_type": "code",
   "execution_count": 6,
   "outputs": [],
   "source": [
    "def bert_similarity(s: str, embeddings, model: SentenceTransformer) -> (int, float):\n",
    "    \"\"\"\n",
    "    return the index and similarity score of the most similar feature to a given string\n",
    "    \"\"\"\n",
    "    y = model.encode(s).reshape(1, -1)\n",
    "    sim = cosine_similarity(embeddings, y)\n",
    "    opt_index = np.argmax(sim)\n",
    "\n",
    "    return opt_index, sim[opt_index][0]"
   ],
   "metadata": {
    "collapsed": false,
    "pycharm": {
     "name": "#%%\n"
    }
   }
  },
  {
   "cell_type": "code",
   "execution_count": 7,
   "outputs": [],
   "source": [
    "def predict(feature_num: int, case_num:int, pn_note: str, threshold=0.47) -> list:\n",
    "    \"\"\"\n",
    "    returns a list of tuples of predicted locations of a given feature in a given text\n",
    "    \"\"\"\n",
    "    features = get_features(case_num)\n",
    "    embeddings, model = train_bert(features['feature_text'])\n",
    "    phrases = phrase(pn_note)\n",
    "    start = 0\n",
    "    locations = []\n",
    "    similarities = []\n",
    "    for phrase_txt in phrases:\n",
    "        end = start + len(phrase_txt)\n",
    "        index, sim = bert_similarity(phrase_txt, embeddings, model)\n",
    "        f_num = features['feature_num'][index]\n",
    "        if f_num == feature_num and sim > threshold:\n",
    "            similarities.append(sim)\n",
    "            locations.append((start, end))\n",
    "        start += len(phrase_txt) + 2\n",
    "\n",
    "    return locations"
   ],
   "metadata": {
    "collapsed": false,
    "pycharm": {
     "name": "#%%\n"
    }
   }
  },
  {
   "cell_type": "code",
   "execution_count": 16,
   "outputs": [],
   "source": [
    "def prepare_test_data() -> pd.DataFrame:\n",
    "    \"\"\"\n",
    "    get test data and adds the notes text\n",
    "    \"\"\"\n",
    "    notes: pd.DataFrame = data_loaders.get_patient_notes()\n",
    "    notes = notes.set_index('pn_num', drop=True)\n",
    "    test = pd.read_csv('../../data/test.csv')\n",
    "    test['pn_history'] = test['pn_num'].apply(lambda x: notes.loc[int(x)]['pn_history'])\n",
    "\n",
    "    return test"
   ],
   "metadata": {
    "collapsed": false,
    "pycharm": {
     "name": "#%%\n"
    }
   }
  },
  {
   "cell_type": "code",
   "execution_count": 37,
   "outputs": [],
   "source": [
    "test = prepare_test_data()"
   ],
   "metadata": {
    "collapsed": false,
    "pycharm": {
     "name": "#%%\n"
    }
   }
  },
  {
   "cell_type": "code",
   "execution_count": 38,
   "outputs": [],
   "source": [
    "test['pred'] = test.apply(lambda row: predict(row['feature_num'], row['case_num'], row['pn_history'], threshold=0.48), axis=1)"
   ],
   "metadata": {
    "collapsed": false,
    "pycharm": {
     "name": "#%%\n"
    }
   }
  },
  {
   "cell_type": "code",
   "execution_count": 39,
   "outputs": [
    {
     "data": {
      "text/plain": "          id  case_num  pn_num  feature_num  \\\n0  80245_816         8   80245          816   \n1  80307_800         8   80307          800   \n2  80307_817         8   80307          817   \n3  80307_811         8   80307          811   \n4  80307_805         8   80307          805   \n\n                                          pn_history                      pred  \n0  Pt is a 67 year old female with PMH of high bl...              [(354, 402)]  \n1  Ms. Wicks is a 67 yo F h/o HTN and breast ca i...  [(382, 398), (651, 678)]  \n2  Ms. Wicks is a 67 yo F h/o HTN and breast ca i...  [(400, 436), (680, 699)]  \n3  Ms. Wicks is a 67 yo F h/o HTN and breast ca i...              [(701, 717)]  \n4  Ms. Wicks is a 67 yo F h/o HTN and breast ca i...                        []  ",
      "text/html": "<div>\n<style scoped>\n    .dataframe tbody tr th:only-of-type {\n        vertical-align: middle;\n    }\n\n    .dataframe tbody tr th {\n        vertical-align: top;\n    }\n\n    .dataframe thead th {\n        text-align: right;\n    }\n</style>\n<table border=\"1\" class=\"dataframe\">\n  <thead>\n    <tr style=\"text-align: right;\">\n      <th></th>\n      <th>id</th>\n      <th>case_num</th>\n      <th>pn_num</th>\n      <th>feature_num</th>\n      <th>pn_history</th>\n      <th>pred</th>\n    </tr>\n  </thead>\n  <tbody>\n    <tr>\n      <th>0</th>\n      <td>80245_816</td>\n      <td>8</td>\n      <td>80245</td>\n      <td>816</td>\n      <td>Pt is a 67 year old female with PMH of high bl...</td>\n      <td>[(354, 402)]</td>\n    </tr>\n    <tr>\n      <th>1</th>\n      <td>80307_800</td>\n      <td>8</td>\n      <td>80307</td>\n      <td>800</td>\n      <td>Ms. Wicks is a 67 yo F h/o HTN and breast ca i...</td>\n      <td>[(382, 398), (651, 678)]</td>\n    </tr>\n    <tr>\n      <th>2</th>\n      <td>80307_817</td>\n      <td>8</td>\n      <td>80307</td>\n      <td>817</td>\n      <td>Ms. Wicks is a 67 yo F h/o HTN and breast ca i...</td>\n      <td>[(400, 436), (680, 699)]</td>\n    </tr>\n    <tr>\n      <th>3</th>\n      <td>80307_811</td>\n      <td>8</td>\n      <td>80307</td>\n      <td>811</td>\n      <td>Ms. Wicks is a 67 yo F h/o HTN and breast ca i...</td>\n      <td>[(701, 717)]</td>\n    </tr>\n    <tr>\n      <th>4</th>\n      <td>80307_805</td>\n      <td>8</td>\n      <td>80307</td>\n      <td>805</td>\n      <td>Ms. Wicks is a 67 yo F h/o HTN and breast ca i...</td>\n      <td>[]</td>\n    </tr>\n  </tbody>\n</table>\n</div>"
     },
     "execution_count": 39,
     "metadata": {},
     "output_type": "execute_result"
    }
   ],
   "source": [
    "test"
   ],
   "metadata": {
    "collapsed": false,
    "pycharm": {
     "name": "#%%\n"
    }
   }
  },
  {
   "cell_type": "code",
   "execution_count": 29,
   "outputs": [],
   "source": [
    "import spacy\n",
    "import numpy as np\n",
    "\n",
    "def plot_annotation(df, pn_num):\n",
    "    \"\"\"\n",
    "    see example bellow - mark the anotation on the text, and adds the required feature text for each.\n",
    "    \"\"\"\n",
    "    options = {\"colors\": {}}\n",
    "\n",
    "    df_text = df[df[\"pn_num\"] == pn_num].reset_index(drop=True)\n",
    "\n",
    "    text = df_text[\"pn_history\"][0]\n",
    "    ents = []\n",
    "\n",
    "    for spans, feature_text, feature_num in df_text[[\"span\", \"feature_text\", \"feature_num\"]].values:\n",
    "        print(spans)\n",
    "        for s in spans:\n",
    "            ents.append({\"start\": int(s[0]), \"end\": int(s[1]), \"label\": feature_text})\n",
    "\n",
    "        options[\"colors\"][feature_text] =  f\"rgb{tuple(np.random.randint(100, 255, size=3))}\"\n",
    "\n",
    "    doc = {\"text\": text, \"ents\": sorted(ents, key=lambda i: i[\"start\"])}\n",
    "\n",
    "    spacy.displacy.render(doc, style=\"ent\", options=options, manual=True, jupyter=True)"
   ],
   "metadata": {
    "collapsed": false,
    "pycharm": {
     "name": "#%%\n"
    }
   }
  },
  {
   "cell_type": "code",
   "execution_count": 31,
   "outputs": [
    {
     "data": {
      "text/plain": "          id  case_num  pn_num  feature_num  \\\n0  80245_816         8   80245          816   \n1  80307_800         8   80307          800   \n2  80307_817         8   80307          817   \n3  80307_811         8   80307          811   \n\n                                          pn_history  \\\n0  Pt is a 67 year old female with PMH of high bl...   \n1  Ms. Wicks is a 67 yo F h/o HTN and breast ca i...   \n2  Ms. Wicks is a 67 yo F h/o HTN and breast ca i...   \n3  Ms. Wicks is a 67 yo F h/o HTN and breast ca i...   \n\n                       pred                          feature_text  \n0              [(354, 402)]                 No-suicidal-ideations  \n1  [(382, 398), (651, 678)]                    Increased-appetite  \n2  [(400, 436), (680, 699)]                 Difficulty-with-sleep  \n3              [(701, 717)]  Diminished-energy-OR-feeling-drained  ",
      "text/html": "<div>\n<style scoped>\n    .dataframe tbody tr th:only-of-type {\n        vertical-align: middle;\n    }\n\n    .dataframe tbody tr th {\n        vertical-align: top;\n    }\n\n    .dataframe thead th {\n        text-align: right;\n    }\n</style>\n<table border=\"1\" class=\"dataframe\">\n  <thead>\n    <tr style=\"text-align: right;\">\n      <th></th>\n      <th>id</th>\n      <th>case_num</th>\n      <th>pn_num</th>\n      <th>feature_num</th>\n      <th>pn_history</th>\n      <th>pred</th>\n      <th>feature_text</th>\n    </tr>\n  </thead>\n  <tbody>\n    <tr>\n      <th>0</th>\n      <td>80245_816</td>\n      <td>8</td>\n      <td>80245</td>\n      <td>816</td>\n      <td>Pt is a 67 year old female with PMH of high bl...</td>\n      <td>[(354, 402)]</td>\n      <td>No-suicidal-ideations</td>\n    </tr>\n    <tr>\n      <th>1</th>\n      <td>80307_800</td>\n      <td>8</td>\n      <td>80307</td>\n      <td>800</td>\n      <td>Ms. Wicks is a 67 yo F h/o HTN and breast ca i...</td>\n      <td>[(382, 398), (651, 678)]</td>\n      <td>Increased-appetite</td>\n    </tr>\n    <tr>\n      <th>2</th>\n      <td>80307_817</td>\n      <td>8</td>\n      <td>80307</td>\n      <td>817</td>\n      <td>Ms. Wicks is a 67 yo F h/o HTN and breast ca i...</td>\n      <td>[(400, 436), (680, 699)]</td>\n      <td>Difficulty-with-sleep</td>\n    </tr>\n    <tr>\n      <th>3</th>\n      <td>80307_811</td>\n      <td>8</td>\n      <td>80307</td>\n      <td>811</td>\n      <td>Ms. Wicks is a 67 yo F h/o HTN and breast ca i...</td>\n      <td>[(701, 717)]</td>\n      <td>Diminished-energy-OR-feeling-drained</td>\n    </tr>\n  </tbody>\n</table>\n</div>"
     },
     "execution_count": 31,
     "metadata": {},
     "output_type": "execute_result"
    }
   ],
   "source": [
    "test['feature_text'] = ['No-suicidal-ideations', 'Increased-appetite', 'Difficulty-with-sleep', 'Diminished-energy-OR-feeling-drained']\n",
    "test"
   ],
   "metadata": {
    "collapsed": false,
    "pycharm": {
     "name": "#%%\n"
    }
   }
  },
  {
   "cell_type": "code",
   "execution_count": 32,
   "outputs": [],
   "source": [
    "test['span'] = test['pred']"
   ],
   "metadata": {
    "collapsed": false,
    "pycharm": {
     "name": "#%%\n"
    }
   }
  },
  {
   "cell_type": "code",
   "execution_count": 33,
   "outputs": [
    {
     "name": "stdout",
     "output_type": "stream",
     "text": [
      "[(382, 398), (651, 678)]\n",
      "[(400, 436), (680, 699)]\n",
      "[(701, 717)]\n"
     ]
    },
    {
     "data": {
      "text/plain": "<IPython.core.display.HTML object>",
      "text/html": "<span class=\"tex2jax_ignore\"><div class=\"entities\" style=\"line-height: 2.5; direction: ltr\">Ms. Wicks is a 67 yo F h/o HTN and breast ca in remission 10 y who p/w difficulty sleeping.  She states that she has been having difficulty falling asleep and staying asleep for the past three weeks with associated early awakenings, correlated with the tragic passing of her son in an MVA.  She has attempted 5 nights of ambien use without changes in her symptoms.  Denies snoring, \n<mark class=\"entity\" style=\"background: rgb(157, 160, 204); padding: 0.45em 0.6em; margin: 0 0.25em; line-height: 1; border-radius: 0.35em;\">\n    weight gain/loss\n    <span style=\"font-size: 0.8em; font-weight: bold; line-height: 1; border-radius: 0.35em; vertical-align: middle; margin-left: 0.5rem\">Increased-appetite</span>\n</mark>\n, \n<mark class=\"entity\" style=\"background: rgb(163, 227, 236); padding: 0.45em 0.6em; margin: 0 0.25em; line-height: 1; border-radius: 0.35em;\">\n    other sx besides difficulty sleeping\n    <span style=\"font-size: 0.8em; font-weight: bold; line-height: 1; border-radius: 0.35em; vertical-align: middle; margin-left: 0.5rem\">Difficulty-with-sleep</span>\n</mark>\n. She has been having some difficulty coping with this loss, but has a good support system in her family and husband.  No desire for additional counseling at this time. Denies depression, SI, guilt, psychomotor sx. \n<mark class=\"entity\" style=\"background: rgb(157, 160, 204); padding: 0.45em 0.6em; margin: 0 0.25em; line-height: 1; border-radius: 0.35em;\">\n    Endorses increased appetite\n    <span style=\"font-size: 0.8em; font-weight: bold; line-height: 1; border-radius: 0.35em; vertical-align: middle; margin-left: 0.5rem\">Increased-appetite</span>\n</mark>\n, \n<mark class=\"entity\" style=\"background: rgb(163, 227, 236); padding: 0.45em 0.6em; margin: 0 0.25em; line-height: 1; border-radius: 0.35em;\">\n    difficulty sleeping\n    <span style=\"font-size: 0.8em; font-weight: bold; line-height: 1; border-radius: 0.35em; vertical-align: middle; margin-left: 0.5rem\">Difficulty-with-sleep</span>\n</mark>\n, \n<mark class=\"entity\" style=\"background: rgb(110, 166, 203); padding: 0.45em 0.6em; margin: 0 0.25em; line-height: 1; border-radius: 0.35em;\">\n    decreased energy\n    <span style=\"font-size: 0.8em; font-weight: bold; line-height: 1; border-radius: 0.35em; vertical-align: middle; margin-left: 0.5rem\">Diminished-energy-OR-feeling-drained</span>\n</mark>\n, anhedonia.\r</br>PMH: htn, breast ca (10 yr remission)\r</br>PSH: lumpectomy, lap appy\r</br>MED: hctz, lisinopril\r</br>all: nkda\r</br>SH: no drug/tobacco use, no recent ETOH use but otherwise 2 drinsk 2-3nights/wk\r</br>FH: father (CVA), mother (MDD)</div></span>"
     },
     "metadata": {},
     "output_type": "display_data"
    }
   ],
   "source": [
    "plot_annotation(test, 80307)"
   ],
   "metadata": {
    "collapsed": false,
    "pycharm": {
     "name": "#%%\n"
    }
   }
  },
  {
   "cell_type": "code",
   "execution_count": null,
   "outputs": [],
   "source": [],
   "metadata": {
    "collapsed": false,
    "pycharm": {
     "name": "#%%\n"
    }
   }
  }
 ],
 "metadata": {
  "kernelspec": {
   "display_name": "Python 3",
   "language": "python",
   "name": "python3"
  },
  "language_info": {
   "codemirror_mode": {
    "name": "ipython",
    "version": 2
   },
   "file_extension": ".py",
   "mimetype": "text/x-python",
   "name": "python",
   "nbconvert_exporter": "python",
   "pygments_lexer": "ipython2",
   "version": "2.7.6"
  }
 },
 "nbformat": 4,
 "nbformat_minor": 0
}