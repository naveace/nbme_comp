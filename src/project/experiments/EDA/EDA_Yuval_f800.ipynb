{
 "cells": [
  {
   "cell_type": "markdown",
   "metadata": {
    "collapsed": true,
    "pycharm": {
     "name": "#%% md\n"
    }
   },
   "source": [
    "## Similarity of phrases"
   ]
  },
  {
   "cell_type": "code",
   "execution_count": 1,
   "outputs": [
    {
     "name": "stderr",
     "output_type": "stream",
     "text": [
      "[nltk_data] Downloading package punkt to\n",
      "[nltk_data]     /Users/yuvalmamana/nltk_data...\n",
      "[nltk_data]   Package punkt is already up-to-date!\n"
     ]
    }
   ],
   "source": [
    "import pandas as pd\n",
    "import numpy as np\n",
    "import nltk\n",
    "nltk.download('punkt')\n",
    "from nltk.tokenize import sent_tokenize\n",
    "from sklearn.metrics.pairwise import cosine_similarity\n",
    "from sentence_transformers import SentenceTransformer\n",
    "import ast\n",
    "import sys\n",
    "sys.path.insert(0, '../../data')\n",
    "import data_loaders"
   ],
   "metadata": {
    "collapsed": false,
    "pycharm": {
     "name": "#%%\n"
    }
   }
  },
  {
   "cell_type": "markdown",
   "source": [
    "#### Load the data and filter by feature, add annotation_length column for analysis"
   ],
   "metadata": {
    "collapsed": false,
    "pycharm": {
     "name": "#%% md\n"
    }
   }
  },
  {
   "cell_type": "code",
   "execution_count": 2,
   "outputs": [],
   "source": [
    "train = data_loaders.get_clean_train_data()\n",
    "train = train[train['feature_num'] == 800]"
   ],
   "metadata": {
    "collapsed": false,
    "pycharm": {
     "name": "#%%\n"
    }
   }
  },
  {
   "cell_type": "code",
   "execution_count": 3,
   "outputs": [],
   "source": [
    "def add_phrases_manual(train):\n",
    "    \"\"\"\n",
    "    'manually' divide patient notes into phrases by splitting by commas and periods.\n",
    "    \"\"\"\n",
    "    train['phrases_manual'] = train['pn_history'].apply(lambda x: x.split(', '))\n",
    "    train['phrases_manual'] = train['phrases_manual'].apply(lambda x: [i.split('. ') for i in x])\n",
    "    train['phrases_manual'] = train['phrases_manual'].apply(lambda row: [val for sublist in row for val in sublist])\n",
    "    train = train.reset_index().drop('index', axis=1)\n",
    "\n",
    "    return train\n",
    "\n",
    "def add_phrases_tokenizer(train, tokenizer):\n",
    "    \"\"\"\n",
    "    add 2 columns to train:\n",
    "     - phrases_tokenizer: patient notes divided into phrases using a given tokenizer\n",
    "     - phrases: phrases_manual divided into phrases using a given tokenizer\n",
    "    \"\"\"\n",
    "    train['phrases_tokenizer'] = train['pn_history'].apply(tokenizer)\n",
    "    train['phrases'] = train['phrases_manual'].apply(lambda row: [tokenizer(val) for val in row])\n",
    "    train['phrases'] = train['phrases'].apply(lambda row: [val for sublist in row for val in sublist])\n",
    "\n",
    "    return train"
   ],
   "metadata": {
    "collapsed": false,
    "pycharm": {
     "name": "#%%\n"
    }
   }
  },
  {
   "cell_type": "code",
   "execution_count": 4,
   "outputs": [],
   "source": [
    "train = add_phrases_manual(train)\n",
    "train = add_phrases_tokenizer(train, sent_tokenize)\n",
    "\n",
    "# initializing results columns\n",
    "train['similarity'] = [[] for _ in range(len(train['pn_num']))]\n",
    "train['phrase'] = [[] for _ in range(len(train['pn_num']))]\n",
    "train['res_loc'] = [[] for _ in range(len(train['pn_num']))]"
   ],
   "metadata": {
    "collapsed": false,
    "pycharm": {
     "name": "#%%\n"
    }
   }
  },
  {
   "cell_type": "markdown",
   "source": [
    "#### The pre-processed train dataset:"
   ],
   "metadata": {
    "collapsed": false,
    "pycharm": {
     "name": "#%% md\n"
    }
   }
  },
  {
   "cell_type": "code",
   "execution_count": 5,
   "outputs": [
    {
     "name": "stdout",
     "output_type": "stream",
     "text": [
      "- HPI:67 Y F c/o trouble sleeping since last 3 weeks\n",
      "- son died in a motor vehicle accident 3 weeks ago when the symptoms started,takes AMPIEN for problem but not relieved completely\n",
      "- no compla complains of eating more since then\n",
      "- no complaints of,no weight gain\n",
      "- constipation.\n",
      "- PMH:kc/o high blood pressure takes HCTZ since last 15 years and LIsinopril since last 5 years\n",
      "- h/o breast cancer- lumpectomy 10 years ago\r\n",
      " h/o laparotomy for appendicitis at 20 years of age\n",
      "- no history of travel\r\n",
      "FH: not significant\r\n",
      "\r\n",
      "SH: retired receptionist\n",
      "- lives with husband,\r\n",
      "      no smokig\n",
      "- drinks occasionally\n",
      "-  no recreational drugs\r\n",
      "      sexually active with husband\n"
     ]
    },
    {
     "data": {
      "text/plain": "           id  case_num  pn_num  feature_num  \\\n0   80039_800         8   80039          800   \n1   80042_800         8   80042          800   \n2   80066_800         8   80066          800   \n3   80098_800         8   80098          800   \n4   80245_800         8   80245          800   \n..        ...       ...     ...          ...   \n95  84191_800         8   84191          800   \n96  84231_800         8   84231          800   \n97  84255_800         8   84255          800   \n98  84273_800         8   84273          800   \n99  84366_800         8   84366          800   \n\n                               annotation        location_raw  \\\n0   [appetite has increased, eating more]  [468 490, 502 513]   \n1                                      []                  []   \n2                [eating more than usual]           [364 386]   \n3                    [Increased appetite]           [255 273]   \n4                                      []                  []   \n..                                    ...                 ...   \n95                [appetite is increased]           [510 531]   \n96               [appetite has increased]           [358 380]   \n97               [appetite has increased]           [503 525]   \n98                   [Increased appetite]           [211 229]   \n99                        [Incr appetite]           [597 610]   \n\n          feature_text                                         pn_history  \\\n0   Increased-appetite  Loraine Wicks is a 67 y.o. woman here for diff...   \n1   Increased-appetite  67yo F presents with trouble sleeping. She rep...   \n2   Increased-appetite  Pt is a 67 yo F presenting with insomnia x 3 w...   \n3   Increased-appetite  Mrs Loraine Wicks a 67 Y old F pt presenting t...   \n4   Increased-appetite  Pt is a 67 year old female with PMH of high bl...   \n..                 ...                                                ...   \n95  Increased-appetite  Identity: Loraine Wicks, a 67-year-old female\\...   \n96  Increased-appetite  Loraine Wicks is a 67 yo F with a history of H...   \n97  Increased-appetite  HPI: 67 yo F, G1P1, c/o trouble sleeping for t...   \n98  Increased-appetite  67F w/ PMH of breast CA in remission, presenti...   \n99  Increased-appetite  Ms. Wicks is a 67 year old F PMH HTN, Breast C...   \n\n                    location  \\\n0   [(468, 490), (502, 513)]   \n1                         []   \n2               [(364, 386)]   \n3               [(255, 273)]   \n4                         []   \n..                       ...   \n95              [(510, 531)]   \n96              [(358, 380)]   \n97              [(503, 525)]   \n98              [(211, 229)]   \n99              [(597, 610)]   \n\n                                       phrases_manual  \\\n0   [Loraine Wicks is a 67 y.o, woman here for dif...   \n1   [67yo F presents with trouble sleeping, She re...   \n2   [Pt is a 67 yo F presenting with insomnia x 3 ...   \n3   [Mrs Loraine Wicks a 67 Y old F pt presenting ...   \n4   [Pt is a 67 year old female with PMH of high b...   \n..                                                ...   \n95  [Identity: Loraine Wicks, a 67-year-old female...   \n96  [Loraine Wicks is a 67 yo F with a history of ...   \n97  [HPI: 67 yo F, G1P1, c/o trouble sleeping for ...   \n98  [67F w/ PMH of breast CA in remission, present...   \n99  [Ms, Wicks is a 67 year old F PMH HTN, Breast ...   \n\n                                    phrases_tokenizer  \\\n0   [Loraine Wicks is a 67 y.o., woman here for di...   \n1   [67yo F presents with trouble sleeping., She r...   \n2   [Pt is a 67 yo F presenting with insomnia x 3 ...   \n3   [Mrs Loraine Wicks a 67 Y old F pt presenting ...   \n4   [Pt is a 67 year old female with PMH of high b...   \n..                                                ...   \n95  [Identity: Loraine Wicks, a 67-year-old female...   \n96  [Loraine Wicks is a 67 yo F with a history of ...   \n97  [HPI: 67 yo F, G1P1, c/o trouble sleeping for ...   \n98  [67F w/ PMH of breast CA in remission, present...   \n99  [Ms. Wicks is a 67 year old F PMH HTN, Breast ...   \n\n                                              phrases similarity phrase  \\\n0   [Loraine Wicks is a 67 y.o, woman here for dif...         []     []   \n1   [67yo F presents with trouble sleeping, She re...         []     []   \n2   [Pt is a 67 yo F presenting with insomnia x 3 ...         []     []   \n3   [Mrs Loraine Wicks a 67 Y old F pt presenting ...         []     []   \n4   [Pt is a 67 year old female with PMH of high b...         []     []   \n..                                                ...        ...    ...   \n95  [Identity: Loraine Wicks, a 67-year-old female...         []     []   \n96  [Loraine Wicks is a 67 yo F with a history of ...         []     []   \n97  [HPI: 67 yo F, G1P1, c/o trouble sleeping for ...         []     []   \n98  [67F w/ PMH of breast CA in remission, present...         []     []   \n99  [Ms, Wicks is a 67 year old F PMH HTN, Breast ...         []     []   \n\n   res_loc  \n0       []  \n1       []  \n2       []  \n3       []  \n4       []  \n..     ...  \n95      []  \n96      []  \n97      []  \n98      []  \n99      []  \n\n[100 rows x 15 columns]",
      "text/html": "<div>\n<style scoped>\n    .dataframe tbody tr th:only-of-type {\n        vertical-align: middle;\n    }\n\n    .dataframe tbody tr th {\n        vertical-align: top;\n    }\n\n    .dataframe thead th {\n        text-align: right;\n    }\n</style>\n<table border=\"1\" class=\"dataframe\">\n  <thead>\n    <tr style=\"text-align: right;\">\n      <th></th>\n      <th>id</th>\n      <th>case_num</th>\n      <th>pn_num</th>\n      <th>feature_num</th>\n      <th>annotation</th>\n      <th>location_raw</th>\n      <th>feature_text</th>\n      <th>pn_history</th>\n      <th>location</th>\n      <th>phrases_manual</th>\n      <th>phrases_tokenizer</th>\n      <th>phrases</th>\n      <th>similarity</th>\n      <th>phrase</th>\n      <th>res_loc</th>\n    </tr>\n  </thead>\n  <tbody>\n    <tr>\n      <th>0</th>\n      <td>80039_800</td>\n      <td>8</td>\n      <td>80039</td>\n      <td>800</td>\n      <td>[appetite has increased, eating more]</td>\n      <td>[468 490, 502 513]</td>\n      <td>Increased-appetite</td>\n      <td>Loraine Wicks is a 67 y.o. woman here for diff...</td>\n      <td>[(468, 490), (502, 513)]</td>\n      <td>[Loraine Wicks is a 67 y.o, woman here for dif...</td>\n      <td>[Loraine Wicks is a 67 y.o., woman here for di...</td>\n      <td>[Loraine Wicks is a 67 y.o, woman here for dif...</td>\n      <td>[]</td>\n      <td>[]</td>\n      <td>[]</td>\n    </tr>\n    <tr>\n      <th>1</th>\n      <td>80042_800</td>\n      <td>8</td>\n      <td>80042</td>\n      <td>800</td>\n      <td>[]</td>\n      <td>[]</td>\n      <td>Increased-appetite</td>\n      <td>67yo F presents with trouble sleeping. She rep...</td>\n      <td>[]</td>\n      <td>[67yo F presents with trouble sleeping, She re...</td>\n      <td>[67yo F presents with trouble sleeping., She r...</td>\n      <td>[67yo F presents with trouble sleeping, She re...</td>\n      <td>[]</td>\n      <td>[]</td>\n      <td>[]</td>\n    </tr>\n    <tr>\n      <th>2</th>\n      <td>80066_800</td>\n      <td>8</td>\n      <td>80066</td>\n      <td>800</td>\n      <td>[eating more than usual]</td>\n      <td>[364 386]</td>\n      <td>Increased-appetite</td>\n      <td>Pt is a 67 yo F presenting with insomnia x 3 w...</td>\n      <td>[(364, 386)]</td>\n      <td>[Pt is a 67 yo F presenting with insomnia x 3 ...</td>\n      <td>[Pt is a 67 yo F presenting with insomnia x 3 ...</td>\n      <td>[Pt is a 67 yo F presenting with insomnia x 3 ...</td>\n      <td>[]</td>\n      <td>[]</td>\n      <td>[]</td>\n    </tr>\n    <tr>\n      <th>3</th>\n      <td>80098_800</td>\n      <td>8</td>\n      <td>80098</td>\n      <td>800</td>\n      <td>[Increased appetite]</td>\n      <td>[255 273]</td>\n      <td>Increased-appetite</td>\n      <td>Mrs Loraine Wicks a 67 Y old F pt presenting t...</td>\n      <td>[(255, 273)]</td>\n      <td>[Mrs Loraine Wicks a 67 Y old F pt presenting ...</td>\n      <td>[Mrs Loraine Wicks a 67 Y old F pt presenting ...</td>\n      <td>[Mrs Loraine Wicks a 67 Y old F pt presenting ...</td>\n      <td>[]</td>\n      <td>[]</td>\n      <td>[]</td>\n    </tr>\n    <tr>\n      <th>4</th>\n      <td>80245_800</td>\n      <td>8</td>\n      <td>80245</td>\n      <td>800</td>\n      <td>[]</td>\n      <td>[]</td>\n      <td>Increased-appetite</td>\n      <td>Pt is a 67 year old female with PMH of high bl...</td>\n      <td>[]</td>\n      <td>[Pt is a 67 year old female with PMH of high b...</td>\n      <td>[Pt is a 67 year old female with PMH of high b...</td>\n      <td>[Pt is a 67 year old female with PMH of high b...</td>\n      <td>[]</td>\n      <td>[]</td>\n      <td>[]</td>\n    </tr>\n    <tr>\n      <th>...</th>\n      <td>...</td>\n      <td>...</td>\n      <td>...</td>\n      <td>...</td>\n      <td>...</td>\n      <td>...</td>\n      <td>...</td>\n      <td>...</td>\n      <td>...</td>\n      <td>...</td>\n      <td>...</td>\n      <td>...</td>\n      <td>...</td>\n      <td>...</td>\n      <td>...</td>\n    </tr>\n    <tr>\n      <th>95</th>\n      <td>84191_800</td>\n      <td>8</td>\n      <td>84191</td>\n      <td>800</td>\n      <td>[appetite is increased]</td>\n      <td>[510 531]</td>\n      <td>Increased-appetite</td>\n      <td>Identity: Loraine Wicks, a 67-year-old female\\...</td>\n      <td>[(510, 531)]</td>\n      <td>[Identity: Loraine Wicks, a 67-year-old female...</td>\n      <td>[Identity: Loraine Wicks, a 67-year-old female...</td>\n      <td>[Identity: Loraine Wicks, a 67-year-old female...</td>\n      <td>[]</td>\n      <td>[]</td>\n      <td>[]</td>\n    </tr>\n    <tr>\n      <th>96</th>\n      <td>84231_800</td>\n      <td>8</td>\n      <td>84231</td>\n      <td>800</td>\n      <td>[appetite has increased]</td>\n      <td>[358 380]</td>\n      <td>Increased-appetite</td>\n      <td>Loraine Wicks is a 67 yo F with a history of H...</td>\n      <td>[(358, 380)]</td>\n      <td>[Loraine Wicks is a 67 yo F with a history of ...</td>\n      <td>[Loraine Wicks is a 67 yo F with a history of ...</td>\n      <td>[Loraine Wicks is a 67 yo F with a history of ...</td>\n      <td>[]</td>\n      <td>[]</td>\n      <td>[]</td>\n    </tr>\n    <tr>\n      <th>97</th>\n      <td>84255_800</td>\n      <td>8</td>\n      <td>84255</td>\n      <td>800</td>\n      <td>[appetite has increased]</td>\n      <td>[503 525]</td>\n      <td>Increased-appetite</td>\n      <td>HPI: 67 yo F, G1P1, c/o trouble sleeping for t...</td>\n      <td>[(503, 525)]</td>\n      <td>[HPI: 67 yo F, G1P1, c/o trouble sleeping for ...</td>\n      <td>[HPI: 67 yo F, G1P1, c/o trouble sleeping for ...</td>\n      <td>[HPI: 67 yo F, G1P1, c/o trouble sleeping for ...</td>\n      <td>[]</td>\n      <td>[]</td>\n      <td>[]</td>\n    </tr>\n    <tr>\n      <th>98</th>\n      <td>84273_800</td>\n      <td>8</td>\n      <td>84273</td>\n      <td>800</td>\n      <td>[Increased appetite]</td>\n      <td>[211 229]</td>\n      <td>Increased-appetite</td>\n      <td>67F w/ PMH of breast CA in remission, presenti...</td>\n      <td>[(211, 229)]</td>\n      <td>[67F w/ PMH of breast CA in remission, present...</td>\n      <td>[67F w/ PMH of breast CA in remission, present...</td>\n      <td>[67F w/ PMH of breast CA in remission, present...</td>\n      <td>[]</td>\n      <td>[]</td>\n      <td>[]</td>\n    </tr>\n    <tr>\n      <th>99</th>\n      <td>84366_800</td>\n      <td>8</td>\n      <td>84366</td>\n      <td>800</td>\n      <td>[Incr appetite]</td>\n      <td>[597 610]</td>\n      <td>Increased-appetite</td>\n      <td>Ms. Wicks is a 67 year old F PMH HTN, Breast C...</td>\n      <td>[(597, 610)]</td>\n      <td>[Ms, Wicks is a 67 year old F PMH HTN, Breast ...</td>\n      <td>[Ms. Wicks is a 67 year old F PMH HTN, Breast ...</td>\n      <td>[Ms, Wicks is a 67 year old F PMH HTN, Breast ...</td>\n      <td>[]</td>\n      <td>[]</td>\n      <td>[]</td>\n    </tr>\n  </tbody>\n</table>\n<p>100 rows × 15 columns</p>\n</div>"
     },
     "execution_count": 5,
     "metadata": {},
     "output_type": "execute_result"
    }
   ],
   "source": [
    "for i in train['phrases'][34]:\n",
    "    print('-', i)\n",
    "\n",
    "train"
   ],
   "metadata": {
    "collapsed": false,
    "pycharm": {
     "name": "#%%\n"
    }
   }
  },
  {
   "cell_type": "markdown",
   "source": [
    "#### Loading features data:"
   ],
   "metadata": {
    "collapsed": false,
    "pycharm": {
     "name": "#%% md\n"
    }
   }
  },
  {
   "cell_type": "code",
   "execution_count": 6,
   "outputs": [],
   "source": [
    "features = data_loaders.get_features()"
   ],
   "metadata": {
    "collapsed": false,
    "pycharm": {
     "name": "#%%\n"
    }
   }
  },
  {
   "cell_type": "markdown",
   "source": [
    "#### Training a bert model on all features:"
   ],
   "metadata": {
    "collapsed": false,
    "pycharm": {
     "name": "#%% md\n"
    }
   }
  },
  {
   "cell_type": "code",
   "execution_count": 7,
   "outputs": [
    {
     "data": {
      "text/plain": "Batches:   0%|          | 0/5 [00:00<?, ?it/s]",
      "application/vnd.jupyter.widget-view+json": {
       "version_major": 2,
       "version_minor": 0,
       "model_id": "bac4b649208d4adab59a68264f15f09d"
      }
     },
     "metadata": {},
     "output_type": "display_data"
    }
   ],
   "source": [
    "model = SentenceTransformer('all-mpnet-base-v2')\n",
    "embeddings = model.encode(features['feature_text'], show_progress_bar=True)"
   ],
   "metadata": {
    "collapsed": false,
    "pycharm": {
     "name": "#%%\n"
    }
   }
  },
  {
   "cell_type": "code",
   "execution_count": 8,
   "outputs": [],
   "source": [
    "def bert(s, embeddings):\n",
    "    \"\"\"\n",
    "    return the index of the most similar feature to a given string\n",
    "    \"\"\"\n",
    "    y = model.encode(s).reshape(1, -1)\n",
    "    sim = cosine_similarity(embeddings, y)\n",
    "    opt_index = np.argmax(sim)\n",
    "    return opt_index, sim[opt_index][0]"
   ],
   "metadata": {
    "collapsed": false,
    "pycharm": {
     "name": "#%%\n"
    }
   }
  },
  {
   "cell_type": "markdown",
   "source": [
    "#### Main training loop - get the most similar feature for every phrase"
   ],
   "metadata": {
    "collapsed": false,
    "pycharm": {
     "name": "#%% md\n"
    }
   }
  },
  {
   "cell_type": "code",
   "execution_count": 9,
   "outputs": [],
   "source": [
    "for i, row in train.iterrows():\n",
    "    start = 0\n",
    "    for phrase in row['phrases']:\n",
    "        end = start + len(phrase)\n",
    "        index, sim = bert(phrase, embeddings)\n",
    "        f_num = features['feature_num'][index]\n",
    "        if f_num == 800 and sim > 0.48:\n",
    "            train.loc[i, 'similarity'].append(sim)\n",
    "            train.loc[i, 'phrase'].append(phrase)\n",
    "            train.loc[i, 'res_loc'].append((start, end))\n",
    "        start += len(phrase) + 2"
   ],
   "metadata": {
    "collapsed": false,
    "pycharm": {
     "name": "#%%\n"
    }
   }
  },
  {
   "cell_type": "code",
   "execution_count": 10,
   "outputs": [
    {
     "data": {
      "text/plain": "    pn_num              annotation                phrase      location  \\\n14   80656    [increased appetite]  [increased appetite]  [(411, 429)]   \n86   83907    [increased appetite]  [increased appetite]  [(398, 416)]   \n31   81437    [increased appetite]  [increased appetite]  [(618, 636)]   \n76   83376    [increased appetite]  [increased appetite]  [(323, 341)]   \n41   81856    [increased appetite]  [increased appetite]  [(510, 528)]   \n..     ...                     ...                   ...           ...   \n24   81015                      []                    []            []   \n70   82967                      []                    []            []   \n38   81687    [increase appettite]                    []  [(262, 280)]   \n23   80950           [EATING MORE]                    []  [(311, 322)]   \n71   82992  [increase in appetite]                    []  [(220, 240)]   \n\n         res_loc   similarity  \n14  [(411, 429)]  [0.9319909]  \n86  [(398, 416)]  [0.9319909]  \n31  [(618, 636)]  [0.9319909]  \n76  [(323, 341)]  [0.9319909]  \n41  [(510, 528)]  [0.9319909]  \n..           ...          ...  \n24            []           []  \n70            []           []  \n38            []           []  \n23            []           []  \n71            []           []  \n\n[100 rows x 6 columns]",
      "text/html": "<div>\n<style scoped>\n    .dataframe tbody tr th:only-of-type {\n        vertical-align: middle;\n    }\n\n    .dataframe tbody tr th {\n        vertical-align: top;\n    }\n\n    .dataframe thead th {\n        text-align: right;\n    }\n</style>\n<table border=\"1\" class=\"dataframe\">\n  <thead>\n    <tr style=\"text-align: right;\">\n      <th></th>\n      <th>pn_num</th>\n      <th>annotation</th>\n      <th>phrase</th>\n      <th>location</th>\n      <th>res_loc</th>\n      <th>similarity</th>\n    </tr>\n  </thead>\n  <tbody>\n    <tr>\n      <th>14</th>\n      <td>80656</td>\n      <td>[increased appetite]</td>\n      <td>[increased appetite]</td>\n      <td>[(411, 429)]</td>\n      <td>[(411, 429)]</td>\n      <td>[0.9319909]</td>\n    </tr>\n    <tr>\n      <th>86</th>\n      <td>83907</td>\n      <td>[increased appetite]</td>\n      <td>[increased appetite]</td>\n      <td>[(398, 416)]</td>\n      <td>[(398, 416)]</td>\n      <td>[0.9319909]</td>\n    </tr>\n    <tr>\n      <th>31</th>\n      <td>81437</td>\n      <td>[increased appetite]</td>\n      <td>[increased appetite]</td>\n      <td>[(618, 636)]</td>\n      <td>[(618, 636)]</td>\n      <td>[0.9319909]</td>\n    </tr>\n    <tr>\n      <th>76</th>\n      <td>83376</td>\n      <td>[increased appetite]</td>\n      <td>[increased appetite]</td>\n      <td>[(323, 341)]</td>\n      <td>[(323, 341)]</td>\n      <td>[0.9319909]</td>\n    </tr>\n    <tr>\n      <th>41</th>\n      <td>81856</td>\n      <td>[increased appetite]</td>\n      <td>[increased appetite]</td>\n      <td>[(510, 528)]</td>\n      <td>[(510, 528)]</td>\n      <td>[0.9319909]</td>\n    </tr>\n    <tr>\n      <th>...</th>\n      <td>...</td>\n      <td>...</td>\n      <td>...</td>\n      <td>...</td>\n      <td>...</td>\n      <td>...</td>\n    </tr>\n    <tr>\n      <th>24</th>\n      <td>81015</td>\n      <td>[]</td>\n      <td>[]</td>\n      <td>[]</td>\n      <td>[]</td>\n      <td>[]</td>\n    </tr>\n    <tr>\n      <th>70</th>\n      <td>82967</td>\n      <td>[]</td>\n      <td>[]</td>\n      <td>[]</td>\n      <td>[]</td>\n      <td>[]</td>\n    </tr>\n    <tr>\n      <th>38</th>\n      <td>81687</td>\n      <td>[increase appettite]</td>\n      <td>[]</td>\n      <td>[(262, 280)]</td>\n      <td>[]</td>\n      <td>[]</td>\n    </tr>\n    <tr>\n      <th>23</th>\n      <td>80950</td>\n      <td>[EATING MORE]</td>\n      <td>[]</td>\n      <td>[(311, 322)]</td>\n      <td>[]</td>\n      <td>[]</td>\n    </tr>\n    <tr>\n      <th>71</th>\n      <td>82992</td>\n      <td>[increase in appetite]</td>\n      <td>[]</td>\n      <td>[(220, 240)]</td>\n      <td>[]</td>\n      <td>[]</td>\n    </tr>\n  </tbody>\n</table>\n<p>100 rows × 6 columns</p>\n</div>"
     },
     "execution_count": 10,
     "metadata": {},
     "output_type": "execute_result"
    }
   ],
   "source": [
    "train.sort_values('similarity', ascending=False)[['pn_num',\n",
    "                                                  'annotation',\n",
    "                                                  'phrase',\n",
    "                                                  'location',\n",
    "                                                  'res_loc',\n",
    "                                                  'similarity']]"
   ],
   "metadata": {
    "collapsed": false,
    "pycharm": {
     "name": "#%%\n"
    }
   }
  },
  {
   "cell_type": "code",
   "execution_count": 12,
   "outputs": [],
   "source": [
    "a = train[['location', 'res_loc']]"
   ],
   "metadata": {
    "collapsed": false,
    "pycharm": {
     "name": "#%%\n"
    }
   }
  },
  {
   "cell_type": "markdown",
   "source": [
    "The main problem with this approach is the sentences' division\n",
    "I believe that if we will find a better method for that the results will improve significantly\n",
    "It can work on other features as well"
   ],
   "metadata": {
    "collapsed": false,
    "pycharm": {
     "name": "#%% md\n"
    }
   }
  }
 ],
 "metadata": {
  "kernelspec": {
   "display_name": "Python 3",
   "language": "python",
   "name": "python3"
  },
  "language_info": {
   "codemirror_mode": {
    "name": "ipython",
    "version": 2
   },
   "file_extension": ".py",
   "mimetype": "text/x-python",
   "name": "python",
   "nbconvert_exporter": "python",
   "pygments_lexer": "ipython2",
   "version": "2.7.6"
  }
 },
 "nbformat": 4,
 "nbformat_minor": 0
}