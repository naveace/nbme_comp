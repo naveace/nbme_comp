{
 "cells": [
  {
   "cell_type": "code",
   "execution_count": 2,
   "metadata": {},
   "outputs": [
    {
     "name": "stdout",
     "output_type": "stream",
     "text": [
      "The autoreload extension is already loaded. To reload it, use:\n",
      "  %reload_ext autoreload\n"
     ]
    },
    {
     "name": "stderr",
     "output_type": "stream",
     "text": [
      "/Users/lukeigel/opt/anaconda3/envs/s079/lib/python3.8/site-packages/xgboost/compat.py:36: FutureWarning: pandas.Int64Index is deprecated and will be removed from pandas in a future version. Use pandas.Index with the appropriate dtype instead.\n",
      "  from pandas import MultiIndex, Int64Index\n"
     ]
    }
   ],
   "source": [
    "%load_ext autoreload\n",
    "%autoreload 2\n",
    "import pandas as pd\n",
    "import numpy as np\n",
    "from sklearn.metrics import classification_report, roc_auc_score\n",
    "from sklearn.model_selection import train_test_split\n",
    "from sklearn.base import BaseEstimator, ClassifierMixin, TransformerMixin\n",
    "from typing import Union\n",
    "from tqdm import tqdm\n",
    "import os\n",
    "from sentence_transformers import SentenceTransformer\n",
    "from xgboost import XGBClassifier\n",
    "import pickle"
   ]
  },
  {
   "cell_type": "markdown",
   "metadata": {},
   "source": [
    "# Data Exploration, Luke edition"
   ]
  },
  {
   "cell_type": "markdown",
   "metadata": {},
   "source": [
    "#### Setup"
   ]
  },
  {
   "cell_type": "code",
   "execution_count": 12,
   "metadata": {},
   "outputs": [
    {
     "data": {
      "text/html": [
       "<div>\n",
       "<style scoped>\n",
       "    .dataframe tbody tr th:only-of-type {\n",
       "        vertical-align: middle;\n",
       "    }\n",
       "\n",
       "    .dataframe tbody tr th {\n",
       "        vertical-align: top;\n",
       "    }\n",
       "\n",
       "    .dataframe thead th {\n",
       "        text-align: right;\n",
       "    }\n",
       "</style>\n",
       "<table border=\"1\" class=\"dataframe\">\n",
       "  <thead>\n",
       "    <tr style=\"text-align: right;\">\n",
       "      <th></th>\n",
       "      <th>id</th>\n",
       "      <th>case_num_x</th>\n",
       "      <th>pn_num</th>\n",
       "      <th>feature_num</th>\n",
       "      <th>annotation</th>\n",
       "      <th>location</th>\n",
       "      <th>case_num_y</th>\n",
       "      <th>pn_history</th>\n",
       "      <th>case_num</th>\n",
       "      <th>feature_text</th>\n",
       "    </tr>\n",
       "  </thead>\n",
       "  <tbody>\n",
       "    <tr>\n",
       "      <th>0</th>\n",
       "      <td>00016_000</td>\n",
       "      <td>0</td>\n",
       "      <td>16</td>\n",
       "      <td>0</td>\n",
       "      <td>['dad with recent heart attcak']</td>\n",
       "      <td>['696 724']</td>\n",
       "      <td>0</td>\n",
       "      <td>HPI: 17yo M presents with palpitations. Patien...</td>\n",
       "      <td>0</td>\n",
       "      <td>Family-history-of-MI-OR-Family-history-of-myoc...</td>\n",
       "    </tr>\n",
       "    <tr>\n",
       "      <th>1</th>\n",
       "      <td>00016_001</td>\n",
       "      <td>0</td>\n",
       "      <td>16</td>\n",
       "      <td>1</td>\n",
       "      <td>['mom with \"thyroid disease']</td>\n",
       "      <td>['668 693']</td>\n",
       "      <td>0</td>\n",
       "      <td>HPI: 17yo M presents with palpitations. Patien...</td>\n",
       "      <td>0</td>\n",
       "      <td>Family-history-of-thyroid-disorder</td>\n",
       "    </tr>\n",
       "    <tr>\n",
       "      <th>2</th>\n",
       "      <td>00016_002</td>\n",
       "      <td>0</td>\n",
       "      <td>16</td>\n",
       "      <td>2</td>\n",
       "      <td>['chest pressure']</td>\n",
       "      <td>['203 217']</td>\n",
       "      <td>0</td>\n",
       "      <td>HPI: 17yo M presents with palpitations. Patien...</td>\n",
       "      <td>0</td>\n",
       "      <td>Chest-pressure</td>\n",
       "    </tr>\n",
       "    <tr>\n",
       "      <th>3</th>\n",
       "      <td>00016_003</td>\n",
       "      <td>0</td>\n",
       "      <td>16</td>\n",
       "      <td>3</td>\n",
       "      <td>['intermittent episodes', 'episode']</td>\n",
       "      <td>['70 91', '176 183']</td>\n",
       "      <td>0</td>\n",
       "      <td>HPI: 17yo M presents with palpitations. Patien...</td>\n",
       "      <td>0</td>\n",
       "      <td>Intermittent-symptoms</td>\n",
       "    </tr>\n",
       "    <tr>\n",
       "      <th>4</th>\n",
       "      <td>00016_004</td>\n",
       "      <td>0</td>\n",
       "      <td>16</td>\n",
       "      <td>4</td>\n",
       "      <td>['felt as if he were going to pass out']</td>\n",
       "      <td>['222 258']</td>\n",
       "      <td>0</td>\n",
       "      <td>HPI: 17yo M presents with palpitations. Patien...</td>\n",
       "      <td>0</td>\n",
       "      <td>Lightheaded</td>\n",
       "    </tr>\n",
       "    <tr>\n",
       "      <th>5</th>\n",
       "      <td>00016_005</td>\n",
       "      <td>0</td>\n",
       "      <td>16</td>\n",
       "      <td>5</td>\n",
       "      <td>[]</td>\n",
       "      <td>[]</td>\n",
       "      <td>0</td>\n",
       "      <td>HPI: 17yo M presents with palpitations. Patien...</td>\n",
       "      <td>0</td>\n",
       "      <td>No-hair-changes-OR-no-nail-changes-OR-no-tempe...</td>\n",
       "    </tr>\n",
       "    <tr>\n",
       "      <th>6</th>\n",
       "      <td>00016_006</td>\n",
       "      <td>0</td>\n",
       "      <td>16</td>\n",
       "      <td>6</td>\n",
       "      <td>['adderall', 'adderrall', 'adderrall']</td>\n",
       "      <td>['321 329', '404 413', '652 661']</td>\n",
       "      <td>0</td>\n",
       "      <td>HPI: 17yo M presents with palpitations. Patien...</td>\n",
       "      <td>0</td>\n",
       "      <td>Adderall-use</td>\n",
       "    </tr>\n",
       "    <tr>\n",
       "      <th>7</th>\n",
       "      <td>00016_007</td>\n",
       "      <td>0</td>\n",
       "      <td>16</td>\n",
       "      <td>7</td>\n",
       "      <td>[]</td>\n",
       "      <td>[]</td>\n",
       "      <td>0</td>\n",
       "      <td>HPI: 17yo M presents with palpitations. Patien...</td>\n",
       "      <td>0</td>\n",
       "      <td>Shortness-of-breath</td>\n",
       "    </tr>\n",
       "    <tr>\n",
       "      <th>8</th>\n",
       "      <td>00016_008</td>\n",
       "      <td>0</td>\n",
       "      <td>16</td>\n",
       "      <td>8</td>\n",
       "      <td>[]</td>\n",
       "      <td>[]</td>\n",
       "      <td>0</td>\n",
       "      <td>HPI: 17yo M presents with palpitations. Patien...</td>\n",
       "      <td>0</td>\n",
       "      <td>Caffeine-use</td>\n",
       "    </tr>\n",
       "    <tr>\n",
       "      <th>9</th>\n",
       "      <td>00016_009</td>\n",
       "      <td>0</td>\n",
       "      <td>16</td>\n",
       "      <td>9</td>\n",
       "      <td>['palpitations', 'heart beating/pounding']</td>\n",
       "      <td>['26 38', '96 118']</td>\n",
       "      <td>0</td>\n",
       "      <td>HPI: 17yo M presents with palpitations. Patien...</td>\n",
       "      <td>0</td>\n",
       "      <td>heart-pounding-OR-heart-racing</td>\n",
       "    </tr>\n",
       "  </tbody>\n",
       "</table>\n",
       "</div>"
      ],
      "text/plain": [
       "          id  case_num_x  pn_num  feature_num  \\\n",
       "0  00016_000           0      16            0   \n",
       "1  00016_001           0      16            1   \n",
       "2  00016_002           0      16            2   \n",
       "3  00016_003           0      16            3   \n",
       "4  00016_004           0      16            4   \n",
       "5  00016_005           0      16            5   \n",
       "6  00016_006           0      16            6   \n",
       "7  00016_007           0      16            7   \n",
       "8  00016_008           0      16            8   \n",
       "9  00016_009           0      16            9   \n",
       "\n",
       "                                   annotation  \\\n",
       "0            ['dad with recent heart attcak']   \n",
       "1               ['mom with \"thyroid disease']   \n",
       "2                          ['chest pressure']   \n",
       "3        ['intermittent episodes', 'episode']   \n",
       "4    ['felt as if he were going to pass out']   \n",
       "5                                          []   \n",
       "6      ['adderall', 'adderrall', 'adderrall']   \n",
       "7                                          []   \n",
       "8                                          []   \n",
       "9  ['palpitations', 'heart beating/pounding']   \n",
       "\n",
       "                            location  case_num_y  \\\n",
       "0                        ['696 724']           0   \n",
       "1                        ['668 693']           0   \n",
       "2                        ['203 217']           0   \n",
       "3               ['70 91', '176 183']           0   \n",
       "4                        ['222 258']           0   \n",
       "5                                 []           0   \n",
       "6  ['321 329', '404 413', '652 661']           0   \n",
       "7                                 []           0   \n",
       "8                                 []           0   \n",
       "9                ['26 38', '96 118']           0   \n",
       "\n",
       "                                          pn_history  case_num  \\\n",
       "0  HPI: 17yo M presents with palpitations. Patien...         0   \n",
       "1  HPI: 17yo M presents with palpitations. Patien...         0   \n",
       "2  HPI: 17yo M presents with palpitations. Patien...         0   \n",
       "3  HPI: 17yo M presents with palpitations. Patien...         0   \n",
       "4  HPI: 17yo M presents with palpitations. Patien...         0   \n",
       "5  HPI: 17yo M presents with palpitations. Patien...         0   \n",
       "6  HPI: 17yo M presents with palpitations. Patien...         0   \n",
       "7  HPI: 17yo M presents with palpitations. Patien...         0   \n",
       "8  HPI: 17yo M presents with palpitations. Patien...         0   \n",
       "9  HPI: 17yo M presents with palpitations. Patien...         0   \n",
       "\n",
       "                                        feature_text  \n",
       "0  Family-history-of-MI-OR-Family-history-of-myoc...  \n",
       "1                 Family-history-of-thyroid-disorder  \n",
       "2                                     Chest-pressure  \n",
       "3                              Intermittent-symptoms  \n",
       "4                                        Lightheaded  \n",
       "5  No-hair-changes-OR-no-nail-changes-OR-no-tempe...  \n",
       "6                                       Adderall-use  \n",
       "7                                Shortness-of-breath  \n",
       "8                                       Caffeine-use  \n",
       "9                     heart-pounding-OR-heart-racing  "
      ]
     },
     "execution_count": 12,
     "metadata": {},
     "output_type": "execute_result"
    }
   ],
   "source": [
    "# NBME dataset\n",
    "train = pd.read_csv(\"data/train.csv\")\n",
    "features = pd.read_csv(\"data/features.csv\")\n",
    "patient_notes = pd.read_csv(\"data/patient_notes.csv\")\n",
    "\n",
    "merged_df = train.merge(patient_notes, on=\"pn_num\", how=\"left\").merge(features, on=\"feature_num\", how=\"left\")\n",
    "merged_df.head(10)"
   ]
  },
  {
   "cell_type": "markdown",
   "metadata": {},
   "source": [
    "### Basic Text Statistics"
   ]
  },
  {
   "cell_type": "code",
   "execution_count": null,
   "metadata": {},
   "outputs": [],
   "source": [
    "# get all unique notes from training data\n",
    "unique_patients = nbme['pn_num'].unique()\n",
    "nbme_notes = patient_notes[patient_notes['pn_num'].isin(unique_patients)]\n",
    "nbme_notes_raw = list(nbme_notes['pn_history'])\n",
    "\n",
    "# Character count\n",
    "nbme_notes['pn_history'].str.len().hist(bins=50, figsize=(5,5))"
   ]
  },
  {
   "cell_type": "markdown",
   "metadata": {},
   "source": [
    "Perhaps we should explore the right-hand tail here? Did notes get cut off? And if so, can we take advantage of those notes / filter them out? Lets explore in cells below."
   ]
  },
  {
   "cell_type": "markdown",
   "metadata": {},
   "source": [
    "### Action: Create a dataframe with the notes and whether a feature is present or not"
   ]
  },
  {
   "cell_type": "code",
   "execution_count": 22,
   "metadata": {},
   "outputs": [],
   "source": [
    "all_features = set(features.feature_text.unique())\n",
    "patient_num = 41\n",
    "def get_note_and_features(patient_num: int, merged_df: pd.DataFrame, all_features: set):\n",
    "    this_note_data:pd.DataFrame = merged_df.query(f'pn_num == {patient_num}')\n",
    "    features_present = set()\n",
    "    for (feature_name, feature_num, annotation) in this_note_data[['feature_text', 'feature_num', 'annotation']].itertuples(index=False):\n",
    "        feature_is_present = len(eval(annotation)) > 0\n",
    "        if feature_is_present:\n",
    "            features_present.add(feature_name)\n",
    "    features_not_present = all_features.difference(features_present)\n",
    "    return pd.Series([this_note_data['pn_history'].iloc[0], *np.ones(len(features_present)), *np.zeros(len(features_not_present))], index=['pn_history'] + list(features_present) + list(features_not_present))\n",
    "\n",
    "present_df = pd.DataFrame([get_note_and_features(patient_num, merged_df, all_features) for patient_num in merged_df.pn_num.unique()])"
   ]
  },
  {
   "cell_type": "markdown",
   "metadata": {},
   "source": [
    "### Models: \n",
    "# Naive Bayes classification \n",
    "\n",
    "We shall experiment with a few input types:\n",
    "1. raw text\n",
    "2. Bag-of-words tokenization\n",
    "3. DL Transformer embedding"
   ]
  },
  {
   "cell_type": "markdown",
   "metadata": {},
   "source": [
    "#### Action: Clean up written notes for Naive Bayes"
   ]
  },
  {
   "cell_type": "code",
   "execution_count": 93,
   "metadata": {},
   "outputs": [
    {
     "name": "stderr",
     "output_type": "stream",
     "text": [
      "/var/folders/d8/8m52vwz96h9_52p026mw3xkr0000gn/T/ipykernel_8947/1508163902.py:9: FutureWarning: The default value of regex will change from True to False in a future version.\n",
      "  data['pn_history'] = data['pn_history'].str.replace('[^A-Za-z0-9 ]+', '')\n",
      "/var/folders/d8/8m52vwz96h9_52p026mw3xkr0000gn/T/ipykernel_8947/1508163902.py:9: SettingWithCopyWarning: \n",
      "A value is trying to be set on a copy of a slice from a DataFrame.\n",
      "Try using .loc[row_indexer,col_indexer] = value instead\n",
      "\n",
      "See the caveats in the documentation: https://pandas.pydata.org/pandas-docs/stable/user_guide/indexing.html#returning-a-view-versus-a-copy\n",
      "  data['pn_history'] = data['pn_history'].str.replace('[^A-Za-z0-9 ]+', '')\n",
      "/var/folders/d8/8m52vwz96h9_52p026mw3xkr0000gn/T/ipykernel_8947/1508163902.py:10: SettingWithCopyWarning: \n",
      "A value is trying to be set on a copy of a slice from a DataFrame.\n",
      "Try using .loc[row_indexer,col_indexer] = value instead\n",
      "\n",
      "See the caveats in the documentation: https://pandas.pydata.org/pandas-docs/stable/user_guide/indexing.html#returning-a-view-versus-a-copy\n",
      "  data['pn_history'] = data['pn_history'].str.strip().str.lower()\n"
     ]
    }
   ],
   "source": [
    "from nltk.stem.porter import PorterStemmer\n",
    "import nltk\n",
    "from nltk.util import ngrams\n",
    "from sklearn.feature_extraction.text import CountVectorizer\n",
    "\n",
    "\n",
    "# Classify presence of NAUSEA\n",
    "data = present_df[['pn_history','Nausea']]\n",
    "data['pn_history'] = data['pn_history'].str.replace('[^A-Za-z0-9 ]+', '')\n",
    "data['pn_history'] = data['pn_history'].str.strip().str.lower()\n",
    "\n",
    "# Stem the notes\n"
   ]
  },
  {
   "cell_type": "code",
   "execution_count": 94,
   "metadata": {},
   "outputs": [
    {
     "name": "stdout",
     "output_type": "stream",
     "text": [
      "We have 800 train points and 200 test points\n"
     ]
    }
   ],
   "source": [
    "# Split data. X% is used as training; 1-X% as testing. The data will be randomly split\n",
    "TEST_SIZE = 0.2 \n",
    "train, test = train_test_split(data, test_size=0.2, random_state=37)\n",
    "print(f'We have {len(train)} train points and {len(test)} test points')"
   ]
  },
  {
   "cell_type": "code",
   "execution_count": 97,
   "metadata": {},
   "outputs": [],
   "source": [
    "class BayesClassifier(ClassifierMixin, BaseEstimator):\n",
    "    \"\"\"\n",
    "    Simple wrapper for Naive Bayes classifier.\n",
    "    \"\"\"\n",
    "\n",
    "    def __init__(self, alpha=1.0):\n",
    "        self.classifier = None\n",
    "        \n",
    "\n",
    "    def fit(self, X: pd.DataFrame, y: Union[np.ndarray, list]):\n",
    "        \"\"\"\n",
    "        Fit Naive Bayes classifier according to X, y (ground truth).\n",
    "        \"\"\"\n",
    "        labeled_featuresets = list(zip(X,y))\n",
    "        self.classifier = nltk.NaiveBayesClassifier.train(labeled_featuresets)\n",
    "        return self\n",
    "\n",
    "    def predict(self, X):\n",
    "        \"\"\"\n",
    "        Predict class labels for X.\n",
    "        \"\"\"\n",
    "        return self.classifier.classify_many(X)\n",
    "\n",
    "    def predict_proba(self, X):\n",
    "        \"\"\"\n",
    "        Predict class probabilities for X.\n",
    "        \"\"\"\n",
    "        return self.classifier.prob_classify_many(X)"
   ]
  },
  {
   "cell_type": "code",
   "execution_count": 98,
   "metadata": {},
   "outputs": [],
   "source": [
    "# Convert to dict {\"note\": train['pn_history']}\n",
    "train_featureset = []\n",
    "for note in train['pn_history']:\n",
    "    train_featureset.append({\"note\": note})\n",
    "\n",
    "test_featureset = []\n",
    "for note in test['pn_history']:\n",
    "    test_featureset.append({\"note\": note})\n",
    "\n",
    "\n",
    "clf = BayesClassifier().fit(train_featureset, train['Nausea'])"
   ]
  },
  {
   "cell_type": "code",
   "execution_count": 102,
   "metadata": {},
   "outputs": [
    {
     "data": {
      "text/plain": [
       "0.5"
      ]
     },
     "execution_count": 102,
     "metadata": {},
     "output_type": "execute_result"
    }
   ],
   "source": [
    "roc_auc_score(test['Nausea'], clf.predict(test_featureset))"
   ]
  },
  {
   "cell_type": "markdown",
   "metadata": {},
   "source": [
    "Naive Bayes can't perform better than a coinflip when we just feed it raw text. Let's pursue the deep learning approach and perhaps bag of words or other forms of classical tokenization"
   ]
  },
  {
   "cell_type": "markdown",
   "metadata": {},
   "source": [
    "#### Action: Use zero-shot approach for detection of Nausea in patient notes"
   ]
  },
  {
   "cell_type": "code",
   "execution_count": 104,
   "metadata": {},
   "outputs": [],
   "source": [
    "from transformers import pipeline\n",
    "class NLIClassifier(ClassifierMixin, BaseEstimator):\n",
    "    classifier = pipeline(\"zero-shot-classification\",\n",
    "                      model=\"facebook/bart-large-mnli\")\n",
    "    labels = ['nausea', 'no nausea']\n",
    "\n",
    "    def predict(self, X: Union[pd.DataFrame, pd.Series, list]) -> np.ndarray:\n",
    "        assert len(X.shape) == 1 or X.shape[1] == 1, 'can only fit on text'\n",
    "        out = []\n",
    "        for t in tqdm(X, desc='Predicting'):\n",
    "            prediction = self.classifier(t, self.labels)\n",
    "            prediction = pd.Series(index=prediction['labels'], data=prediction['scores'])\n",
    "            out.append(prediction['nausea'])\n",
    "        return np.array(out)"
   ]
  },
  {
   "cell_type": "code",
   "execution_count": 107,
   "metadata": {},
   "outputs": [],
   "source": [
    "predictions = NLIClassifier().predict(train['pn_history']) if 'train_NLI_predictions_nausea.npz' not in os.listdir('.') else np.fromfile('train_NLI_predictions_nausea.npz')\n",
    "predictions.tofile('train_NLI_predictions_nausea.npz')"
   ]
  },
  {
   "cell_type": "code",
   "execution_count": 108,
   "metadata": {},
   "outputs": [
    {
     "data": {
      "text/plain": [
       "0.8763496296296296"
      ]
     },
     "execution_count": 108,
     "metadata": {},
     "output_type": "execute_result"
    }
   ],
   "source": [
    "roc_auc_score(train['Nausea'], predictions)"
   ]
  },
  {
   "cell_type": "code",
   "execution_count": null,
   "metadata": {},
   "outputs": [],
   "source": []
  }
 ],
 "metadata": {
  "interpreter": {
   "hash": "2927bb20fb153708f36ac32da53440f112c97ed1aefca8e632aa92b10a33ae25"
  },
  "kernelspec": {
   "display_name": "Python 3.8.12 ('s079')",
   "language": "python",
   "name": "python3"
  },
  "language_info": {
   "codemirror_mode": {
    "name": "ipython",
    "version": 3
   },
   "file_extension": ".py",
   "mimetype": "text/x-python",
   "name": "python",
   "nbconvert_exporter": "python",
   "pygments_lexer": "ipython3",
   "version": "3.8.12"
  },
  "orig_nbformat": 4
 },
 "nbformat": 4,
 "nbformat_minor": 2
}
