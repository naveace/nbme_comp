{
 "cells": [
  {
   "cell_type": "markdown",
   "metadata": {
    "collapsed": true,
    "pycharm": {
     "name": "#%% md\n"
    }
   },
   "source": [
    "## Similarity of phrases"
   ]
  },
  {
   "cell_type": "code",
   "execution_count": 13,
   "outputs": [
    {
     "name": "stderr",
     "output_type": "stream",
     "text": [
      "[nltk_data] Downloading package punkt to\n",
      "[nltk_data]     /Users/yuvalmamana/nltk_data...\n",
      "[nltk_data]   Package punkt is already up-to-date!\n"
     ]
    }
   ],
   "source": [
    "import pandas as pd\n",
    "import numpy as np\n",
    "import nltk\n",
    "nltk.download('punkt')\n",
    "from nltk.tokenize import sent_tokenize\n",
    "from sklearn.metrics.pairwise import cosine_similarity\n",
    "from sentence_transformers import SentenceTransformer\n",
    "import ast\n",
    "import sys\n",
    "sys.path.insert(0, '../../data')\n",
    "import data_loaders\n",
    "import re"
   ],
   "metadata": {
    "collapsed": false,
    "pycharm": {
     "name": "#%%\n"
    }
   }
  },
  {
   "cell_type": "markdown",
   "source": [
    "#### Load the data and filter by feature, add annotation_length column for analysis"
   ],
   "metadata": {
    "collapsed": false,
    "pycharm": {
     "name": "#%% md\n"
    }
   }
  },
  {
   "cell_type": "code",
   "execution_count": 14,
   "outputs": [],
   "source": [
    "train = data_loaders.get_clean_train_data()"
   ],
   "metadata": {
    "collapsed": false,
    "pycharm": {
     "name": "#%%\n"
    }
   }
  },
  {
   "cell_type": "code",
   "execution_count": 15,
   "outputs": [],
   "source": [
    "def add_phrases_manual(train):\n",
    "    \"\"\"\n",
    "    'manually' divide patient notes into phrases by splitting by commas and periods.\n",
    "    \"\"\"\n",
    "    train['phrases_manual'] = train['pn_history'].apply(lambda x: x.split(', '))\n",
    "    train['phrases_manual'] = train['phrases_manual'].apply(lambda x: [i.split('. ') for i in x])\n",
    "    train['phrases_manual'] = train['phrases_manual'].apply(lambda row: [val for sublist in row for val in sublist])\n",
    "    train = train.reset_index().drop('index', axis=1)\n",
    "\n",
    "    return train\n",
    "\n",
    "def add_phrases_tokenizer(train, tokenizer):\n",
    "    \"\"\"\n",
    "    add 2 columns to train:\n",
    "     - phrases_tokenizer: patient notes divided into phrases using a given tokenizer\n",
    "     - phrases: phrases_manual divided into phrases using a given tokenizer\n",
    "    \"\"\"\n",
    "    train['phrases_tokenizer'] = train['pn_history'].apply(tokenizer)\n",
    "    train['phrases'] = train['phrases_manual'].apply(lambda row: [tokenizer(val) for val in row])\n",
    "    train['phrases'] = train['phrases'].apply(lambda row: [val for sublist in row for val in sublist])\n",
    "\n",
    "    return train"
   ],
   "metadata": {
    "collapsed": false,
    "pycharm": {
     "name": "#%%\n"
    }
   }
  },
  {
   "cell_type": "code",
   "execution_count": 16,
   "outputs": [],
   "source": [
    "train = add_phrases_manual(train)\n",
    "train = add_phrases_tokenizer(train, sent_tokenize)\n",
    "train['note_len'] = train['pn_history'].apply(len)\n",
    "\n",
    "# initializing results columns\n",
    "train['similarity'] = [list() for _ in range(len(train['pn_num']))]\n",
    "train['phrase'] = [list() for _ in range(len(train['pn_num']))]\n",
    "train['res_loc'] = [list() for _ in range(len(train['pn_num']))]\n",
    "train['res_loc_bin'] = [list() for _ in range(len(train['pn_num']))]\n",
    "train['expected_bin'] = [list() for _ in range(len(train['pn_num']))]"
   ],
   "metadata": {
    "collapsed": false,
    "pycharm": {
     "name": "#%%\n"
    }
   }
  },
  {
   "cell_type": "markdown",
   "source": [
    "#### The pre-processed train dataset:"
   ],
   "metadata": {
    "collapsed": false,
    "pycharm": {
     "name": "#%% md\n"
    }
   }
  },
  {
   "cell_type": "code",
   "execution_count": 17,
   "outputs": [
    {
     "data": {
      "text/plain": "          id  case_num  pn_num  feature_num  \\\n0  00016_000         0      16            0   \n1  00016_001         0      16            1   \n2  00016_002         0      16            2   \n3  00016_003         0      16            3   \n4  00016_004         0      16            4   \n\n                               annotation      location_raw  \\\n0          [dad with recent heart attcak]         [696 724]   \n1             [mom with \"thyroid disease]         [668 693]   \n2                        [chest pressure]         [203 217]   \n3        [intermittent episodes, episode]  [70 91, 176 183]   \n4  [felt as if he were going to pass out]         [222 258]   \n\n                                        feature_text  \\\n0  Family-history-of-MI-OR-Family-history-of-myoc...   \n1                 Family-history-of-thyroid-disorder   \n2                                     Chest-pressure   \n3                              Intermittent-symptoms   \n4                                        Lightheaded   \n\n                                          pn_history                location  \\\n0  HPI: 17yo M presents with palpitations. Patien...            [(696, 724)]   \n1  HPI: 17yo M presents with palpitations. Patien...            [(668, 693)]   \n2  HPI: 17yo M presents with palpitations. Patien...            [(203, 217)]   \n3  HPI: 17yo M presents with palpitations. Patien...  [(70, 91), (176, 183)]   \n4  HPI: 17yo M presents with palpitations. Patien...            [(222, 258)]   \n\n                                      phrases_manual  \\\n0  [HPI: 17yo M presents with palpitations, Patie...   \n1  [HPI: 17yo M presents with palpitations, Patie...   \n2  [HPI: 17yo M presents with palpitations, Patie...   \n3  [HPI: 17yo M presents with palpitations, Patie...   \n4  [HPI: 17yo M presents with palpitations, Patie...   \n\n                                   phrases_tokenizer  \\\n0  [HPI: 17yo M presents with palpitations., Pati...   \n1  [HPI: 17yo M presents with palpitations., Pati...   \n2  [HPI: 17yo M presents with palpitations., Pati...   \n3  [HPI: 17yo M presents with palpitations., Pati...   \n4  [HPI: 17yo M presents with palpitations., Pati...   \n\n                                             phrases  note_len similarity  \\\n0  [HPI: 17yo M presents with palpitations, Patie...       938         []   \n1  [HPI: 17yo M presents with palpitations, Patie...       938         []   \n2  [HPI: 17yo M presents with palpitations, Patie...       938         []   \n3  [HPI: 17yo M presents with palpitations, Patie...       938         []   \n4  [HPI: 17yo M presents with palpitations, Patie...       938         []   \n\n  phrase res_loc res_loc_bin expected_bin  \n0     []      []          []           []  \n1     []      []          []           []  \n2     []      []          []           []  \n3     []      []          []           []  \n4     []      []          []           []  ",
      "text/html": "<div>\n<style scoped>\n    .dataframe tbody tr th:only-of-type {\n        vertical-align: middle;\n    }\n\n    .dataframe tbody tr th {\n        vertical-align: top;\n    }\n\n    .dataframe thead th {\n        text-align: right;\n    }\n</style>\n<table border=\"1\" class=\"dataframe\">\n  <thead>\n    <tr style=\"text-align: right;\">\n      <th></th>\n      <th>id</th>\n      <th>case_num</th>\n      <th>pn_num</th>\n      <th>feature_num</th>\n      <th>annotation</th>\n      <th>location_raw</th>\n      <th>feature_text</th>\n      <th>pn_history</th>\n      <th>location</th>\n      <th>phrases_manual</th>\n      <th>phrases_tokenizer</th>\n      <th>phrases</th>\n      <th>note_len</th>\n      <th>similarity</th>\n      <th>phrase</th>\n      <th>res_loc</th>\n      <th>res_loc_bin</th>\n      <th>expected_bin</th>\n    </tr>\n  </thead>\n  <tbody>\n    <tr>\n      <th>0</th>\n      <td>00016_000</td>\n      <td>0</td>\n      <td>16</td>\n      <td>0</td>\n      <td>[dad with recent heart attcak]</td>\n      <td>[696 724]</td>\n      <td>Family-history-of-MI-OR-Family-history-of-myoc...</td>\n      <td>HPI: 17yo M presents with palpitations. Patien...</td>\n      <td>[(696, 724)]</td>\n      <td>[HPI: 17yo M presents with palpitations, Patie...</td>\n      <td>[HPI: 17yo M presents with palpitations., Pati...</td>\n      <td>[HPI: 17yo M presents with palpitations, Patie...</td>\n      <td>938</td>\n      <td>[]</td>\n      <td>[]</td>\n      <td>[]</td>\n      <td>[]</td>\n      <td>[]</td>\n    </tr>\n    <tr>\n      <th>1</th>\n      <td>00016_001</td>\n      <td>0</td>\n      <td>16</td>\n      <td>1</td>\n      <td>[mom with \"thyroid disease]</td>\n      <td>[668 693]</td>\n      <td>Family-history-of-thyroid-disorder</td>\n      <td>HPI: 17yo M presents with palpitations. Patien...</td>\n      <td>[(668, 693)]</td>\n      <td>[HPI: 17yo M presents with palpitations, Patie...</td>\n      <td>[HPI: 17yo M presents with palpitations., Pati...</td>\n      <td>[HPI: 17yo M presents with palpitations, Patie...</td>\n      <td>938</td>\n      <td>[]</td>\n      <td>[]</td>\n      <td>[]</td>\n      <td>[]</td>\n      <td>[]</td>\n    </tr>\n    <tr>\n      <th>2</th>\n      <td>00016_002</td>\n      <td>0</td>\n      <td>16</td>\n      <td>2</td>\n      <td>[chest pressure]</td>\n      <td>[203 217]</td>\n      <td>Chest-pressure</td>\n      <td>HPI: 17yo M presents with palpitations. Patien...</td>\n      <td>[(203, 217)]</td>\n      <td>[HPI: 17yo M presents with palpitations, Patie...</td>\n      <td>[HPI: 17yo M presents with palpitations., Pati...</td>\n      <td>[HPI: 17yo M presents with palpitations, Patie...</td>\n      <td>938</td>\n      <td>[]</td>\n      <td>[]</td>\n      <td>[]</td>\n      <td>[]</td>\n      <td>[]</td>\n    </tr>\n    <tr>\n      <th>3</th>\n      <td>00016_003</td>\n      <td>0</td>\n      <td>16</td>\n      <td>3</td>\n      <td>[intermittent episodes, episode]</td>\n      <td>[70 91, 176 183]</td>\n      <td>Intermittent-symptoms</td>\n      <td>HPI: 17yo M presents with palpitations. Patien...</td>\n      <td>[(70, 91), (176, 183)]</td>\n      <td>[HPI: 17yo M presents with palpitations, Patie...</td>\n      <td>[HPI: 17yo M presents with palpitations., Pati...</td>\n      <td>[HPI: 17yo M presents with palpitations, Patie...</td>\n      <td>938</td>\n      <td>[]</td>\n      <td>[]</td>\n      <td>[]</td>\n      <td>[]</td>\n      <td>[]</td>\n    </tr>\n    <tr>\n      <th>4</th>\n      <td>00016_004</td>\n      <td>0</td>\n      <td>16</td>\n      <td>4</td>\n      <td>[felt as if he were going to pass out]</td>\n      <td>[222 258]</td>\n      <td>Lightheaded</td>\n      <td>HPI: 17yo M presents with palpitations. Patien...</td>\n      <td>[(222, 258)]</td>\n      <td>[HPI: 17yo M presents with palpitations, Patie...</td>\n      <td>[HPI: 17yo M presents with palpitations., Pati...</td>\n      <td>[HPI: 17yo M presents with palpitations, Patie...</td>\n      <td>938</td>\n      <td>[]</td>\n      <td>[]</td>\n      <td>[]</td>\n      <td>[]</td>\n      <td>[]</td>\n    </tr>\n  </tbody>\n</table>\n</div>"
     },
     "execution_count": 17,
     "metadata": {},
     "output_type": "execute_result"
    }
   ],
   "source": [
    "train.head()"
   ],
   "metadata": {
    "collapsed": false,
    "pycharm": {
     "name": "#%%\n"
    }
   }
  },
  {
   "cell_type": "code",
   "execution_count": 18,
   "outputs": [
    {
     "data": {
      "text/plain": "          id  case_num  pn_num  feature_num  \\\n0  00016_000         0      16            0   \n1  00016_001         0      16            1   \n2  00016_002         0      16            2   \n3  00016_003         0      16            3   \n4  00016_004         0      16            4   \n\n                                             phrases  note_len  \\\n0  [HPI: 17yo M presents with palpitations, Patie...       938   \n1  [HPI: 17yo M presents with palpitations, Patie...       938   \n2  [HPI: 17yo M presents with palpitations, Patie...       938   \n3  [HPI: 17yo M presents with palpitations, Patie...       938   \n4  [HPI: 17yo M presents with palpitations, Patie...       938   \n\n                               annotation phrase  \\\n0          [dad with recent heart attcak]     []   \n1             [mom with \"thyroid disease]     []   \n2                        [chest pressure]     []   \n3        [intermittent episodes, episode]     []   \n4  [felt as if he were going to pass out]     []   \n\n                                        feature_text                location  \\\n0  Family-history-of-MI-OR-Family-history-of-myoc...            [(696, 724)]   \n1                 Family-history-of-thyroid-disorder            [(668, 693)]   \n2                                     Chest-pressure            [(203, 217)]   \n3                              Intermittent-symptoms  [(70, 91), (176, 183)]   \n4                                        Lightheaded            [(222, 258)]   \n\n  res_loc similarity res_loc_bin expected_bin  \n0      []         []          []           []  \n1      []         []          []           []  \n2      []         []          []           []  \n3      []         []          []           []  \n4      []         []          []           []  ",
      "text/html": "<div>\n<style scoped>\n    .dataframe tbody tr th:only-of-type {\n        vertical-align: middle;\n    }\n\n    .dataframe tbody tr th {\n        vertical-align: top;\n    }\n\n    .dataframe thead th {\n        text-align: right;\n    }\n</style>\n<table border=\"1\" class=\"dataframe\">\n  <thead>\n    <tr style=\"text-align: right;\">\n      <th></th>\n      <th>id</th>\n      <th>case_num</th>\n      <th>pn_num</th>\n      <th>feature_num</th>\n      <th>phrases</th>\n      <th>note_len</th>\n      <th>annotation</th>\n      <th>phrase</th>\n      <th>feature_text</th>\n      <th>location</th>\n      <th>res_loc</th>\n      <th>similarity</th>\n      <th>res_loc_bin</th>\n      <th>expected_bin</th>\n    </tr>\n  </thead>\n  <tbody>\n    <tr>\n      <th>0</th>\n      <td>00016_000</td>\n      <td>0</td>\n      <td>16</td>\n      <td>0</td>\n      <td>[HPI: 17yo M presents with palpitations, Patie...</td>\n      <td>938</td>\n      <td>[dad with recent heart attcak]</td>\n      <td>[]</td>\n      <td>Family-history-of-MI-OR-Family-history-of-myoc...</td>\n      <td>[(696, 724)]</td>\n      <td>[]</td>\n      <td>[]</td>\n      <td>[]</td>\n      <td>[]</td>\n    </tr>\n    <tr>\n      <th>1</th>\n      <td>00016_001</td>\n      <td>0</td>\n      <td>16</td>\n      <td>1</td>\n      <td>[HPI: 17yo M presents with palpitations, Patie...</td>\n      <td>938</td>\n      <td>[mom with \"thyroid disease]</td>\n      <td>[]</td>\n      <td>Family-history-of-thyroid-disorder</td>\n      <td>[(668, 693)]</td>\n      <td>[]</td>\n      <td>[]</td>\n      <td>[]</td>\n      <td>[]</td>\n    </tr>\n    <tr>\n      <th>2</th>\n      <td>00016_002</td>\n      <td>0</td>\n      <td>16</td>\n      <td>2</td>\n      <td>[HPI: 17yo M presents with palpitations, Patie...</td>\n      <td>938</td>\n      <td>[chest pressure]</td>\n      <td>[]</td>\n      <td>Chest-pressure</td>\n      <td>[(203, 217)]</td>\n      <td>[]</td>\n      <td>[]</td>\n      <td>[]</td>\n      <td>[]</td>\n    </tr>\n    <tr>\n      <th>3</th>\n      <td>00016_003</td>\n      <td>0</td>\n      <td>16</td>\n      <td>3</td>\n      <td>[HPI: 17yo M presents with palpitations, Patie...</td>\n      <td>938</td>\n      <td>[intermittent episodes, episode]</td>\n      <td>[]</td>\n      <td>Intermittent-symptoms</td>\n      <td>[(70, 91), (176, 183)]</td>\n      <td>[]</td>\n      <td>[]</td>\n      <td>[]</td>\n      <td>[]</td>\n    </tr>\n    <tr>\n      <th>4</th>\n      <td>00016_004</td>\n      <td>0</td>\n      <td>16</td>\n      <td>4</td>\n      <td>[HPI: 17yo M presents with palpitations, Patie...</td>\n      <td>938</td>\n      <td>[felt as if he were going to pass out]</td>\n      <td>[]</td>\n      <td>Lightheaded</td>\n      <td>[(222, 258)]</td>\n      <td>[]</td>\n      <td>[]</td>\n      <td>[]</td>\n      <td>[]</td>\n    </tr>\n  </tbody>\n</table>\n</div>"
     },
     "execution_count": 18,
     "metadata": {},
     "output_type": "execute_result"
    }
   ],
   "source": [
    "train = train[['id', 'case_num', 'pn_num', 'feature_num', 'phrases', 'note_len', 'annotation', 'phrase', 'feature_text', 'location', 'res_loc', 'similarity', 'res_loc_bin', 'expected_bin']]\n",
    "train.head()"
   ],
   "metadata": {
    "collapsed": false,
    "pycharm": {
     "name": "#%%\n"
    }
   }
  },
  {
   "cell_type": "markdown",
   "source": [
    "#### Loading features data:"
   ],
   "metadata": {
    "collapsed": false,
    "pycharm": {
     "name": "#%% md\n"
    }
   }
  },
  {
   "cell_type": "code",
   "execution_count": 19,
   "outputs": [],
   "source": [
    "features = data_loaders.get_features()"
   ],
   "metadata": {
    "collapsed": false,
    "pycharm": {
     "name": "#%%\n"
    }
   }
  },
  {
   "cell_type": "code",
   "execution_count": 20,
   "outputs": [
    {
     "data": {
      "text/plain": "     feature_num  case_num                                       feature_text\n0              0         0  Family history of MI or Family history of myoc...\n1              1         0                 Family history of thyroid disorder\n2              2         0                                     Chest pressure\n3              3         0                              Intermittent symptoms\n4              4         0                                        Lightheaded\n..           ...       ...                                                ...\n138          912         9                        Family history of migraines\n139          913         9                                             Female\n140          914         9                                        Photophobia\n141          915         9                          No known illness contacts\n142          916         9                                   Subjective fever\n\n[143 rows x 3 columns]",
      "text/html": "<div>\n<style scoped>\n    .dataframe tbody tr th:only-of-type {\n        vertical-align: middle;\n    }\n\n    .dataframe tbody tr th {\n        vertical-align: top;\n    }\n\n    .dataframe thead th {\n        text-align: right;\n    }\n</style>\n<table border=\"1\" class=\"dataframe\">\n  <thead>\n    <tr style=\"text-align: right;\">\n      <th></th>\n      <th>feature_num</th>\n      <th>case_num</th>\n      <th>feature_text</th>\n    </tr>\n  </thead>\n  <tbody>\n    <tr>\n      <th>0</th>\n      <td>0</td>\n      <td>0</td>\n      <td>Family history of MI or Family history of myoc...</td>\n    </tr>\n    <tr>\n      <th>1</th>\n      <td>1</td>\n      <td>0</td>\n      <td>Family history of thyroid disorder</td>\n    </tr>\n    <tr>\n      <th>2</th>\n      <td>2</td>\n      <td>0</td>\n      <td>Chest pressure</td>\n    </tr>\n    <tr>\n      <th>3</th>\n      <td>3</td>\n      <td>0</td>\n      <td>Intermittent symptoms</td>\n    </tr>\n    <tr>\n      <th>4</th>\n      <td>4</td>\n      <td>0</td>\n      <td>Lightheaded</td>\n    </tr>\n    <tr>\n      <th>...</th>\n      <td>...</td>\n      <td>...</td>\n      <td>...</td>\n    </tr>\n    <tr>\n      <th>138</th>\n      <td>912</td>\n      <td>9</td>\n      <td>Family history of migraines</td>\n    </tr>\n    <tr>\n      <th>139</th>\n      <td>913</td>\n      <td>9</td>\n      <td>Female</td>\n    </tr>\n    <tr>\n      <th>140</th>\n      <td>914</td>\n      <td>9</td>\n      <td>Photophobia</td>\n    </tr>\n    <tr>\n      <th>141</th>\n      <td>915</td>\n      <td>9</td>\n      <td>No known illness contacts</td>\n    </tr>\n    <tr>\n      <th>142</th>\n      <td>916</td>\n      <td>9</td>\n      <td>Subjective fever</td>\n    </tr>\n  </tbody>\n</table>\n<p>143 rows × 3 columns</p>\n</div>"
     },
     "execution_count": 20,
     "metadata": {},
     "output_type": "execute_result"
    }
   ],
   "source": [
    "\n",
    "def process_feature_text(text):\n",
    "    \"\"\"\n",
    "    SHOULD USE\n",
    "    \"\"\"\n",
    "    text = re.sub('I-year', '1-year', text)\n",
    "    text = re.sub('-OR-', \" or \", text)\n",
    "    text = re.sub('-', ' ', text)\n",
    "    return text\n",
    "\n",
    "features['feature_text'] = features['feature_text'].apply(process_feature_text)\n",
    "features"
   ],
   "metadata": {
    "collapsed": false,
    "pycharm": {
     "name": "#%%\n"
    }
   }
  },
  {
   "cell_type": "markdown",
   "source": [
    "#### Training a bert model on all features:"
   ],
   "metadata": {
    "collapsed": false,
    "pycharm": {
     "name": "#%% md\n"
    }
   }
  },
  {
   "cell_type": "code",
   "execution_count": 21,
   "outputs": [
    {
     "data": {
      "text/plain": "Batches:   0%|          | 0/5 [00:00<?, ?it/s]",
      "application/vnd.jupyter.widget-view+json": {
       "version_major": 2,
       "version_minor": 0,
       "model_id": "895ddd8d00c24657811b4af8187c830f"
      }
     },
     "metadata": {},
     "output_type": "display_data"
    }
   ],
   "source": [
    "model = SentenceTransformer('all-mpnet-base-v2')\n",
    "embeddings = model.encode(features['feature_text'], show_progress_bar=True)"
   ],
   "metadata": {
    "collapsed": false,
    "pycharm": {
     "name": "#%%\n"
    }
   }
  },
  {
   "cell_type": "code",
   "execution_count": 22,
   "outputs": [],
   "source": [
    "def bert(s, embeddings):\n",
    "    \"\"\"\n",
    "    return the index of the most similar feature to a given string\n",
    "    \"\"\"\n",
    "    y = model.encode(s).reshape(1, -1)\n",
    "    sim = cosine_similarity(embeddings, y)\n",
    "    opt_index = np.argmax(sim)\n",
    "    return opt_index, sim[opt_index][0]"
   ],
   "metadata": {
    "collapsed": false,
    "pycharm": {
     "name": "#%%\n"
    }
   }
  },
  {
   "cell_type": "markdown",
   "source": [
    "#### Main training loop - get the most similar feature for every phrase"
   ],
   "metadata": {
    "collapsed": false,
    "pycharm": {
     "name": "#%% md\n"
    }
   }
  },
  {
   "cell_type": "code",
   "execution_count": null,
   "outputs": [],
   "source": [
    "for case, feature in zip(features['case_num'], list(features['feature_num'][:2])):\n",
    "    for i, row in train[train['case_num'] == case].iterrows():\n",
    "        start = 0\n",
    "        for phrase in row['phrases']:\n",
    "            end = start + len(phrase)\n",
    "            index, sim = bert(phrase, embeddings)\n",
    "            f_num = features['feature_num'][index]\n",
    "            if f_num == feature and sim > 0.48:\n",
    "                train.loc[i, 'similarity'].append(sim)\n",
    "                train.loc[i, 'phrase'].append(phrase)\n",
    "                train.loc[i, 'res_loc'].append((start, end))\n",
    "            start += len(phrase) + 2"
   ],
   "metadata": {
    "collapsed": false,
    "pycharm": {
     "name": "#%%\n",
     "is_executing": true
    }
   }
  },
  {
   "cell_type": "code",
   "execution_count": null,
   "outputs": [],
   "source": [
    "sys.path.insert(0, '../../experiments/theoviel_reproduction')\n",
    "import reproduced_model"
   ],
   "metadata": {
    "collapsed": false,
    "pycharm": {
     "name": "#%%\n",
     "is_executing": true
    }
   }
  },
  {
   "cell_type": "code",
   "execution_count": null,
   "outputs": [],
   "source": [
    "reproduced_model._evaluate_f1(train['res_loc'], train['location'])"
   ],
   "metadata": {
    "collapsed": false,
    "pycharm": {
     "name": "#%%\n",
     "is_executing": true
    }
   }
  },
  {
   "cell_type": "code",
   "execution_count": null,
   "outputs": [],
   "source": [],
   "metadata": {
    "collapsed": false,
    "pycharm": {
     "name": "#%%\n"
    }
   }
  }
 ],
 "metadata": {
  "kernelspec": {
   "display_name": "Python 3",
   "language": "python",
   "name": "python3"
  },
  "language_info": {
   "codemirror_mode": {
    "name": "ipython",
    "version": 2
   },
   "file_extension": ".py",
   "mimetype": "text/x-python",
   "name": "python",
   "nbconvert_exporter": "python",
   "pygments_lexer": "ipython2",
   "version": "2.7.6"
  }
 },
 "nbformat": 4,
 "nbformat_minor": 0
}