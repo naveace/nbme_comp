{
 "cells": [
  {
   "cell_type": "markdown",
   "metadata": {},
   "source": [
    "The goal here is to augment our data by randomly replacing annotated words with synonyms.\n",
    "Note that this is going to be dangerous for short annotations as we may replace the crucial part of the annotation!\n",
    "It would be worth first collection information about annotation lengths:"
   ]
  },
  {
   "cell_type": "code",
   "execution_count": 1,
   "metadata": {},
   "outputs": [
    {
     "data": {
      "text/plain": [
       "<seaborn.axisgrid.FacetGrid at 0x7fce30383490>"
      ]
     },
     "execution_count": 1,
     "metadata": {},
     "output_type": "execute_result"
    },
    {
     "data": {
      "image/png": "[encoded data removed]",
      "text/plain": [
       "<Figure size 360x360 with 1 Axes>"
      ]
     },
     "metadata": {
      "needs_background": "light"
     },
     "output_type": "display_data"
    }
   ],
   "source": [
    "from project.data.data_loaders import get_clean_train_data\n",
    "import seaborn as sns\n",
    "data = get_clean_train_data()\n",
    "lengths = []\n",
    "for idx, row in data.iterrows():\n",
    "    for annotation in row['annotation']:\n",
    "        lengths.append(len(annotation.split(' ')))\n",
    "sns.displot(lengths)"
   ]
  },
  {
   "cell_type": "code",
   "execution_count": 2,
   "metadata": {},
   "outputs": [
    {
     "data": {
      "text/html": [
       "<div>\n",
       "<style scoped>\n",
       "    .dataframe tbody tr th:only-of-type {\n",
       "        vertical-align: middle;\n",
       "    }\n",
       "\n",
       "    .dataframe tbody tr th {\n",
       "        vertical-align: top;\n",
       "    }\n",
       "\n",
       "    .dataframe thead th {\n",
       "        text-align: right;\n",
       "    }\n",
       "</style>\n",
       "<table border=\"1\" class=\"dataframe\">\n",
       "  <thead>\n",
       "    <tr style=\"text-align: right;\">\n",
       "      <th></th>\n",
       "      <th>id</th>\n",
       "      <th>case_num</th>\n",
       "      <th>pn_num</th>\n",
       "      <th>feature_num</th>\n",
       "      <th>annotation</th>\n",
       "      <th>location_raw</th>\n",
       "      <th>feature_text</th>\n",
       "      <th>pn_history</th>\n",
       "      <th>location</th>\n",
       "    </tr>\n",
       "  </thead>\n",
       "  <tbody>\n",
       "    <tr>\n",
       "      <th>0</th>\n",
       "      <td>00016_000</td>\n",
       "      <td>0</td>\n",
       "      <td>16</td>\n",
       "      <td>0</td>\n",
       "      <td>[dad with recent heart attcak]</td>\n",
       "      <td>[696 724]</td>\n",
       "      <td>Family-history-of-MI-OR-Family-history-of-myoc...</td>\n",
       "      <td>HPI: 17yo M presents with palpitations. Patien...</td>\n",
       "      <td>[(696, 724)]</td>\n",
       "    </tr>\n",
       "    <tr>\n",
       "      <th>1</th>\n",
       "      <td>00016_001</td>\n",
       "      <td>0</td>\n",
       "      <td>16</td>\n",
       "      <td>1</td>\n",
       "      <td>[mom with \"thyroid disease]</td>\n",
       "      <td>[668 693]</td>\n",
       "      <td>Family-history-of-thyroid-disorder</td>\n",
       "      <td>HPI: 17yo M presents with palpitations. Patien...</td>\n",
       "      <td>[(668, 693)]</td>\n",
       "    </tr>\n",
       "    <tr>\n",
       "      <th>2</th>\n",
       "      <td>00016_002</td>\n",
       "      <td>0</td>\n",
       "      <td>16</td>\n",
       "      <td>2</td>\n",
       "      <td>[chest pressure]</td>\n",
       "      <td>[203 217]</td>\n",
       "      <td>Chest-pressure</td>\n",
       "      <td>HPI: 17yo M presents with palpitations. Patien...</td>\n",
       "      <td>[(203, 217)]</td>\n",
       "    </tr>\n",
       "    <tr>\n",
       "      <th>3</th>\n",
       "      <td>00016_003</td>\n",
       "      <td>0</td>\n",
       "      <td>16</td>\n",
       "      <td>3</td>\n",
       "      <td>[intermittent episodes, episode]</td>\n",
       "      <td>[70 91, 176 183]</td>\n",
       "      <td>Intermittent-symptoms</td>\n",
       "      <td>HPI: 17yo M presents with palpitations. Patien...</td>\n",
       "      <td>[(70, 91), (176, 183)]</td>\n",
       "    </tr>\n",
       "    <tr>\n",
       "      <th>4</th>\n",
       "      <td>00016_004</td>\n",
       "      <td>0</td>\n",
       "      <td>16</td>\n",
       "      <td>4</td>\n",
       "      <td>[felt as if he were going to pass out]</td>\n",
       "      <td>[222 258]</td>\n",
       "      <td>Lightheaded</td>\n",
       "      <td>HPI: 17yo M presents with palpitations. Patien...</td>\n",
       "      <td>[(222, 258)]</td>\n",
       "    </tr>\n",
       "    <tr>\n",
       "      <th>...</th>\n",
       "      <td>...</td>\n",
       "      <td>...</td>\n",
       "      <td>...</td>\n",
       "      <td>...</td>\n",
       "      <td>...</td>\n",
       "      <td>...</td>\n",
       "      <td>...</td>\n",
       "      <td>...</td>\n",
       "      <td>...</td>\n",
       "    </tr>\n",
       "    <tr>\n",
       "      <th>14295</th>\n",
       "      <td>95333_912</td>\n",
       "      <td>9</td>\n",
       "      <td>95333</td>\n",
       "      <td>912</td>\n",
       "      <td>[]</td>\n",
       "      <td>[]</td>\n",
       "      <td>Family-history-of-migraines</td>\n",
       "      <td>Stephanie madden is a 20 year old woman compla...</td>\n",
       "      <td>[]</td>\n",
       "    </tr>\n",
       "    <tr>\n",
       "      <th>14296</th>\n",
       "      <td>95333_913</td>\n",
       "      <td>9</td>\n",
       "      <td>95333</td>\n",
       "      <td>913</td>\n",
       "      <td>[]</td>\n",
       "      <td>[]</td>\n",
       "      <td>Female</td>\n",
       "      <td>Stephanie madden is a 20 year old woman compla...</td>\n",
       "      <td>[]</td>\n",
       "    </tr>\n",
       "    <tr>\n",
       "      <th>14297</th>\n",
       "      <td>95333_914</td>\n",
       "      <td>9</td>\n",
       "      <td>95333</td>\n",
       "      <td>914</td>\n",
       "      <td>[photobia]</td>\n",
       "      <td>[274 282]</td>\n",
       "      <td>Photophobia</td>\n",
       "      <td>Stephanie madden is a 20 year old woman compla...</td>\n",
       "      <td>[(274, 282)]</td>\n",
       "    </tr>\n",
       "    <tr>\n",
       "      <th>14298</th>\n",
       "      <td>95333_915</td>\n",
       "      <td>9</td>\n",
       "      <td>95333</td>\n",
       "      <td>915</td>\n",
       "      <td>[no sick contacts]</td>\n",
       "      <td>[421 437]</td>\n",
       "      <td>No-known-illness-contacts</td>\n",
       "      <td>Stephanie madden is a 20 year old woman compla...</td>\n",
       "      <td>[(421, 437)]</td>\n",
       "    </tr>\n",
       "    <tr>\n",
       "      <th>14299</th>\n",
       "      <td>95333_916</td>\n",
       "      <td>9</td>\n",
       "      <td>95333</td>\n",
       "      <td>916</td>\n",
       "      <td>[Subjective fever]</td>\n",
       "      <td>[314 330]</td>\n",
       "      <td>Subjective-fever</td>\n",
       "      <td>Stephanie madden is a 20 year old woman compla...</td>\n",
       "      <td>[(314, 330)]</td>\n",
       "    </tr>\n",
       "  </tbody>\n",
       "</table>\n",
       "<p>14300 rows × 9 columns</p>\n",
       "</div>"
      ],
      "text/plain": [
       "              id  case_num  pn_num  feature_num  \\\n",
       "0      00016_000         0      16            0   \n",
       "1      00016_001         0      16            1   \n",
       "2      00016_002         0      16            2   \n",
       "3      00016_003         0      16            3   \n",
       "4      00016_004         0      16            4   \n",
       "...          ...       ...     ...          ...   \n",
       "14295  95333_912         9   95333          912   \n",
       "14296  95333_913         9   95333          913   \n",
       "14297  95333_914         9   95333          914   \n",
       "14298  95333_915         9   95333          915   \n",
       "14299  95333_916         9   95333          916   \n",
       "\n",
       "                                   annotation      location_raw  \\\n",
       "0              [dad with recent heart attcak]         [696 724]   \n",
       "1                 [mom with \"thyroid disease]         [668 693]   \n",
       "2                            [chest pressure]         [203 217]   \n",
       "3            [intermittent episodes, episode]  [70 91, 176 183]   \n",
       "4      [felt as if he were going to pass out]         [222 258]   \n",
       "...                                       ...               ...   \n",
       "14295                                      []                []   \n",
       "14296                                      []                []   \n",
       "14297                              [photobia]         [274 282]   \n",
       "14298                      [no sick contacts]         [421 437]   \n",
       "14299                      [Subjective fever]         [314 330]   \n",
       "\n",
       "                                            feature_text  \\\n",
       "0      Family-history-of-MI-OR-Family-history-of-myoc...   \n",
       "1                     Family-history-of-thyroid-disorder   \n",
       "2                                         Chest-pressure   \n",
       "3                                  Intermittent-symptoms   \n",
       "4                                            Lightheaded   \n",
       "...                                                  ...   \n",
       "14295                        Family-history-of-migraines   \n",
       "14296                                             Female   \n",
       "14297                                        Photophobia   \n",
       "14298                          No-known-illness-contacts   \n",
       "14299                                   Subjective-fever   \n",
       "\n",
       "                                              pn_history  \\\n",
       "0      HPI: 17yo M presents with palpitations. Patien...   \n",
       "1      HPI: 17yo M presents with palpitations. Patien...   \n",
       "2      HPI: 17yo M presents with palpitations. Patien...   \n",
       "3      HPI: 17yo M presents with palpitations. Patien...   \n",
       "4      HPI: 17yo M presents with palpitations. Patien...   \n",
       "...                                                  ...   \n",
       "14295  Stephanie madden is a 20 year old woman compla...   \n",
       "14296  Stephanie madden is a 20 year old woman compla...   \n",
       "14297  Stephanie madden is a 20 year old woman compla...   \n",
       "14298  Stephanie madden is a 20 year old woman compla...   \n",
       "14299  Stephanie madden is a 20 year old woman compla...   \n",
       "\n",
       "                     location  \n",
       "0                [(696, 724)]  \n",
       "1                [(668, 693)]  \n",
       "2                [(203, 217)]  \n",
       "3      [(70, 91), (176, 183)]  \n",
       "4                [(222, 258)]  \n",
       "...                       ...  \n",
       "14295                      []  \n",
       "14296                      []  \n",
       "14297            [(274, 282)]  \n",
       "14298            [(421, 437)]  \n",
       "14299            [(314, 330)]  \n",
       "\n",
       "[14300 rows x 9 columns]"
      ]
     },
     "execution_count": 2,
     "metadata": {},
     "output_type": "execute_result"
    }
   ],
   "source": [
    "data"
   ]
  },
  {
   "cell_type": "markdown",
   "metadata": {},
   "source": [
    "Since the annotations are very specific to the data and pretty tight as bounding boxes, it may be better instead to just replace random words in the text **excluding** the annotated portion. "
   ]
  },
  {
   "cell_type": "code",
   "execution_count": 3,
   "metadata": {},
   "outputs": [],
   "source": [
    "r = data.iloc[3]\n",
    "class Interval:\n",
    "    def __init__(self, start, end):\n",
    "        self.start = start\n",
    "        self.end = end\n",
    "    def __contains__(self, otherInterval: 'Interval'):\n",
    "        return otherInterval.start >= self.start and otherInterval.end <= self.end\n",
    "    def overlapsWith(self, otherInterval: 'Interval'):\n",
    "        return otherInterval.start <= self.end and otherInterval.end >= self.start"
   ]
  },
  {
   "cell_type": "code",
   "execution_count": 34,
   "metadata": {},
   "outputs": [
    {
     "data": {
      "text/plain": [
       "['information processing system',\n",
       " 'calculator',\n",
       " 'computing device',\n",
       " 'estimator',\n",
       " 'figurer',\n",
       " 'data processor',\n",
       " 'electronic computer',\n",
       " 'computing machine',\n",
       " 'reckoner']"
      ]
     },
     "execution_count": 34,
     "metadata": {},
     "output_type": "execute_result"
    }
   ],
   "source": [
    "from nltk.corpus import wordnet as wn\n",
    "def get_synonyms(word):\n",
    "    \"\"\"Get the synonyms of word from Wordnet.\"\"\"\n",
    "    lemmas = set().union(*[s.lemmas() for s in wn.synsets(word)])\n",
    "    return list(set(l.name().lower().replace(\"_\", \" \") for l in lemmas) - {word})\n",
    "get_synonyms('computer')"
   ]
  },
  {
   "cell_type": "code",
   "execution_count": 53,
   "metadata": {},
   "outputs": [
    {
     "name": "stdout",
     "output_type": "stream",
     "text": [
      "['intermittent episodes', 'episode']\n"
     ]
    }
   ],
   "source": [
    "print(r['annotation'])"
   ]
  },
  {
   "cell_type": "code",
   "execution_count": 130,
   "metadata": {},
   "outputs": [
    {
     "name": "stdout",
     "output_type": "stream",
     "text": [
      "['intermittent episodes', 'episode']\n",
      "[(70, 91), (176, 183)]\n",
      "reports story\n",
      "[(68, 89), (174, 181)]\n",
      "HPI: 17yo M presents with palpitations. Patient story 3-4 months of intermittent episodes of \"heart beating/pounding out of my chest.\" 2 days ago during a soccer game had an episode, but this time had chest pressure and felt as if he were going to pass out (did not lose conciousness). Of note patient endorses abusing adderall, primarily to study (1-3 times per week). Before recent soccer game, took adderrall night before and morning of game. Denies shortness of breath, diaphoresis, fevers, chills, headache, fatigue, changes in sleep, changes in vision/hearing, abdominal paun, changes in bowel or urinary habits. \n",
      "PMHx: none\n",
      "Rx: uses friends adderrall\n",
      "FHx: mom with \"thyroid disease,\" dad with recent heart attcak\n",
      "All: none\n",
      "Immunizations: up to date\n",
      "SHx: Freshmen in college. Endorses 3-4 drinks 3 nights / week (on weekends), denies tabacco, endorses trying marijuana. Sexually active with girlfriend x 1 year, uses condoms\n"
     ]
    }
   ],
   "source": [
    "import random\n",
    "tokens = [token for token in nlp(r['pn_history']) if token.is_alpha]\n",
    "def overlaps_with_label(token): \n",
    "    \"\"\"Check if a token overlaps with a label.\"\"\"\n",
    "    for (s, e) in r['location']:\n",
    "        if s <= token.idx < e:\n",
    "            return True\n",
    "    return False\n",
    "tokens = [token for token in tokens if not overlaps_with_label(token) and len(get_synonyms(token.text)) > 0]\n",
    "to_replace = random.choice(tokens[:5])\n",
    "replacement_synonym = random.choice(get_synonyms(to_replace.text))\n",
    "print(r['annotation'])\n",
    "print(r['location'])\n",
    "print(to_replace.text, replacement_synonym)\n",
    "new_text = r['pn_history'].replace(to_replace.text, replacement_synonym)\n",
    "new_loc = [(s, e) if s < to_replace.idx else (s + len(replacement_synonym) - len(to_replace.text), e + len(replacement_synonym) - len(to_replace.text)) for (s, e) in r['location'] ]\n",
    "print(new_loc)\n",
    "print(new_text)"
   ]
  },
  {
   "cell_type": "code",
   "execution_count": 36,
   "metadata": {},
   "outputs": [
    {
     "name": "stdout",
     "output_type": "stream",
     "text": [
      "HPI : 17yo M presents with --shaking-- . --affected role-- reports 3 - 4 --calendar month-- of intermittent --episode-- of \" --warmheartedness-- beating / pounding out of my --bureau-- . \" 2 --clarence day-- ago during a --association football-- --gage-- had an --instalment-- , but this --prison term-- had --bureau-- --hale-- and felt as if he were going to pass out ( did not lose conciousness ) . Of note patient --indorse-- abusing adderall , primarily to study ( 1 - 3 --meter-- per --calendar week-- ) . Before recent --association football-- --spunky-- , took adderrall --dark-- before and --dawning-- of --spirited-- . --refuse-- --curtness-- of --breathing spell-- , --sweating-- , --fever-- , --gelidity-- , --vexation-- , --jade-- , --alteration-- in --eternal rest-- , --convert-- in --sight-- / --find out-- , abdominal paun , --commute-- in --gut-- or urinary --habit-- . \n",
      " PMHx : none \n",
      " Rx : uses --admirer-- adderrall \n",
      " FHx : --ma-- with \" --thyroid gland-- disease , \" --pappa-- with recent --spirit-- attcak \n",
      " All : none \n",
      " --immunization-- : up to --appointment-- \n",
      " SHx : --freshman-- in college . Endorses 3 - 4 --drinkable-- 3 --dark-- / --calendar week-- ( on --weekend-- ) , denies tabacco , endorses trying marijuana . Sexually active with --girl-- x 1 --yr-- , uses --rubber--\n"
     ]
    }
   ],
   "source": [
    "import random\n",
    "enriched_sentence = []\n",
    "for token in nlp(r['pn_history']):\n",
    "    if not token.pos_ == 'NOUN':\n",
    "        enriched_sentence.append(token.text)\n",
    "    else:\n",
    "        synonyms = get_synonyms(token.text)\n",
    "        if synonyms:\n",
    "            enriched_sentence.append('--'+random.choice(synonyms)+'--')\n",
    "        else:\n",
    "            enriched_sentence.append(token.text)\n",
    "print(' '.join(enriched_sentence))"
   ]
  },
  {
   "cell_type": "code",
   "execution_count": 8,
   "metadata": {},
   "outputs": [
    {
     "name": "stdout",
     "output_type": "stream",
     "text": [
      "(iodine|I|i|ane|1|unity|single|one|ace|atomic_number_53|iodin) (require|privation|deficiency|wishing|lack|neediness|desire|need|deprivation|wish|want) to (remove|take_out|disengage|take_away|take|retire|swallow|move_back|call_back|pull_back|withdraw|draw_back|seclude|recall|draw|adjourn|pull_away|recede|pull_in_one's_horns|draw_off|back_out|sequestrate|bow_out|crawfish|call_in|retreat|crawfish_out|unsay|take_back|sequester|back_away) 5,000 (euro)\n"
     ]
    }
   ],
   "source": [
    "healthcare_domains = ['finance', 'banking']\n",
    "enriched_sentence = []\n",
    "sentence = nlp('I want to withdraw 5,000 euros')\n",
    "\n",
    "# For each token in the sentence\n",
    "for token in sentence:\n",
    "    # We get those synsets within the desired domains\n",
    "    synsets = token._.wordnet.wordnet_synsets_for_domain(healthcare_domains)\n",
    "    if not synsets:\n",
    "        enriched_sentence.append(token.text)\n",
    "    else:\n",
    "        lemmas_for_synset = [lemma for s in synsets for lemma in s.lemma_names()]\n",
    "        # If we found a synset in the economy domains\n",
    "        # we get the variants and add them to the enriched sentence\n",
    "        enriched_sentence.append('({})'.format('|'.join(set(lemmas_for_synset))))\n",
    "\n",
    "# Let's see our enriched sentence\n",
    "print(' '.join(enriched_sentence))\n",
    "# >> I (need|want|require) to (draw|withdraw|draw_off|take_out) 5,000 euros\n",
    "    "
   ]
  },
  {
   "cell_type": "code",
   "execution_count": null,
   "metadata": {},
   "outputs": [
    {
     "name": "stdout",
     "output_type": "stream",
     "text": [
      "HPI PROPN dep\n",
      ": PUNCT punct\n",
      "17yo PROPN appos\n",
      "M PROPN nsubj\n",
      "presents VERB ROOT\n",
      "with ADP prep\n",
      "palpitations NOUN pobj\n",
      ". PUNCT punct\n",
      "Patient NOUN nsubj\n",
      "reports VERB ROOT\n",
      "3 NUM nummod\n",
      "- SYM punct\n",
      "4 NUM nummod\n",
      "months NOUN dobj\n",
      "of ADP prep\n",
      "intermittent ADJ amod\n",
      "episodes NOUN pobj\n",
      "of ADP prep\n",
      "\" PUNCT punct\n",
      "heart NOUN compound\n",
      "beating VERB pcomp\n",
      "/ PUNCT punct\n",
      "pounding VERB advcl\n",
      "out ADP prep\n",
      "of ADP prep\n",
      "my PRON poss\n",
      "chest NOUN pobj\n",
      ". PUNCT punct\n",
      "\" PUNCT punct\n",
      "2 NUM nummod\n",
      "days NOUN npadvmod\n",
      "ago ADV advmod\n",
      "during ADP prep\n",
      "a DET det\n",
      "soccer NOUN compound\n",
      "game NOUN pobj\n",
      "had VERB ROOT\n",
      "an DET det\n",
      "episode NOUN dobj\n",
      ", PUNCT punct\n",
      "but CCONJ cc\n",
      "this DET det\n",
      "time NOUN nsubj\n",
      "had VERB conj\n",
      "chest NOUN compound\n",
      "pressure NOUN dobj\n",
      "and CCONJ cc\n",
      "felt VERB conj\n",
      "as SCONJ mark\n",
      "if SCONJ mark\n",
      "he PRON nsubj\n",
      "were AUX aux\n",
      "going VERB advcl\n",
      "to PART aux\n",
      "pass VERB xcomp\n",
      "out ADP prt\n",
      "( PUNCT punct\n",
      "did AUX aux\n",
      "not PART neg\n",
      "lose VERB ccomp\n",
      "conciousness NOUN dobj\n",
      ") PUNCT punct\n",
      ". PUNCT punct\n",
      "Of ADP advmod\n",
      "note VERB ROOT\n",
      "patient ADJ amod\n",
      "endorses NOUN dobj\n",
      "abusing VERB acl\n",
      "adderall NOUN dobj\n",
      ", PUNCT punct\n",
      "primarily ADV advmod\n",
      "to PART aux\n",
      "study VERB advcl\n",
      "( PUNCT punct\n",
      "1 NUM dobj\n",
      "- SYM punct\n",
      "3 NUM nummod\n",
      "times NOUN dobj\n",
      "per ADP prep\n",
      "week NOUN pobj\n",
      ") PUNCT punct\n",
      ". PUNCT punct\n",
      "Before ADP prep\n",
      "recent ADJ amod\n",
      "soccer NOUN compound\n",
      "game NOUN pobj\n",
      ", PUNCT punct\n",
      "took VERB ROOT\n",
      "adderrall ADJ amod\n",
      "night NOUN dobj\n",
      "before ADV advmod\n",
      "and CCONJ cc\n",
      "morning NOUN conj\n",
      "of ADP prep\n",
      "game NOUN pobj\n",
      ". PUNCT punct\n",
      "Denies NOUN ROOT\n",
      "shortness NOUN dobj\n",
      "of ADP prep\n",
      "breath NOUN pobj\n",
      ", PUNCT punct\n",
      "diaphoresis NOUN conj\n",
      ", PUNCT punct\n",
      "fevers NOUN conj\n",
      ", PUNCT punct\n",
      "chills NOUN conj\n",
      ", PUNCT punct\n",
      "headache NOUN conj\n",
      ", PUNCT punct\n",
      "fatigue NOUN conj\n",
      ", PUNCT punct\n",
      "changes NOUN conj\n",
      "in ADP prep\n",
      "sleep NOUN pobj\n",
      ", PUNCT punct\n",
      "changes NOUN conj\n",
      "in ADP prep\n",
      "vision NOUN nmod\n",
      "/ SYM punct\n",
      "hearing NOUN pobj\n",
      ", PUNCT punct\n",
      "abdominal ADJ amod\n",
      "paun NOUN conj\n",
      ", PUNCT punct\n",
      "changes NOUN conj\n",
      "in ADP prep\n",
      "bowel NOUN pobj\n",
      "or CCONJ cc\n",
      "urinary ADJ conj\n",
      "habits NOUN pobj\n",
      ". PUNCT punct\n",
      "\n",
      " SPACE dep\n",
      "PMHx NOUN dep\n",
      ": PUNCT punct\n",
      "none NOUN appos\n",
      "\n",
      " SPACE dep\n",
      "Rx NOUN appos\n",
      ": PUNCT punct\n",
      "uses VERB ROOT\n",
      "friends NOUN dobj\n",
      "adderrall ADV advmod\n",
      "\n",
      " SPACE dep\n",
      "FHx NOUN dobj\n",
      ": PUNCT punct\n",
      "mom NOUN dobj\n",
      "with ADP prep\n",
      "\" PUNCT punct\n",
      "thyroid NOUN compound\n",
      "disease NOUN pobj\n",
      ", PUNCT punct\n",
      "\" PUNCT punct\n",
      "dad NOUN dobj\n",
      "with ADP prep\n",
      "recent ADJ amod\n",
      "heart NOUN compound\n",
      "attcak NOUN pobj\n",
      "\n",
      " SPACE dep\n",
      "All PRON pobj\n",
      ": PUNCT punct\n",
      "none NOUN appos\n",
      "\n",
      " SPACE dep\n",
      "Immunizations NOUN appos\n",
      ": PUNCT punct\n",
      "up ADP prep\n",
      "to ADP prep\n",
      "date NOUN pobj\n",
      "\n",
      " SPACE dep\n",
      "SHx NOUN dobj\n",
      ": PUNCT punct\n",
      "Freshmen NOUN appos\n",
      "in ADP prep\n",
      "college NOUN pobj\n",
      ". PUNCT punct\n",
      "Endorses PROPN nsubj\n",
      "3 NUM nummod\n",
      "- SYM punct\n",
      "4 NUM prep\n",
      "drinks NOUN nsubj\n",
      "3 NUM nummod\n",
      "nights NOUN npadvmod\n",
      "/ SYM punct\n",
      "week NOUN npadvmod\n",
      "( PUNCT punct\n",
      "on ADP prep\n",
      "weekends NOUN pobj\n",
      ") PUNCT punct\n",
      ", PUNCT punct\n",
      "denies VERB ROOT\n",
      "tabacco NOUN dobj\n",
      ", PUNCT punct\n",
      "endorses VERB conj\n",
      "trying VERB xcomp\n",
      "marijuana PROPN dobj\n",
      ". PUNCT punct\n",
      "Sexually ADV advmod\n",
      "active ADJ advcl\n",
      "with ADP prep\n",
      "girlfriend NOUN nmod\n",
      "x SYM punct\n",
      "1 NUM nummod\n",
      "year NOUN pobj\n",
      ", PUNCT punct\n",
      "uses VERB ROOT\n",
      "condoms NOUN dobj\n"
     ]
    }
   ],
   "source": [
    "import spacy\n",
    "nlp = spacy.load(\"en_core_web_sm\")\n",
    "tokens = nlp(r['pn_history'])\n",
    "\n",
    "for token in tokens:\n",
    "    print(token.text, token.pos_, token.dep_)"
   ]
  },
  {
   "cell_type": "code",
   "execution_count": null,
   "metadata": {},
   "outputs": [
    {
     "name": "stdout",
     "output_type": "stream",
     "text": [
      "switch\n",
      "sign_of_the_zodiac\n"
     ]
    }
   ],
   "source": [
    "from nltk.corpus import wordnet\n",
    "from itertools import chain\n",
    "import random\n",
    "def get_random_synonym(word: str) -> str:\n",
    "    synonyms = wordnet.synsets(word)\n",
    "    synonyms = list(set(chain.from_iterable([word.lemma_names() for word in synonyms])))\n",
    "    return random.choice(synonyms)\n",
    "print(get_random_synonym('change'))\n",
    "print(get_random_synonym('house'))"
   ]
  },
  {
   "cell_type": "code",
   "execution_count": null,
   "metadata": {},
   "outputs": [
    {
     "name": "stderr",
     "output_type": "stream",
     "text": [
      "[nltk_data] Downloading package omw-1.4 to\n",
      "[nltk_data]     /Users/evanvogelbaum/nltk_data...\n",
      "[nltk_data]   Unzipping corpora/omw-1.4.zip.\n"
     ]
    },
    {
     "data": {
      "text/plain": [
       "True"
      ]
     },
     "execution_count": 19,
     "metadata": {},
     "output_type": "execute_result"
    }
   ],
   "source": [
    "nltk.download('omw-1.4')"
   ]
  },
  {
   "cell_type": "code",
   "execution_count": null,
   "metadata": {},
   "outputs": [
    {
     "name": "stdout",
     "output_type": "stream",
     "text": [
      "<class 'spacy.tokens.token.Token'>\n",
      "<class 'spacy.tokens.token.Token'>\n",
      "<class 'spacy.tokens.token.Token'>\n",
      "<class 'spacy.tokens.token.Token'>\n",
      "<class 'spacy.tokens.token.Token'>\n"
     ]
    }
   ],
   "source": [
    "for chunk in nlp('This is a test sentence'):\n",
    "    print(type(chunk))"
   ]
  },
  {
   "cell_type": "code",
   "execution_count": null,
   "metadata": {},
   "outputs": [
    {
     "name": "stdout",
     "output_type": "stream",
     "text": [
      "sentence 4 12\n"
     ]
    }
   ],
   "source": [
    "print(chunk, chunk.i, chunk.i + len(chunk))"
   ]
  },
  {
   "cell_type": "code",
   "execution_count": null,
   "metadata": {},
   "outputs": [
    {
     "data": {
      "text/plain": [
       "92"
      ]
     },
     "execution_count": 42,
     "metadata": {},
     "output_type": "execute_result"
    }
   ],
   "source": [
    "chunk.pos"
   ]
  },
  {
   "cell_type": "code",
   "execution_count": null,
   "metadata": {},
   "outputs": [],
   "source": []
  }
 ],
 "metadata": {
  "interpreter": {
   "hash": "59811a21b6bdb79b6f1a3b21d01b6e64bb63c5c292a63d3c5cec461d0e515581"
  },
  "kernelspec": {
   "display_name": "Python 3.10.0 ('PersonalCoding')",
   "language": "python",
   "name": "python3"
  },
  "language_info": {
   "codemirror_mode": {
    "name": "ipython",
    "version": 3
   },
   "file_extension": ".py",
   "mimetype": "text/x-python",
   "name": "python",
   "nbconvert_exporter": "python",
   "pygments_lexer": "ipython3",
   "version": "3.10.0"
  },
  "orig_nbformat": 4
 },
 "nbformat": 4,
 "nbformat_minor": 2
}
