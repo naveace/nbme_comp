{
 "cells": [
  {
   "cell_type": "code",
   "execution_count": 1,
   "metadata": {},
   "outputs": [],
   "source": [
    "from project.data.data_loaders import get_clean_train_data, get_patient_notes"
   ]
  },
  {
   "cell_type": "code",
   "execution_count": 5,
   "metadata": {},
   "outputs": [],
   "source": [
    "train_data = get_clean_train_data()\n",
    "patient_notes = get_patient_notes()\n",
    "unlabeled = patient_notes.loc[~patient_notes['pn_num'].isin(train_data['pn_num'])]  # we only want examples where the patient is not in the train set"
   ]
  },
  {
   "cell_type": "code",
   "execution_count": 17,
   "metadata": {},
   "outputs": [
    {
     "name": "stdout",
     "output_type": "stream",
     "text": [
      "Number of positive samples: 2\n",
      "Number of negative samples: 98\n",
      "Case number: [9]\n"
     ]
    }
   ],
   "source": [
    "feature_data = train_data[(train_data['feature_text'] == 'Meningococcal-vaccine-status-unknown')]\n",
    "positive_samples = feature_data[feature_data['location'].map(lambda l: len(l)>0)]\n",
    "negative_samples = feature_data[feature_data['location'].map(lambda l: len(l)==0)]\n",
    "print(f'Number of positive samples: {len(positive_samples)}')\n",
    "print(f'Number of negative samples: {len(negative_samples)}')\n",
    "print(f'Case number: {feature_data[\"case_num\"].unique()}')"
   ]
  },
  {
   "cell_type": "code",
   "execution_count": 22,
   "metadata": {},
   "outputs": [
    {
     "name": "stdout",
     "output_type": "stream",
     "text": [
      "['unsure of meningitis shot']\n",
      "[(512, 521), (544, 559)]\n",
      "unsure of\n",
      "meningitis shot\n"
     ]
    }
   ],
   "source": [
    "r = positive_samples.iloc[0]\n",
    "print(r['annotation'])\n",
    "print(r['location'])\n",
    "for s, e in r.location:\n",
    "    print(r['pn_history'][s:e])"
   ]
  },
  {
   "cell_type": "code",
   "execution_count": 12,
   "metadata": {},
   "outputs": [
    {
     "name": "stdout",
     "output_type": "stream",
     "text": [
      "Stephanie Madden is a 20 year old female who presents with a severe headache. She awoke yesterday morning with the headache, and it has been constant since then. It is now an 8/10 in pain, and feels dull. She has thrown up three times since then, and it has not improved with over the counter medications. She says that the headache is worse with bright lights, and denies any changes in vision. She denies any recent trauma, liquid running out of her nose with leaning forward, and denies sick contacts. She is unsure of whether she has had a meningitis shot. She has had headaches in the past, but never any of this severity.\n",
      "\n",
      "Medications - Daily oral contraceptive pill use\n",
      "PMH - None\n",
      "Surgical history - None\n",
      "FHx - Mother has migraine disorder, dad has hyperlipidemia\n",
      "Social - Smokes 3-4 joints weekly, no tobacco, 2-3 beers or wine on weekends, uses condoms consistently with boyfriend\n",
      "['unsure of meningitis shot']\n",
      "**********\n",
      "20yoF with no significant PMHx presents with headache. Dull achy quality all over head. Started yesterday in the AM and has been constant since. Pain level is 8/10, no alleviated by OTC pain meds. Better when in a dark room resting. Sleep has not helped. Worse when walking or leaning forward. No radiation of pain. Other symptoms include nausea, vomiting (3x since yesterday, food and then bilious). Did not get meningococcal vaccinations, has felt subjective fevers at home. Reports neck pain/stiffness. First headache. No association with new foods, meds, or menstrual cycle.\n",
      "\n",
      "PMHx - none, no surgeries\n",
      "Meds - OCPs, no allergies\n",
      "FHx - mother with migraine headaches\n",
      "Social - taking online classes, no tobacco, ETOH or other drug use.\n",
      "['Did not get meningococcal vaccinations']\n",
      "**********\n"
     ]
    }
   ],
   "source": [
    "for i, r in positive_samples.iterrows():\n",
    "    print(r['pn_history'])\n",
    "    print(r['annotation'])\n",
    "    print('*'*10)"
   ]
  },
  {
   "cell_type": "code",
   "execution_count": 13,
   "metadata": {},
   "outputs": [
    {
     "name": "stdout",
     "output_type": "stream",
     "text": [
      "20 yo F c/o headache since she woke up yesterday, holocranial, 8/10, dull, constant, worsen when walking and bending over, took Tylenol and Ibuprofen without any improvement. Patient reports this it the first time shes had a headache like this. Associated with nause and vomiting, #3 times since yesterday. Reports fever since this morning and feeling fatigued and achy. Disturbed by light and loud noises. Denies rash, recent travel, ill contacts, cough, chest pain, SOB, recent URI, changes in bowel movements, changes in urinary frequency.\n",
      "\n",
      "ROS: as per HPI. PMH: None. PSH: None. Allergies: NKA. Medications: OCP for the past 2y. FH: Father had hypercholesterolemia; mother has migraines. SH: Works in a sporting good store. Sexually active with boyfriend, uses condoms consistently. Drinks 2-3 drinks/weekend. Smokes 3-4 ciggarettes of marijuana/week. Patient eats a healthy diet and exercises regularly.\n",
      "**********\n",
      "Ms. Stephanie Madden is a 20 year-old woman presenting with the chief complaint of headache. The headache started yesterday morning. She has associated nausea, vomiting x1, subjective fever, and photophobia. She has never had a headache like this before. She has tried over the counter pain relievers and these did not help. Moving around worsens her headache, and bright lights hurt her eyes. The pain is all over her head and is constant. \n",
      "\n",
      "PMH: none\n",
      "Surgical history: none\n",
      "Meds: birth control pills\n",
      "NKDA\n",
      "FH: Mother has migraine headaches. Father has dyslipidemia.\n",
      "**********\n",
      "20 yr old f c/o headache since yesterday morning.It started suddenly,is continous and progressively worsening,dull/aching pain,8/10,radiate to neck,exacerbated by light,leaning and bending  forward,associated with nausea and 3 episodes of non bloody vomiting.She has been fever since yesterday morning,had runny nose and scratchy throat.She has been using oral conntraceptives pills for birth control.\n",
      "She denies sick contacts,rash,trauma,change in sleep/weight\n",
      "ROS:Negative except as hpi\n",
      "fh:mother had migraine and father had HLD\n",
      "SSH:Denies smoking,drinks alcohol 2 -3 glasses on weekends cage 1/4,smoke weed,sexually active,protected intercourse.\n",
      "PMH/PSH/MEDS:oral contraceptives pills for birth control\n",
      "**********\n"
     ]
    }
   ],
   "source": [
    "for i, r in negative_samples.sample(3).iterrows():\n",
    "    print(r['pn_history'])\n",
    "    print('*'*10)"
   ]
  },
  {
   "cell_type": "code",
   "execution_count": 15,
   "metadata": {},
   "outputs": [
    {
     "data": {
      "text/plain": [
       "Index(['pn_num', 'case_num', 'pn_history'], dtype='object')"
      ]
     },
     "execution_count": 15,
     "metadata": {},
     "output_type": "execute_result"
    }
   ],
   "source": [
    "patient_notes.columns"
   ]
  },
  {
   "cell_type": "code",
   "execution_count": 18,
   "metadata": {},
   "outputs": [],
   "source": [
    "import pandas as pd\n",
    "def might_be_positive(r: pd.Series):\n",
    "    text = r['pn_history'].lower()\n",
    "    if r['case_num'] != 9: return False\n",
    "    return ('meningococcal' in text  or 'meningitis' in text) and ('shot' in text or 'vaccine' in text)"
   ]
  },
  {
   "cell_type": "code",
   "execution_count": 19,
   "metadata": {},
   "outputs": [
    {
     "name": "stdout",
     "output_type": "stream",
     "text": [
      "Number of possible positives: 55\n"
     ]
    }
   ],
   "source": [
    "possible_positives = patient_notes[patient_notes.apply(might_be_positive, axis=1)]\n",
    "print(f'Number of possible positives: {len(possible_positives)}')"
   ]
  },
  {
   "cell_type": "code",
   "execution_count": 20,
   "metadata": {},
   "outputs": [
    {
     "name": "stdout",
     "output_type": "stream",
     "text": [
      "20 yo F presents with a headache beginning yesterday morning. It woke her up and has been getting progressively worse since yesterday. She is unable to rate the pain on a scale of 10, just saying it is \"real bad.\" It is present all over her head. She has never had a headache like this before. It is associated with photophobia and nausea, and she has vomitied three times (non-bloody, non-bilious). She has tried ibuprofen, Tylenol, and sleep, but none of these have improved her headache. She has noticed that walking and bending forwards make her headache worse. She endorses feeling feverish. She is unsure if she received the meningococcal vaccine.\n",
      "PMH: none\n",
      "Meds: OCPs for 2 years\n",
      "Soc Hx: no tobacco use. 2-3 drinks/week, 3-4 marijuana joints/week.\n",
      "Fam Hx: mother with migraines, father with high cholesterol\n",
      "**********\n",
      "Stephanie Maddison is a 20 yo F presentign with 2 day hx of the worst headache that shes experienced.  Started in the morning 2 days ago.  assoicated with nausea and vomiting x3 bilious. Worse with walking and bending over.  Ibuprofen, tylenol and sleep don't help.  She feels warm and has nucal rigidity, but no rashes.  No trauma and feels safe at home.  No known sick contact, but works at sporting store.  Thinks she's uptodate on vaccines, but unsure of meningococcal.  unlike other headache that she gets 1-2 times per yr that feel like 20 min of tension. Pain in 8/10 and constant. Some cogestion (nsal)\n",
      "ob/gyn: sexually acitive 1 partner, OCP use, G0, LMP 2 wks ago\n",
      "PMH/PSH: none, Med: only ocp and otcs mentioned, allergies:nkda\n",
      "SH: occupation above, 2-3 drinks weekly 0/4 cage, no tobacco or illicit drug including IVDU\n",
      "FH: mother migraines, father HLD\n",
      "ros otherwise negative\n",
      "**********\n",
      "CC: Headache\n",
      "HPI: Pt is a 20 yo F who presents with HA that started yesterday morning when she woke up.  Denies similar episodes. the pain is all over her head and is very severe and worsening.  pain was unrelieved by NSAIDS, sleep. Pt also admits to photophobia, Nausea, and vomiting, but no anorexia or vision changes. Pt admits to \"feeling warm\" but no chills.  Denies sick contacts. Pt is unsure if she received the meningitis booster vaccine at 18yo.\n",
      "RoS; as above\n",
      "PMH: denies\n",
      "meds: oral contraceptive pills\n",
      "FH: mom-migraines. dad-HLD\n",
      "SH: works as salesperson.  lives with roommate. \n",
      "SexHx: sexually active with men.  uses condoms always\n",
      "Sugical Hx: denies\n",
      "**********\n",
      "HPI: 20 yo female with HA. HA started yesterday and is worse HA she has ever had. Head hurts all over, is associated with photophobia, neck stiffness and pain, subjective fever, body aches, runny nose. Endorses N/V with 3 episodes of emesis with food then green fluid. HA pain is worse with walking and bending over. Tried ibuprofen, tylenol and sleeping but they didn't help. No chest pain, SOB, weakness, numbness, tingling, change in vision. No change in bowel habits. Does not know if she recieved Meningitis vaccines. LMP 1 wk ago. \n",
      "ROS: Negative unless otherwise noted in HPI. Works at sport store. LIves with roomies.\n",
      "PMHx: None PSHx: None Meds: OCP Allergies: NKDA Family: Mom with migraines Social: Denies tobacco use. Drinks alcohol on weeks. Smokes weed 3-4x per week.\n",
      "**********\n"
     ]
    }
   ],
   "source": [
    "for t in possible_positives.sample(4)['pn_history']:\n",
    "    print(t)\n",
    "    print('*'*10)"
   ]
  },
  {
   "cell_type": "code",
   "execution_count": 38,
   "metadata": {},
   "outputs": [],
   "source": [
    "def get_all_idxs_of_occurrence(text: str, word: str):\n",
    "    occurrences = []\n",
    "    for idx in range(len(text)):\n",
    "        if text[idx:idx + len(word)] == word:\n",
    "            occurrences.append((idx, idx + len(word)))\n",
    "    return occurrences\n",
    "from functools import reduce\n",
    "def get_label(text: str):\n",
    "    words_to_label = {'meningococcal', 'meningitis', 'shot', 'vaccine'}\n",
    "    return list(reduce( lambda l1, l2: l1 + l2, [get_all_idxs_of_occurrence(text, w) for w in words_to_label], []))"
   ]
  },
  {
   "cell_type": "code",
   "execution_count": 42,
   "metadata": {},
   "outputs": [
    {
     "name": "stderr",
     "output_type": "stream",
     "text": [
      "/var/folders/bg/wpb6hx715v1dqhv8nbpkxnqr0000gn/T/ipykernel_8980/2954667393.py:1: SettingWithCopyWarning: \n",
      "A value is trying to be set on a copy of a slice from a DataFrame.\n",
      "Try using .loc[row_indexer,col_indexer] = value instead\n",
      "\n",
      "See the caveats in the documentation: https://pandas.pydata.org/pandas-docs/stable/user_guide/indexing.html#returning-a-view-versus-a-copy\n",
      "  possible_positives['location'] = possible_positives['pn_history'].str.lower().apply(get_label)\n"
     ]
    }
   ],
   "source": [
    "possible_positives['location'] = possible_positives['pn_history'].str.lower().apply(get_label)"
   ]
  },
  {
   "cell_type": "code",
   "execution_count": 43,
   "metadata": {},
   "outputs": [
    {
     "name": "stdout",
     "output_type": "stream",
     "text": [
      "20F with headaced that started yesterday when she woke up and has been constant and worsening in severity. It is dull and worse with walking and bending. She has tried ibuprofen, tylenol, and sleep and nothing has helped the pain. She did not rate the severity of the pain and said \"it is really bad.\" She vomitted three times yesterady, feels warm, and achy since yesterday. Her neck pain started yesterday and is achy and constant and worse with movement. She has a runny nose and sore throat as well. She denies sick contacts, recent travel. She has received high school vaccines but not college vaccines. Unaware of meningitis vaccine. \n",
      "PMH: none\n",
      "meds: birth control pill \n",
      "PSH none\n",
      "allergies none\n",
      "FH mom migraines and dad high cholesterol \n",
      "SH: 2-3 beers a week and no cigarette/tobacco, 3-4 joints of marijuana a week.\n",
      "[(620, 630), (574, 581), (599, 606), (631, 638)]\n",
      "meningitis\n",
      "vaccine\n",
      "vaccine\n",
      "vaccine\n",
      "**********\n",
      "Ms. Madden is a 20yo F presenting with headache. Onset was yesterday, has been progressive and constant. Rates it 8/10. pain is dull. Tried ibuprofen and aleeve but did not help. Walking, lights, and bending over make it worse. Neck pain and stiffness are present. She has also felt warm, has been vomiting, achy all over. No rash or changes in vison. She has had headaches in the past but nothing like this. Vaccinations are up to date but not sure if she had the meningitis vaccine. No sick contacts. Her throat has felt scrathy and rhinorrhea hs been present.\n",
      "ROS: no change in bowel habit\n",
      "PMH: healthy; no surgeries\n",
      "Meds: OCPs\n",
      "Allergies: none\n",
      "FH: migraine in her mother, high cholesterol in her father\n",
      "Social: drinks a few beers on weekends and a few joints during the week, no IV drug use. Sexually active with men, uses condoms. No STDs. Has been tested for HIV and is negative. Lives in an apartment and works at a sporting goods store.\n",
      "[(465, 475), (476, 483)]\n",
      "meningitis\n",
      "vaccine\n",
      "**********\n",
      "HPI: Pt is a 20 yo F with no PMHx who presents w/ a cc of a headache. Pt states headache started yesterday and has gotten worse, is associated with nausea, photophobia, 3 x emesis of food then bile, and subjective fever. Pt states headache is all over, dull, and constant ache (8/10 in severity) and worse with neck flexion. Pt has tried ibuprofen and tylenol, nothing has helped but dimming the lights helps some. Pt has never had a similar episode before. Pt denies exposure to sick contacts with meningitis but states she is unsure if she has had meningitis vaccine.\n",
      "PMHx: none\n",
      "PSHx: neg\n",
      "FHx: mother: migraine headaches father: high cholesterol sister: healthy\n",
      "SHx: denies tobacco use, 2-3 beers or wine on weeks, smokes THC 3-4 x week, works at sporting goods \n",
      "Gyn hx: LMP 2 wks ago, sexually active with male partner uses condoms and BC\n",
      "[(499, 509), (550, 560), (561, 568)]\n",
      "meningitis\n",
      "meningitis\n",
      "vaccine\n",
      "**********\n",
      "Stephanie Madden is a 20 year old female who presents with a severe headache. She awoke yesterday morning with the headache, and it has been constant since then. It is now an 8/10 in pain, and feels dull. She has thrown up three times since then, and it has not improved with over the counter medications. She says that the headache is worse with bright lights, and denies any changes in vision. She denies any recent trauma, liquid running out of her nose with leaning forward, and denies sick contacts. She is unsure of whether she has had a meningitis shot. She has had headaches in the past, but never any of this severity.\n",
      "\n",
      "Medications - Daily oral contraceptive pill use\n",
      "PMH - None\n",
      "Surgical history - None\n",
      "FHx - Mother has migraine disorder, dad has hyperlipidemia\n",
      "Social - Smokes 3-4 joints weekly, no tobacco, 2-3 beers or wine on weekends, uses condoms consistently with boyfriend\n",
      "[(544, 554), (555, 559)]\n",
      "meningitis\n",
      "shot\n",
      "**********\n"
     ]
    }
   ],
   "source": [
    "for idx, r in possible_positives.sample(4).iterrows():\n",
    "    print(r['pn_history'])\n",
    "    print(r['location'])\n",
    "    for (s, e) in r['location']:\n",
    "        print(r['pn_history'][s:e])\n",
    "    print('*'*10)"
   ]
  },
  {
   "cell_type": "code",
   "execution_count": null,
   "metadata": {},
   "outputs": [],
   "source": []
  }
 ],
 "metadata": {
  "interpreter": {
   "hash": "59811a21b6bdb79b6f1a3b21d01b6e64bb63c5c292a63d3c5cec461d0e515581"
  },
  "kernelspec": {
   "display_name": "Python 3.10.0 ('PersonalCoding')",
   "language": "python",
   "name": "python3"
  },
  "language_info": {
   "codemirror_mode": {
    "name": "ipython",
    "version": 3
   },
   "file_extension": ".py",
   "mimetype": "text/x-python",
   "name": "python",
   "nbconvert_exporter": "python",
   "pygments_lexer": "ipython3",
   "version": "3.10.0"
  },
  "orig_nbformat": 4
 },
 "nbformat": 4,
 "nbformat_minor": 2
}
